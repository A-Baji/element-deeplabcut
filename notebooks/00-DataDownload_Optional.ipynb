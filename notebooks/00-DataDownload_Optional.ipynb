{
 "cells": [
  {
   "cell_type": "markdown",
   "metadata": {
    "tags": []
   },
   "source": [
    "# DataJoint U24 - Workflow DeepLabCut"
   ]
  },
  {
   "cell_type": "markdown",
   "metadata": {},
   "source": [
    "## Download example data"
   ]
  },
  {
   "cell_type": "markdown",
   "metadata": {},
   "source": [
    "We've structured this tool around the example data available from the DLC. If you've already cloned the [main DLC repository](https://github.com/DeepLabCut/DeepLabCut), you already have this folder under `examples/openfield-Pranav-2018-10-30`."
   ]
  },
  {
   "cell_type": "markdown",
   "metadata": {},
   "source": [
    "[This link](https://downgit.github.io/#/home?url=https://github.com/DeepLabCut/DeepLabCut/tree/master/examples/openfield-Pranav-2018-10-30) via [DownGit](https://downgit.github.io/) will start the single-directory download \n",
    "automatically as a zip. Unpack this zip and place it in a directory we'll refer to as your root."
   ]
  },
  {
   "cell_type": "markdown",
   "metadata": {},
   "source": [
    "## Directory structure"
   ]
  },
  {
   "cell_type": "markdown",
   "metadata": {},
   "source": [
    "After downloading, the directory will be organized as follows within your chosen root\n",
    "directory.\n",
    "\n",
    "```\n",
    " /your-root/openfield-Pranav-2018-10-30/\n",
    "   - config.yaml\n",
    "   - labeled-data\n",
    "      - m4s1\n",
    "          - CollectedData_Pranav.csv\n",
    "          - CollectedData_Pranav.h5\n",
    "          - img0000.png\n",
    "          - img0001.png\n",
    "          - img0002.png\n",
    "          - img{...}.png\n",
    "          - img0114.png\n",
    "          - img0115.png\n",
    "   - videos\n",
    "       - m3v1mp4.mp4\n",
    "```"
   ]
  },
  {
   "cell_type": "markdown",
   "metadata": {},
   "source": [
    "For those unfamiliar with DLC...\n",
    "- `config.yaml` contains all the key parameters of the project, including\n",
    "   - file locations (currently empty)\n",
    "   - body parts\n",
    "   - cropping information\n",
    "- `labeled-data` includes the frames coordinates for each body part in the training video\n",
    "- `videos` includes the full training video for this example\n",
    "\n",
    "As part of the DeepLabCut demo setup process, you would run the following additional\n",
    "command, as outlined in their \n",
    "[demo notebook](https://github.com/DeepLabCut/DeepLabCut/blob/master/examples/JUPYTER/Demo_labeledexample_Openfield.ipynb).\n",
    "These establishes the project path within the demo config file as well as the `training-datasets` directory, which DLC will use for model training"
   ]
  },
  {
   "cell_type": "code",
   "execution_count": 1,
   "metadata": {},
   "outputs": [
    {
     "ename": "AttributeError",
     "evalue": "'CommentedSeq' object has no attribute 'keys'",
     "output_type": "error",
     "traceback": [
      "\u001b[0;31m---------------------------------------------------------------------------\u001b[0m",
      "\u001b[0;31mAttributeError\u001b[0m                            Traceback (most recent call last)",
      "\u001b[0;32m/var/folders/_9/tzvq__ws5z9gv5s7jvkj570r0000gn/T/ipykernel_1395/750526841.py\u001b[0m in \u001b[0;36m<module>\u001b[0;34m\u001b[0m\n\u001b[1;32m      2\u001b[0m \u001b[0myour_root\u001b[0m\u001b[0;34m=\u001b[0m\u001b[0;34m'/Volumes/GoogleDrive/My Drive/Dev/DeepLabCut/examples/JUPYTER/'\u001b[0m\u001b[0;34m\u001b[0m\u001b[0;34m\u001b[0m\u001b[0m\n\u001b[1;32m      3\u001b[0m \u001b[0;32mfrom\u001b[0m \u001b[0mdeeplabcut\u001b[0m\u001b[0;34m.\u001b[0m\u001b[0mcreate_project\u001b[0m\u001b[0;34m.\u001b[0m\u001b[0mdemo_data\u001b[0m \u001b[0;32mimport\u001b[0m \u001b[0mload_demo_data\u001b[0m\u001b[0;34m\u001b[0m\u001b[0;34m\u001b[0m\u001b[0m\n\u001b[0;32m----> 4\u001b[0;31m \u001b[0mload_demo_data\u001b[0m\u001b[0;34m(\u001b[0m\u001b[0myour_root\u001b[0m\u001b[0;34m+\u001b[0m\u001b[0;34m'/openfield-Pranav-2018-10-30/config.yaml'\u001b[0m\u001b[0;34m)\u001b[0m\u001b[0;34m\u001b[0m\u001b[0;34m\u001b[0m\u001b[0m\n\u001b[0m",
      "\u001b[0;32m~/miniconda3/envs/venv-dlc/lib/python3.8/site-packages/deeplabcut/create_project/demo_data.py\u001b[0m in \u001b[0;36mload_demo_data\u001b[0;34m(config, createtrainingset)\u001b[0m\n\u001b[1;32m     37\u001b[0m     \u001b[0mconfig\u001b[0m \u001b[0;34m=\u001b[0m \u001b[0mstr\u001b[0m\u001b[0;34m(\u001b[0m\u001b[0mconfig\u001b[0m\u001b[0;34m)\u001b[0m\u001b[0;34m\u001b[0m\u001b[0;34m\u001b[0m\u001b[0m\n\u001b[1;32m     38\u001b[0m \u001b[0;34m\u001b[0m\u001b[0m\n\u001b[0;32m---> 39\u001b[0;31m     \u001b[0mtransform_data\u001b[0m\u001b[0;34m(\u001b[0m\u001b[0mconfig\u001b[0m\u001b[0;34m)\u001b[0m\u001b[0;34m\u001b[0m\u001b[0;34m\u001b[0m\u001b[0m\n\u001b[0m\u001b[1;32m     40\u001b[0m     \u001b[0;32mif\u001b[0m \u001b[0mcreatetrainingset\u001b[0m\u001b[0;34m:\u001b[0m\u001b[0;34m\u001b[0m\u001b[0;34m\u001b[0m\u001b[0m\n\u001b[1;32m     41\u001b[0m         \u001b[0mprint\u001b[0m\u001b[0;34m(\u001b[0m\u001b[0;34m\"Loaded, now creating training data...\"\u001b[0m\u001b[0;34m)\u001b[0m\u001b[0;34m\u001b[0m\u001b[0;34m\u001b[0m\u001b[0m\n",
      "\u001b[0;32m~/miniconda3/envs/venv-dlc/lib/python3.8/site-packages/deeplabcut/create_project/demo_data.py\u001b[0m in \u001b[0;36mtransform_data\u001b[0;34m(config)\u001b[0m\n\u001b[1;32m     60\u001b[0m         \u001b[0mprint\u001b[0m\u001b[0;34m(\u001b[0m\u001b[0;34m\"This is not an offical demo dataset.\"\u001b[0m\u001b[0;34m)\u001b[0m\u001b[0;34m\u001b[0m\u001b[0;34m\u001b[0m\u001b[0m\n\u001b[1;32m     61\u001b[0m \u001b[0;34m\u001b[0m\u001b[0m\n\u001b[0;32m---> 62\u001b[0;31m     \u001b[0;32mif\u001b[0m \u001b[0;34m\"WILL BE AUTOMATICALLY UPDATED BY DEMO CODE\"\u001b[0m \u001b[0;32min\u001b[0m \u001b[0mcfg\u001b[0m\u001b[0;34m[\u001b[0m\u001b[0;34m\"video_sets\"\u001b[0m\u001b[0;34m]\u001b[0m\u001b[0;34m.\u001b[0m\u001b[0mkeys\u001b[0m\u001b[0;34m(\u001b[0m\u001b[0;34m)\u001b[0m\u001b[0;34m:\u001b[0m\u001b[0;34m\u001b[0m\u001b[0;34m\u001b[0m\u001b[0m\n\u001b[0m\u001b[1;32m     63\u001b[0m         cfg[\"video_sets\"][str(video_file)] = cfg[\"video_sets\"].pop(\n\u001b[1;32m     64\u001b[0m             \u001b[0;34m\"WILL BE AUTOMATICALLY UPDATED BY DEMO CODE\"\u001b[0m\u001b[0;34m\u001b[0m\u001b[0;34m\u001b[0m\u001b[0m\n",
      "\u001b[0;31mAttributeError\u001b[0m: 'CommentedSeq' object has no attribute 'keys'"
     ]
    }
   ],
   "source": [
    "your_root='/fill/in/your/root/with\\ escaped\\ spaces'\n",
    "from deeplabcut.create_project.demo_data import load_demo_data\n",
    "load_demo_data(your_root+'/openfield-Pranav-2018-10-30/config.yaml')"
   ]
  },
  {
   "cell_type": "markdown",
   "metadata": {},
   "source": [
    "For your own data, we recommend using the DLC gui to intitialize your project and label the data. "
   ]
  },
  {
   "cell_type": "markdown",
   "metadata": {},
   "source": [
    "## Make new video"
   ]
  },
  {
   "cell_type": "markdown",
   "metadata": {},
   "source": [
    "Later, we'll use the first few seconds of the training video as a 'separate session' to model\n",
    "the pose estimation feature of this pipeline. `ffmpeg` is a dependency of DeepLabCut\n",
    "that can splice the training video for a demonstration purposes. The command below saves\n",
    "the first 2 seconds of the training video as a copy.\n",
    "\n",
    "- `-n` do not overwrite\n",
    "- `-hide_banner -loglevel error` less verbose output\n",
    "- `-ss 0 -t 2` start at second 0, add 2 seconds\n",
    "- `-i {vid_path}` input this video\n",
    "- `-{v/a}codec copy` copy the video and audio codecs of the input\n",
    "- `{vid_path}-copy.mp4` output file"
   ]
  },
  {
   "cell_type": "code",
   "execution_count": 3,
   "metadata": {
    "tags": []
   },
   "outputs": [
    {
     "data": {
      "text/plain": [
       "0"
      ]
     },
     "execution_count": 3,
     "metadata": {},
     "output_type": "execute_result"
    }
   ],
   "source": [
    "vid_path = your_root + '/openfield-Pranav-2018-10-30/videos/m3v1mp4'\n",
    "cmd = (f'ffmpeg -n -hide_banner -loglevel error -ss 0 -t 2 -i {vid_path}.mp4 '\n",
    "       + f'-vcodec copy -acodec copy {vid_path}-copy.mp4')\n",
    "import os; os.system(cmd)"
   ]
  },
  {
   "cell_type": "markdown",
   "metadata": {},
   "source": [
    "In the next notebook, [01-Configure](./01-Configure.ipynb), we'll set up the DataJoint config file with a pointer to your root data directory."
   ]
  }
 ],
 "metadata": {
  "jupytext": {
   "formats": "ipynb,py:percent"
  },
  "kernelspec": {
   "display_name": "venv-dlc",
   "language": "python",
   "name": "venv-dlc"
  },
  "language_info": {
   "codemirror_mode": {
    "name": "ipython",
    "version": 3
   },
   "file_extension": ".py",
   "mimetype": "text/x-python",
   "name": "python",
   "nbconvert_exporter": "python",
   "pygments_lexer": "ipython3",
   "version": "3.8.12"
  },
  "toc-autonumbering": false,
  "toc-showcode": false,
  "toc-showmarkdowntxt": false
 },
 "nbformat": 4,
 "nbformat_minor": 4
}
