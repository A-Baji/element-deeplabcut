{
 "cells": [
  {
   "cell_type": "code",
   "execution_count": 1,
   "metadata": {},
   "outputs": [],
   "source": [
    "import os\n",
    "if os.path.basename(os.getcwd())=='notebooks': os.chdir('..')\n",
    "assert os.path.basename(os.getcwd())=='element-deeplabcut', (\"Please move to the \"\n",
    "                                                              + \"element directory\")"
   ]
  },
  {
   "cell_type": "code",
   "execution_count": 2,
   "metadata": {},
   "outputs": [],
   "source": [
    "import datajoint as dj\n",
    "from pathlib import Path\n",
    "import yaml"
   ]
  },
  {
   "cell_type": "code",
   "execution_count": 3,
   "metadata": {},
   "outputs": [
    {
     "name": "stderr",
     "output_type": "stream",
     "text": [
      "[2023-10-12 01:17:45,270][INFO]: Connecting root@fakeservices.datajoint.io:3306\n",
      "[2023-10-12 01:17:45,278][INFO]: Connected root@fakeservices.datajoint.io:3306\n"
     ]
    },
    {
     "data": {
      "text/plain": [
       "DataJoint connection (connected) root@fakeservices.datajoint.io:3306"
      ]
     },
     "execution_count": 3,
     "metadata": {},
     "output_type": "execute_result"
    }
   ],
   "source": [
    "dj.conn()"
   ]
  },
  {
   "cell_type": "code",
   "execution_count": 4,
   "metadata": {},
   "outputs": [
    {
     "name": "stderr",
     "output_type": "stream",
     "text": [
      "[2023-10-12 01:17:45,437][WARNING]: lab.Project and related tables will be removed in a future version of Element Lab. Please use the project schema.\n"
     ]
    }
   ],
   "source": [
    "from tutorial_pipeline import lab, subject, session, train, model  "
   ]
  },
  {
   "cell_type": "code",
   "execution_count": null,
   "metadata": {},
   "outputs": [],
   "source": [
    "dj.list_schemas()"
   ]
  },
  {
   "cell_type": "code",
   "execution_count": null,
   "metadata": {},
   "outputs": [],
   "source": [
    "dj.config"
   ]
  },
  {
   "cell_type": "code",
   "execution_count": 5,
   "metadata": {},
   "outputs": [],
   "source": [
    "from element_interface.utils import find_full_path\n",
    "data_dir = find_full_path(dj.config['custom']['dlc_root_data_dir'], # root from config\n",
    "                          dj.config['custom']['current_project_folder'])       \n"
   ]
  },
  {
   "cell_type": "code",
   "execution_count": 6,
   "metadata": {},
   "outputs": [
    {
     "data": {
      "text/plain": [
       "PosixPath('/workspaces/element-deeplabcut/example_data/from_top_tracking')"
      ]
     },
     "execution_count": 6,
     "metadata": {},
     "output_type": "execute_result"
    }
   ],
   "source": [
    "data_dir"
   ]
  },
  {
   "cell_type": "code",
   "execution_count": 7,
   "metadata": {},
   "outputs": [],
   "source": [
    "### DLC needs absolute paths\n",
    "### DataJoint uses relative paths\n",
    "\n",
    "#dj_config_file -> modify the config uploaded to have the full paths instead, we don't change raw data. \n",
    "\n",
    "### DLC Project\n",
    "dlc_project_path_abs = Path(dj.config[\"custom\"][\"dlc_root_data_dir\"]) / Path(\n",
    "    dj.config[\"custom\"][\"current_project_folder\"]\n",
    ")  # use pathlib to join; abs path\n",
    "\n",
    "dlc_project_folder = Path(\n",
    "    dj.config[\"custom\"][\"current_project_folder\"]\n",
    ")  # relative path\n",
    "\n",
    "### Config file\n",
    "config_file_abs = dlc_project_path_abs / \"config.yaml\"  # abs path\n",
    "assert (\n",
    "    config_file_abs.exists()\n",
    "), \"Please check the that you have the from_top_tracking folder\"\n",
    "\n",
    "config_file_rel = config_file_abs.relative_to(Path(dj.config[\"custom\"][\"dlc_root_data_dir\"]).parent)\n",
    "\n",
    "### Labeled-data\n",
    "#labeled_data_path_abs = dlc_project_path_abs / \"labeled-data\" / \"train_video\"\n",
    "labeled_data_path_abs = dlc_project_path_abs / \"labeled-data\" \n",
    "labeled_files_rel = os.listdir(labeled_data_path_abs / \"train1\") \n"
   ]
  },
  {
   "cell_type": "code",
   "execution_count": 8,
   "metadata": {},
   "outputs": [
    {
     "data": {
      "text/plain": [
       "PosixPath('example_data/from_top_tracking/config.yaml')"
      ]
     },
     "execution_count": 8,
     "metadata": {},
     "output_type": "execute_result"
    }
   ],
   "source": [
    "config_file_rel"
   ]
  },
  {
   "cell_type": "code",
   "execution_count": 9,
   "metadata": {},
   "outputs": [
    {
     "data": {
      "text/plain": [
       "['CollectedData_DJ.csv',\n",
       " 'CollectedData_DJ.h5',\n",
       " 'img00674.png',\n",
       " 'img02507.png',\n",
       " 'img03417.png',\n",
       " 'img04243.png',\n",
       " 'img07087.png',\n",
       " 'img10817.png',\n",
       " 'img10854.png',\n",
       " 'img10997.png',\n",
       " 'img13211.png',\n",
       " 'img13538.png',\n",
       " 'img15154.png',\n",
       " 'img15553.png',\n",
       " 'img17741.png',\n",
       " 'img20640.png',\n",
       " 'img20796.png',\n",
       " 'img23499.png',\n",
       " 'img26252.png',\n",
       " 'img26419.png',\n",
       " 'img29448.png',\n",
       " 'img29883.png',\n",
       " 'img32079.png',\n",
       " 'img32500.png',\n",
       " 'img33628.png',\n",
       " 'img35209.png',\n",
       " 'img36905.png',\n",
       " 'img37720.png',\n",
       " 'img39434.png',\n",
       " 'img40578.png',\n",
       " 'img40733.png',\n",
       " 'img41989.png',\n",
       " 'img43673.png',\n",
       " 'img45967.png',\n",
       " 'img46726.png',\n",
       " 'img46858.png',\n",
       " 'img47791.png',\n",
       " 'img51645.png',\n",
       " 'img54116.png',\n",
       " 'img56508.png',\n",
       " 'img57346.png',\n",
       " 'img59317.png']"
      ]
     },
     "execution_count": 9,
     "metadata": {},
     "output_type": "execute_result"
    }
   ],
   "source": [
    "labeled_files_rel"
   ]
  },
  {
   "cell_type": "code",
   "execution_count": null,
   "metadata": {},
   "outputs": [],
   "source": [
    "(\n",
    "    dj.Diagram(subject) \n",
    "    + dj.Diagram(lab) \n",
    "    + dj.Diagram(session) \n",
    "    + dj.Diagram(model) \n",
    "    + dj.Diagram(train)\n",
    ")"
   ]
  },
  {
   "cell_type": "code",
   "execution_count": null,
   "metadata": {},
   "outputs": [],
   "source": [
    "dj.Diagram(model) + dj.Diagram(train)"
   ]
  },
  {
   "cell_type": "code",
   "execution_count": 10,
   "metadata": {},
   "outputs": [
    {
     "data": {
      "text/html": [
       "\n",
       "    \n",
       "    <style type=\"text/css\">\n",
       "        .Relation{\n",
       "            border-collapse:collapse;\n",
       "        }\n",
       "        .Relation th{\n",
       "            background: #A0A0A0; color: #ffffff; padding:4px; border:#f0e0e0 1px solid;\n",
       "            font-weight: normal; font-family: monospace; font-size: 100%;\n",
       "        }\n",
       "        .Relation td{\n",
       "            padding:4px; border:#f0e0e0 1px solid; font-size:100%;\n",
       "        }\n",
       "        .Relation tr:nth-child(odd){\n",
       "            background: #ffffff;\n",
       "        }\n",
       "        .Relation tr:nth-child(even){\n",
       "            background: #f3f1ff;\n",
       "        }\n",
       "        /* Tooltip container */\n",
       "        .djtooltip {\n",
       "        }\n",
       "        /* Tooltip text */\n",
       "        .djtooltip .djtooltiptext {\n",
       "            visibility: hidden;\n",
       "            width: 120px;\n",
       "            background-color: black;\n",
       "            color: #fff;\n",
       "            text-align: center;\n",
       "            padding: 5px 0;\n",
       "            border-radius: 6px;\n",
       "            /* Position the tooltip text - see examples below! */\n",
       "            position: absolute;\n",
       "            z-index: 1;\n",
       "        }\n",
       "        #primary {\n",
       "            font-weight: bold;\n",
       "            color: black;\n",
       "        }\n",
       "        #nonprimary {\n",
       "            font-weight: normal;\n",
       "            color: white;\n",
       "        }\n",
       "\n",
       "        /* Show the tooltip text when you mouse over the tooltip container */\n",
       "        .djtooltip:hover .djtooltiptext {\n",
       "            visibility: visible;\n",
       "        }\n",
       "    </style>\n",
       "    \n",
       "    <b></b>\n",
       "        <div style=\"max-height:1000px;max-width:1500px;overflow:auto;\">\n",
       "        <table border=\"1\" class=\"Relation\">\n",
       "            <thead> <tr style=\"text-align: right;\"> <th> <div class=\"djtooltip\">\n",
       "                            <p id=\"primary\">subject</p>\n",
       "                            <span class=\"djtooltiptext\"></span>\n",
       "                        </div></th><th><div class=\"djtooltip\">\n",
       "                            <p id=\"nonprimary\">subject_nickname</p>\n",
       "                            <span class=\"djtooltiptext\"></span>\n",
       "                        </div></th><th><div class=\"djtooltip\">\n",
       "                            <p id=\"nonprimary\">sex</p>\n",
       "                            <span class=\"djtooltiptext\"></span>\n",
       "                        </div></th><th><div class=\"djtooltip\">\n",
       "                            <p id=\"nonprimary\">subject_birth_date</p>\n",
       "                            <span class=\"djtooltiptext\"></span>\n",
       "                        </div></th><th><div class=\"djtooltip\">\n",
       "                            <p id=\"nonprimary\">subject_description</p>\n",
       "                            <span class=\"djtooltiptext\"></span>\n",
       "                        </div> </th> </tr> </thead>\n",
       "            <tbody> <tr> <td>subject6</td>\n",
       "<td></td>\n",
       "<td>F</td>\n",
       "<td>2020-01-01</td>\n",
       "<td>hneih_E105</td> </tr> </tbody>\n",
       "        </table>\n",
       "        \n",
       "        <p>Total: 1</p></div>\n",
       "        "
      ],
      "text/plain": [
       "*subject     subject_nickna sex     subject_birth_ subject_descri\n",
       "+----------+ +------------+ +-----+ +------------+ +------------+\n",
       "subject6                    F       2020-01-01     hneih_E105    \n",
       " (Total: 1)"
      ]
     },
     "execution_count": 10,
     "metadata": {},
     "output_type": "execute_result"
    }
   ],
   "source": [
    "subject.Subject()"
   ]
  },
  {
   "cell_type": "code",
   "execution_count": null,
   "metadata": {},
   "outputs": [],
   "source": [
    "# Subject and Session tables\n",
    "subject.Subject.insert1(\n",
    "    dict(\n",
    "        subject=\"subject6\",\n",
    "        sex=\"F\",\n",
    "        subject_birth_date=\"2020-01-01\",\n",
    "        subject_description=\"hneih_E105\",\n",
    "    ),\n",
    "    skip_duplicates=True,\n",
    ")"
   ]
  },
  {
   "cell_type": "code",
   "execution_count": null,
   "metadata": {},
   "outputs": [],
   "source": [
    "#Definition of the dictionary named \"session_keys\"\n",
    "session_keys = [\n",
    "    dict(subject=\"subject6\", session_datetime=\"2021-06-02 14:04:22\"),\n",
    "    dict(subject=\"subject6\", session_datetime=\"2021-06-03 14:43:10\"),\n",
    "]\n",
    "\n",
    "#Insert this dictionary in the Session table\n",
    "session.Session.insert(session_keys, skip_duplicates=True)\n",
    "session.Session()"
   ]
  },
  {
   "cell_type": "code",
   "execution_count": null,
   "metadata": {},
   "outputs": [],
   "source": [
    "session.SessionDirectory() #for the worker? is it needed?"
   ]
  },
  {
   "cell_type": "code",
   "execution_count": 17,
   "metadata": {},
   "outputs": [],
   "source": [
    "# Videoset table \n",
    "train.VideoSet.insert1({\"video_set_id\": 1}, skip_duplicates=True)\n",
    "\n",
    "for idx, filename in enumerate(labeled_files_rel):\n",
    "    train.VideoSet.File.insert1(\n",
    "        {\n",
    "            \"video_set_id\": 1, \n",
    "            \"file_id\": idx, \n",
    "            \"file_path\": (dlc_project_folder / \"labeled-data\" / \"train1\" / filename).as_posix() \n",
    "            #\"file_path\": dlc_project_folder / \"labeled-data\" / \"train_video\" / filename \n",
    "        },\n",
    "        skip_duplicates=True\n",
    "    )  "
   ]
  },
  {
   "cell_type": "code",
   "execution_count": null,
   "metadata": {},
   "outputs": [],
   "source": [
    "vr_file_insert = dict(subject='test_sub',session_id=1,recording_id=0, file_id=0, file_path='')"
   ]
  },
  {
   "cell_type": "code",
   "execution_count": 18,
   "metadata": {},
   "outputs": [
    {
     "data": {
      "text/plain": [
       "array([], dtype=object)"
      ]
     },
     "execution_count": 18,
     "metadata": {},
     "output_type": "execute_result"
    }
   ],
   "source": [
    "model.VideoRecording.File().fetch('file_path')"
   ]
  },
  {
   "cell_type": "code",
   "execution_count": null,
   "metadata": {},
   "outputs": [],
   "source": [
    "vr_file_insert = dict(subject='test_sub',session_id=3,recording_id=0,file_id=0,file_path='from_top_tracking/videos/test_video.mp4')\n",
    "model.VideoRecording.File.insert1(vr_file_insert)"
   ]
  },
  {
   "cell_type": "code",
   "execution_count": 19,
   "metadata": {},
   "outputs": [
    {
     "data": {
      "text/html": [
       "\n",
       "    \n",
       "    <style type=\"text/css\">\n",
       "        .Relation{\n",
       "            border-collapse:collapse;\n",
       "        }\n",
       "        .Relation th{\n",
       "            background: #A0A0A0; color: #ffffff; padding:4px; border:#f0e0e0 1px solid;\n",
       "            font-weight: normal; font-family: monospace; font-size: 100%;\n",
       "        }\n",
       "        .Relation td{\n",
       "            padding:4px; border:#f0e0e0 1px solid; font-size:100%;\n",
       "        }\n",
       "        .Relation tr:nth-child(odd){\n",
       "            background: #ffffff;\n",
       "        }\n",
       "        .Relation tr:nth-child(even){\n",
       "            background: #f3f1ff;\n",
       "        }\n",
       "        /* Tooltip container */\n",
       "        .djtooltip {\n",
       "        }\n",
       "        /* Tooltip text */\n",
       "        .djtooltip .djtooltiptext {\n",
       "            visibility: hidden;\n",
       "            width: 120px;\n",
       "            background-color: black;\n",
       "            color: #fff;\n",
       "            text-align: center;\n",
       "            padding: 5px 0;\n",
       "            border-radius: 6px;\n",
       "            /* Position the tooltip text - see examples below! */\n",
       "            position: absolute;\n",
       "            z-index: 1;\n",
       "        }\n",
       "        #primary {\n",
       "            font-weight: bold;\n",
       "            color: black;\n",
       "        }\n",
       "        #nonprimary {\n",
       "            font-weight: normal;\n",
       "            color: white;\n",
       "        }\n",
       "\n",
       "        /* Show the tooltip text when you mouse over the tooltip container */\n",
       "        .djtooltip:hover .djtooltiptext {\n",
       "            visibility: visible;\n",
       "        }\n",
       "    </style>\n",
       "    \n",
       "    <b></b>\n",
       "        <div style=\"max-height:1000px;max-width:1500px;overflow:auto;\">\n",
       "        <table border=\"1\" class=\"Relation\">\n",
       "            <thead> <tr style=\"text-align: right;\"> <th> <div class=\"djtooltip\">\n",
       "                            <p id=\"primary\">subject</p>\n",
       "                            <span class=\"djtooltiptext\"></span>\n",
       "                        </div></th><th><div class=\"djtooltip\">\n",
       "                            <p id=\"primary\">session_datetime</p>\n",
       "                            <span class=\"djtooltiptext\"></span>\n",
       "                        </div></th><th><div class=\"djtooltip\">\n",
       "                            <p id=\"primary\">recording_id</p>\n",
       "                            <span class=\"djtooltiptext\"></span>\n",
       "                        </div></th><th><div class=\"djtooltip\">\n",
       "                            <p id=\"primary\">file_id</p>\n",
       "                            <span class=\"djtooltiptext\"></span>\n",
       "                        </div></th><th><div class=\"djtooltip\">\n",
       "                            <p id=\"nonprimary\">file_path</p>\n",
       "                            <span class=\"djtooltiptext\">filepath of video, relative to root data directory</span>\n",
       "                        </div> </th> </tr> </thead>\n",
       "            <tbody> <tr>  </tr> </tbody>\n",
       "        </table>\n",
       "        \n",
       "        <p>Total: 0</p></div>\n",
       "        "
      ],
      "text/plain": [
       "*subject    *session_datet *recording_id  *file_id    file_path    \n",
       "+---------+ +------------+ +------------+ +---------+ +-----------+\n",
       "\n",
       " (Total: 0)"
      ]
     },
     "execution_count": 19,
     "metadata": {},
     "output_type": "execute_result"
    }
   ],
   "source": [
    "model.VideoRecording.File()"
   ]
  },
  {
   "cell_type": "code",
   "execution_count": null,
   "metadata": {},
   "outputs": [],
   "source": [
    "model.BodyPart.heading\n"
   ]
  },
  {
   "cell_type": "code",
   "execution_count": 27,
   "metadata": {},
   "outputs": [
    {
     "name": "stdout",
     "output_type": "stream",
     "text": [
      "--- DLC Model specification to be inserted ---\n",
      "\tmodel_name: from_top_tracking_model_test\n",
      "\tmodel_description: Model in example data: from_top_tracking model\n",
      "\tscorer: DLCmobnet100fromtoptrackingFeb23shuffle1\n",
      "\ttask: from_top_tracking\n",
      "\tdate: Feb23\n",
      "\titeration: 0\n",
      "\tsnapshotindex: -1\n",
      "\tshuffle: 1\n",
      "\ttrainingsetindex: 0\n",
      "\tproject_path: from_top_tracking\n",
      "\tparamset_idx: 0\n",
      "\t-- Template/Contents of config.yaml --\n",
      "\t\tTask: from_top_tracking\n",
      "\t\tscorer: DJ\n",
      "\t\tdate: Feb23\n",
      "\t\tvideo_sets: {'videos/train1.mp4': {'crop': '0, 500, 0, 500'}}\n",
      "\t\tbodyparts: ['head', 'bodycenter', 'tailbase']\n",
      "\t\tstart: 0\n",
      "\t\tstop: 1\n",
      "\t\tnumframes2pick: 20\n",
      "\t\tpcutoff: 0.6\n",
      "\t\tdotsize: 3\n",
      "\t\talphavalue: 0.7\n",
      "\t\tcolormap: viridis\n",
      "\t\tTrainingFraction: [0.95]\n",
      "\t\titeration: 0\n",
      "\t\tdefault_net_type: resnet_50\n",
      "\t\tsnapshotindex: -1\n",
      "\t\tbatch_size: 8\n",
      "\t\tcropping: False\n",
      "\t\tx1: 0\n",
      "\t\tx2: 640\n",
      "\t\ty1: 277\n",
      "\t\ty2: 624\n",
      "\t\tcorner2move2: [50, 50]\n",
      "\t\tmove2corner: True\n",
      "\t\tcroppedtraining: None\n",
      "\t\tdefault_augmenter: default\n",
      "\t\tidentity: None\n",
      "\t\tmaxiters: 5\n",
      "\t\tmodelprefix: \n",
      "\t\tmultianimalproject: False\n",
      "\t\tscorer_legacy: False\n",
      "\t\tshuffle: 1\n",
      "\t\tskeleton: [['bodypart1', 'bodypart2'], ['objectA', 'bodypart3']]\n",
      "\t\tskeleton_color: black\n",
      "\t\ttrain_fraction: 0.95\n",
      "\t\ttrainingsetindex: 0\n",
      "\t\tproject_path: /workspaces/element-deeplabcut/example_data/from_top_tracking\n"
     ]
    },
    {
     "ename": "PermissionError",
     "evalue": "[Errno 1] Operation not permitted: '/workspaces/element-deeplabcut/example_data/from_top_tracking/dj_dlc_config.yaml'",
     "output_type": "error",
     "traceback": [
      "\u001b[0;31m---------------------------------------------------------------------------\u001b[0m",
      "\u001b[0;31mPermissionError\u001b[0m                           Traceback (most recent call last)",
      "Cell \u001b[0;32mIn[27], line 1\u001b[0m\n\u001b[0;32m----> 1\u001b[0m model\u001b[39m.\u001b[39;49mModel\u001b[39m.\u001b[39;49minsert_new_model(model_name\u001b[39m=\u001b[39;49m\u001b[39m'\u001b[39;49m\u001b[39mfrom_top_tracking_model_test\u001b[39;49m\u001b[39m'\u001b[39;49m,dlc_config\u001b[39m=\u001b[39;49mconfig_file_rel,\n\u001b[1;32m      2\u001b[0m                              shuffle\u001b[39m=\u001b[39;49m\u001b[39m1\u001b[39;49m,\n\u001b[1;32m      3\u001b[0m                              trainingsetindex\u001b[39m=\u001b[39;49m\u001b[39m0\u001b[39;49m,\n\u001b[1;32m      4\u001b[0m                              model_description\u001b[39m=\u001b[39;49m\u001b[39m'\u001b[39;49m\u001b[39mModel in example data: from_top_tracking model\u001b[39;49m\u001b[39m'\u001b[39;49m,\n\u001b[1;32m      5\u001b[0m                              paramset_idx\u001b[39m=\u001b[39;49m\u001b[39m0\u001b[39;49m,\n\u001b[1;32m      6\u001b[0m                              params\u001b[39m=\u001b[39;49m{\u001b[39m\"\u001b[39;49m\u001b[39msnapshotindex\u001b[39;49m\u001b[39m\"\u001b[39;49m:\u001b[39m-\u001b[39;49m\u001b[39m1\u001b[39;49m,\n\u001b[1;32m      7\u001b[0m                                     \u001b[39m\"\u001b[39;49m\u001b[39mproject_path\u001b[39;49m\u001b[39m\"\u001b[39;49m:dlc_project_folder})\n",
      "File \u001b[0;32m/workspaces/element-deeplabcut/element_deeplabcut/model.py:456\u001b[0m, in \u001b[0;36mModel.insert_new_model\u001b[0;34m(cls, model_name, dlc_config, shuffle, trainingsetindex, project_path, model_description, model_prefix, paramset_idx, prompt, params)\u001b[0m\n\u001b[1;32m    454\u001b[0m     \u001b[39mreturn\u001b[39;00m\n\u001b[1;32m    455\u001b[0m \u001b[39m# ---- Save DJ-managed config ----\u001b[39;00m\n\u001b[0;32m--> 456\u001b[0m _ \u001b[39m=\u001b[39m dlc_reader\u001b[39m.\u001b[39;49msave_yaml(project_path, dlc_config)\n\u001b[1;32m    457\u001b[0m \u001b[39m# ____ Insert into table ----\u001b[39;00m\n\u001b[1;32m    458\u001b[0m \u001b[39mwith\u001b[39;00m \u001b[39mcls\u001b[39m\u001b[39m.\u001b[39mconnection\u001b[39m.\u001b[39mtransaction:\n",
      "File \u001b[0;32m/workspaces/element-deeplabcut/element_deeplabcut/readers/dlc_reader.py:247\u001b[0m, in \u001b[0;36msave_yaml\u001b[0;34m(output_dir, config_dict, filename, mkdir)\u001b[0m\n\u001b[1;32m    244\u001b[0m     filename \u001b[39m=\u001b[39m filename\u001b[39m.\u001b[39msplit(\u001b[39m\"\u001b[39m\u001b[39m.\u001b[39m\u001b[39m\"\u001b[39m)[\u001b[39m0\u001b[39m]\n\u001b[1;32m    246\u001b[0m output_filepath \u001b[39m=\u001b[39m Path(output_dir) \u001b[39m/\u001b[39m \u001b[39mf\u001b[39m\u001b[39m\"\u001b[39m\u001b[39m{\u001b[39;00mfilename\u001b[39m}\u001b[39;00m\u001b[39m.yaml\u001b[39m\u001b[39m\"\u001b[39m\n\u001b[0;32m--> 247\u001b[0m write_config(output_filepath, config_dict)\n\u001b[1;32m    248\u001b[0m \u001b[39mreturn\u001b[39;00m \u001b[39mstr\u001b[39m(output_filepath)\n",
      "File \u001b[0;32m/usr/local/lib/python3.9/site-packages/deeplabcut/utils/auxiliaryfunctions.py:217\u001b[0m, in \u001b[0;36mwrite_config\u001b[0;34m(configname, cfg)\u001b[0m\n\u001b[1;32m    213\u001b[0m \u001b[39mdef\u001b[39;00m \u001b[39mwrite_config\u001b[39m(configname, cfg):\n\u001b[1;32m    214\u001b[0m \u001b[39m    \u001b[39m\u001b[39m\"\"\"\u001b[39;00m\n\u001b[1;32m    215\u001b[0m \u001b[39m    Write structured config file.\u001b[39;00m\n\u001b[1;32m    216\u001b[0m \u001b[39m    \"\"\"\u001b[39;00m\n\u001b[0;32m--> 217\u001b[0m     \u001b[39mwith\u001b[39;00m \u001b[39mopen\u001b[39;49m(configname, \u001b[39m\"\u001b[39;49m\u001b[39mw\u001b[39;49m\u001b[39m\"\u001b[39;49m) \u001b[39mas\u001b[39;00m cf:\n\u001b[1;32m    218\u001b[0m         cfg_file, ruamelFile \u001b[39m=\u001b[39m create_config_template(\n\u001b[1;32m    219\u001b[0m             cfg\u001b[39m.\u001b[39mget(\u001b[39m\"\u001b[39m\u001b[39mmultianimalproject\u001b[39m\u001b[39m\"\u001b[39m, \u001b[39mFalse\u001b[39;00m)\n\u001b[1;32m    220\u001b[0m         )\n\u001b[1;32m    221\u001b[0m         \u001b[39mfor\u001b[39;00m key \u001b[39min\u001b[39;00m cfg\u001b[39m.\u001b[39mkeys():\n",
      "\u001b[0;31mPermissionError\u001b[0m: [Errno 1] Operation not permitted: '/workspaces/element-deeplabcut/example_data/from_top_tracking/dj_dlc_config.yaml'"
     ]
    }
   ],
   "source": [
    "model.Model.insert_new_model(model_name='from_top_tracking_model_test',dlc_config=config_file_rel,\n",
    "                             shuffle=1,\n",
    "                             trainingsetindex=0,\n",
    "                             model_description='Model in example data: from_top_tracking model',\n",
    "                             paramset_idx=0,\n",
    "                             params={\"snapshotindex\":-1,\n",
    "                                    \"project_path\":dlc_project_folder})"
   ]
  },
  {
   "cell_type": "code",
   "execution_count": null,
   "metadata": {},
   "outputs": [],
   "source": [
    "model.Model()"
   ]
  },
  {
   "cell_type": "code",
   "execution_count": null,
   "metadata": {},
   "outputs": [],
   "source": [
    "dlc_project_path_abs"
   ]
  },
  {
   "cell_type": "code",
   "execution_count": null,
   "metadata": {},
   "outputs": [],
   "source": [
    "model"
   ]
  }
 ],
 "metadata": {
  "kernelspec": {
   "display_name": "Python 3",
   "language": "python",
   "name": "python3"
  },
  "language_info": {
   "codemirror_mode": {
    "name": "ipython",
    "version": 3
   },
   "file_extension": ".py",
   "mimetype": "text/x-python",
   "name": "python",
   "nbconvert_exporter": "python",
   "pygments_lexer": "ipython3",
   "version": "3.9.17"
  }
 },
 "nbformat": 4,
 "nbformat_minor": 2
}
