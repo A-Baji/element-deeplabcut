{
 "cells": [
  {
   "cell_type": "markdown",
   "metadata": {
    "tags": []
   },
   "source": [
    "# DataJoint U24 - Workflow DeepLabCut"
   ]
  },
  {
   "cell_type": "markdown",
   "metadata": {
    "pycharm": {
     "name": "#%% md\n"
    }
   },
   "source": [
    "## Workflow Automation\n",
    "\n",
    "In the previous notebook [03-Process](./03-Process.ipynb), we ran through the workflow in detailed steps. For daily running routines, the current notebook provides a more succinct and automatic approach to run through the pipeline using some utility functions in the workflow.\n",
    "\n",
    "The commands here run a workflow using [example data](https://downgit.github.io/#/home?url=https://github.com/DeepLabCut/DeepLabCut/tree/master/examples/openfield-Pranav-2018-10-30) from the [00-DownloadData](./00-DataDownload_Optional.ipynb) notebook, but note where placeholders could be changed for a different dataset."
   ]
  },
  {
   "cell_type": "code",
   "execution_count": null,
   "metadata": {
    "tags": []
   },
   "outputs": [],
   "source": [
    "import os; from pathlib import Path\n",
    "# change to the upper level folder to detect dj_local_conf.json\n",
    "if os.path.basename(os.getcwd())=='notebooks': os.chdir('..')\n",
    "assert os.path.basename(os.getcwd())=='workflow-deeplabcut', (\"Please move to the \"\n",
    "                                                              + \"workflow directory\")\n",
    "from workflow_deeplabcut.pipeline import lab, subject, session, train, model, \\\n",
    "                                         VideoRecording"
   ]
  },
  {
   "cell_type": "markdown",
   "metadata": {},
   "source": [
    "If you previously completed the [03-Process notebook](./03-Process.ipynb), you may want to delete the contents ingested there, to avoid duplication errors."
   ]
  },
  {
   "cell_type": "code",
   "execution_count": null,
   "metadata": {},
   "outputs": [],
   "source": [
    "# session.Session.delete()\n",
    "# train.TrainingParamSet.delete()\n",
    "# train.VideoSet.delete()"
   ]
  },
  {
   "cell_type": "markdown",
   "metadata": {},
   "source": [
    "## Ingestion of subjects, sessions, videos and training parameters\n",
    "\n",
    "Refer to the `user_data` folder in the workflow.\n",
    "\n",
    "1. Fill subject and session information in files `subjects.csv` and `sessions.csv`\n",
    "2. Fill in recording and parameter information in `recordings.csv` and `config_params.csv`\n",
    "    + Add both training and estimation videos to the recording list\n",
    "    + Additional columns in `config_params.csv` will be treated as model training parameters\n",
    "3. Run automatic scripts prepared in `workflow_deeplabcut.ingest` for ingestion: \n",
    "    + `ingest_subjects` for `subject.Subject`\n",
    "    + `ingest_sessions` - for session tables `Session`, `SessionDirectory`, and `SessionNote`\n",
    "    + `ingest_dlc_items` - for `VideoRecording` and `TrainingParamSet`"
   ]
  },
  {
   "cell_type": "code",
   "execution_count": 3,
   "metadata": {},
   "outputs": [
    {
     "name": "stdout",
     "output_type": "stream",
     "text": [
      "\n",
      "---- Inserting 0 entry(s) into subject ----\n",
      "\n",
      "---- Inserting 3 entry(s) into session ----\n",
      "\n",
      "---- Inserting 3 entry(s) into session_directory ----\n",
      "\n",
      "---- Inserting 3 entry(s) into session_note ----\n",
      "\n",
      "---- Inserting 3 entry(s) into #model_training_param_set ----\n",
      "\n",
      "---- Inserting 3 entry(s) into video_recording ----\n",
      "\n",
      "---- Inserting 3 entry(s) into video_recording__file ----\n",
      "\n",
      "---- Inserting 1 entry(s) into video_set ----\n"
     ]
    }
   ],
   "source": [
    "from workflow_deeplabcut.ingest import ingest_subjects, ingest_sessions, ingest_dlc_items\n",
    "ingest_subjects(); ingest_sessions(); ingest_dlc_items()"
   ]
  },
  {
   "cell_type": "markdown",
   "metadata": {},
   "source": [
    "## Setting project variables\n",
    "\n",
    "1. Set your root directory in your DataJoint config file, under `custom` as `dlc_root_data_dir`. For the purposes of this demo, we'll ask DeepLabCut to structure the demo config file with `load_demo_data`"
   ]
  },
  {
   "cell_type": "code",
   "execution_count": null,
   "metadata": {},
   "outputs": [],
   "source": [
    "import datajoint as dj; dj.config.load('dj_local_conf.json')\n",
    "from element_interface.utils import find_full_path\n",
    "data_dir = find_full_path(dj.config['custom']['dlc_root_data_dir'], # root from config\n",
    "                          'openfield-Pranav-2018-10-30')            # DLC project dir\n",
    "config_path = (data_dir / 'config.yaml')\n",
    "from deeplabcut.create_project.demo_data import load_demo_data\n",
    "load_demo_data(config_path)"
   ]
  },
  {
   "cell_type": "markdown",
   "metadata": {},
   "source": [
    "2. For this demo, we generate a copy to show pose estimation. This is `recording_id` 2 in `recordings.csv`. If you already did this in the [00-DataDownload notebook](./00-DataDownload_Optional.ipynb), skip this step."
   ]
  },
  {
   "cell_type": "code",
   "execution_count": 5,
   "metadata": {
    "tags": []
   },
   "outputs": [
    {
     "name": "stderr",
     "output_type": "stream",
     "text": [
      "File '/Volumes/GoogleDrive/My Drive/Dev/DeepLabCut/examples/JUPYTER/openfield-Pranav-2018-10-30/videos/m3v1mp4-copy.mp4' already exists. Exiting.\n"
     ]
    },
    {
     "data": {
      "text/plain": [
       "256"
      ]
     },
     "execution_count": 5,
     "metadata": {},
     "output_type": "execute_result"
    }
   ],
   "source": [
    "vid_path = str(data_dir).replace(\" \", \"\\ \") + '/videos/m3v1mp4'\n",
    "cmd = (f'ffmpeg -n -hide_banner -loglevel error -ss 0 -t 2 -i {vid_path}.mp4 -vcodec copy '\n",
    "       + f'-acodec copy {vid_path}-copy.mp4') # New video copy, first 2 seconds\n",
    "os.system(cmd)"
   ]
  },
  {
   "cell_type": "markdown",
   "metadata": {},
   "source": [
    "3. Pair training video with training parameters, and launch training."
   ]
  },
  {
   "cell_type": "code",
   "execution_count": null,
   "metadata": {},
   "outputs": [],
   "source": [
    "key={'paramset_idx':1,'training_id':1,'video_set_id':1, \n",
    "     'project_path':'openfield-Pranav-2018-10-30/'}\n",
    "train.TrainingTask.insert1(key, skip_duplicates=True)\n",
    "train.ModelTraining.populate()"
   ]
  },
  {
   "cell_type": "markdown",
   "metadata": {},
   "source": [
    "4. Add this model to the `Model` table and evaluate.\n",
    "   - Include a user-friendly `model_name`\n",
    "   - Include the relative path for the project's `config.yaml`\n",
    "   - Add `shuffle` and `trainingsetindex`"
   ]
  },
  {
   "cell_type": "code",
   "execution_count": null,
   "metadata": {},
   "outputs": [],
   "source": [
    "model.Model.insert_new_model(model_name='OpenField-5',dlc_config=config_path,\n",
    "                             shuffle=1,trainingsetindex=0, paramset_idx=1,\n",
    "                             model_description='Open field model trained 5 iterations')\n",
    "model.ModelEvaluation.populate()"
   ]
  },
  {
   "cell_type": "markdown",
   "metadata": {},
   "source": [
    "5. Add a pose estimation task, and launch pose estimation.\n",
    "   - Get all primary key information for a given recording\n",
    "   - Add the model and `task_mode` (i.e., load vs. trigger) to be applied\n",
    "   - Add any additional analysis parameters for `deeplabcut.analyze_videos`"
   ]
  },
  {
   "cell_type": "code",
   "execution_count": null,
   "metadata": {},
   "outputs": [],
   "source": [
    "key=(VideoRecording & 'recording_id=2').fetch1('KEY')\n",
    "key.update({'model_name': 'OpenField-5', 'task_mode': 'trigger'})\n",
    "analyze_params={'save_as_csv':True} # add any others from deeplabcut.analyze_videos\n",
    "model.EstimationTask.insert_estimation_task(key,params=analyze_params)\n",
    "model.Estimation.populate()"
   ]
  },
  {
   "cell_type": "markdown",
   "metadata": {},
   "source": [
    "6. Retrieve estimated position data."
   ]
  },
  {
   "cell_type": "code",
   "execution_count": 4,
   "metadata": {},
   "outputs": [
    {
     "data": {
      "text/html": [
       "<div>\n",
       "<style scoped>\n",
       "    .dataframe tbody tr th:only-of-type {\n",
       "        vertical-align: middle;\n",
       "    }\n",
       "\n",
       "    .dataframe tbody tr th {\n",
       "        vertical-align: top;\n",
       "    }\n",
       "\n",
       "    .dataframe thead tr th {\n",
       "        text-align: left;\n",
       "    }\n",
       "</style>\n",
       "<table border=\"1\" class=\"dataframe\">\n",
       "  <thead>\n",
       "    <tr>\n",
       "      <th>scorer</th>\n",
       "      <th colspan=\"16\" halign=\"left\">OpenField-5</th>\n",
       "    </tr>\n",
       "    <tr>\n",
       "      <th>bodyparts</th>\n",
       "      <th colspan=\"4\" halign=\"left\">leftear</th>\n",
       "      <th colspan=\"4\" halign=\"left\">rightear</th>\n",
       "      <th colspan=\"4\" halign=\"left\">snout</th>\n",
       "      <th colspan=\"4\" halign=\"left\">tailbase</th>\n",
       "    </tr>\n",
       "    <tr>\n",
       "      <th>coords</th>\n",
       "      <th>x</th>\n",
       "      <th>y</th>\n",
       "      <th>z</th>\n",
       "      <th>likelihood</th>\n",
       "      <th>x</th>\n",
       "      <th>y</th>\n",
       "      <th>z</th>\n",
       "      <th>likelihood</th>\n",
       "      <th>x</th>\n",
       "      <th>y</th>\n",
       "      <th>z</th>\n",
       "      <th>likelihood</th>\n",
       "      <th>x</th>\n",
       "      <th>y</th>\n",
       "      <th>z</th>\n",
       "      <th>likelihood</th>\n",
       "    </tr>\n",
       "  </thead>\n",
       "  <tbody>\n",
       "    <tr>\n",
       "      <th>0</th>\n",
       "      <td>-0.051000</td>\n",
       "      <td>479.620728</td>\n",
       "      <td>0.0</td>\n",
       "      <td>0.273338</td>\n",
       "      <td>2.725363</td>\n",
       "      <td>6.904159</td>\n",
       "      <td>0.0</td>\n",
       "      <td>0.089934</td>\n",
       "      <td>4.700935</td>\n",
       "      <td>-7.521790</td>\n",
       "      <td>0.0</td>\n",
       "      <td>0.269598</td>\n",
       "      <td>2.385094</td>\n",
       "      <td>16.498543</td>\n",
       "      <td>0.0</td>\n",
       "      <td>0.227193</td>\n",
       "    </tr>\n",
       "    <tr>\n",
       "      <th>1</th>\n",
       "      <td>0.028559</td>\n",
       "      <td>479.580170</td>\n",
       "      <td>0.0</td>\n",
       "      <td>0.270150</td>\n",
       "      <td>2.321410</td>\n",
       "      <td>7.148979</td>\n",
       "      <td>0.0</td>\n",
       "      <td>0.083423</td>\n",
       "      <td>5.155587</td>\n",
       "      <td>-8.236547</td>\n",
       "      <td>0.0</td>\n",
       "      <td>0.246404</td>\n",
       "      <td>1.576869</td>\n",
       "      <td>16.568169</td>\n",
       "      <td>0.0</td>\n",
       "      <td>0.219187</td>\n",
       "    </tr>\n",
       "    <tr>\n",
       "      <th>2</th>\n",
       "      <td>0.011300</td>\n",
       "      <td>479.562500</td>\n",
       "      <td>0.0</td>\n",
       "      <td>0.267837</td>\n",
       "      <td>643.831421</td>\n",
       "      <td>4.739515</td>\n",
       "      <td>0.0</td>\n",
       "      <td>0.082102</td>\n",
       "      <td>4.967218</td>\n",
       "      <td>-6.445849</td>\n",
       "      <td>0.0</td>\n",
       "      <td>0.245935</td>\n",
       "      <td>3.414664</td>\n",
       "      <td>16.437574</td>\n",
       "      <td>0.0</td>\n",
       "      <td>0.199375</td>\n",
       "    </tr>\n",
       "    <tr>\n",
       "      <th>3</th>\n",
       "      <td>0.280110</td>\n",
       "      <td>479.558044</td>\n",
       "      <td>0.0</td>\n",
       "      <td>0.273800</td>\n",
       "      <td>643.895020</td>\n",
       "      <td>4.552026</td>\n",
       "      <td>0.0</td>\n",
       "      <td>0.082553</td>\n",
       "      <td>5.191478</td>\n",
       "      <td>-7.312384</td>\n",
       "      <td>0.0</td>\n",
       "      <td>0.240973</td>\n",
       "      <td>2.435591</td>\n",
       "      <td>16.592468</td>\n",
       "      <td>0.0</td>\n",
       "      <td>0.219349</td>\n",
       "    </tr>\n",
       "    <tr>\n",
       "      <th>4</th>\n",
       "      <td>0.269247</td>\n",
       "      <td>479.512573</td>\n",
       "      <td>0.0</td>\n",
       "      <td>0.267830</td>\n",
       "      <td>643.906982</td>\n",
       "      <td>4.619661</td>\n",
       "      <td>0.0</td>\n",
       "      <td>0.083153</td>\n",
       "      <td>4.552286</td>\n",
       "      <td>-7.577226</td>\n",
       "      <td>0.0</td>\n",
       "      <td>0.232977</td>\n",
       "      <td>0.996742</td>\n",
       "      <td>16.616949</td>\n",
       "      <td>0.0</td>\n",
       "      <td>0.223073</td>\n",
       "    </tr>\n",
       "    <tr>\n",
       "      <th>...</th>\n",
       "      <td>...</td>\n",
       "      <td>...</td>\n",
       "      <td>...</td>\n",
       "      <td>...</td>\n",
       "      <td>...</td>\n",
       "      <td>...</td>\n",
       "      <td>...</td>\n",
       "      <td>...</td>\n",
       "      <td>...</td>\n",
       "      <td>...</td>\n",
       "      <td>...</td>\n",
       "      <td>...</td>\n",
       "      <td>...</td>\n",
       "      <td>...</td>\n",
       "      <td>...</td>\n",
       "      <td>...</td>\n",
       "    </tr>\n",
       "    <tr>\n",
       "      <th>58</th>\n",
       "      <td>-0.043869</td>\n",
       "      <td>479.548248</td>\n",
       "      <td>0.0</td>\n",
       "      <td>0.264180</td>\n",
       "      <td>644.079041</td>\n",
       "      <td>5.265405</td>\n",
       "      <td>0.0</td>\n",
       "      <td>0.084058</td>\n",
       "      <td>6.878569</td>\n",
       "      <td>-8.191770</td>\n",
       "      <td>0.0</td>\n",
       "      <td>0.247327</td>\n",
       "      <td>0.691330</td>\n",
       "      <td>16.979179</td>\n",
       "      <td>0.0</td>\n",
       "      <td>0.240952</td>\n",
       "    </tr>\n",
       "    <tr>\n",
       "      <th>59</th>\n",
       "      <td>0.213278</td>\n",
       "      <td>479.605865</td>\n",
       "      <td>0.0</td>\n",
       "      <td>0.288912</td>\n",
       "      <td>643.871460</td>\n",
       "      <td>5.303852</td>\n",
       "      <td>0.0</td>\n",
       "      <td>0.086554</td>\n",
       "      <td>7.673346</td>\n",
       "      <td>-9.163953</td>\n",
       "      <td>0.0</td>\n",
       "      <td>0.207005</td>\n",
       "      <td>2.231732</td>\n",
       "      <td>17.397644</td>\n",
       "      <td>0.0</td>\n",
       "      <td>0.211547</td>\n",
       "    </tr>\n",
       "    <tr>\n",
       "      <th>60</th>\n",
       "      <td>-0.011851</td>\n",
       "      <td>479.317230</td>\n",
       "      <td>0.0</td>\n",
       "      <td>0.267723</td>\n",
       "      <td>644.043091</td>\n",
       "      <td>5.202106</td>\n",
       "      <td>0.0</td>\n",
       "      <td>0.083778</td>\n",
       "      <td>6.811278</td>\n",
       "      <td>-9.130725</td>\n",
       "      <td>0.0</td>\n",
       "      <td>0.232106</td>\n",
       "      <td>2.037935</td>\n",
       "      <td>17.634174</td>\n",
       "      <td>0.0</td>\n",
       "      <td>0.229108</td>\n",
       "    </tr>\n",
       "    <tr>\n",
       "      <th>61</th>\n",
       "      <td>-0.020756</td>\n",
       "      <td>479.287842</td>\n",
       "      <td>0.0</td>\n",
       "      <td>0.269066</td>\n",
       "      <td>643.995361</td>\n",
       "      <td>5.327844</td>\n",
       "      <td>0.0</td>\n",
       "      <td>0.085517</td>\n",
       "      <td>6.878219</td>\n",
       "      <td>-9.760260</td>\n",
       "      <td>0.0</td>\n",
       "      <td>0.232977</td>\n",
       "      <td>0.569980</td>\n",
       "      <td>17.509853</td>\n",
       "      <td>0.0</td>\n",
       "      <td>0.241432</td>\n",
       "    </tr>\n",
       "    <tr>\n",
       "      <th>62</th>\n",
       "      <td>-0.054609</td>\n",
       "      <td>479.283264</td>\n",
       "      <td>0.0</td>\n",
       "      <td>0.266023</td>\n",
       "      <td>644.210449</td>\n",
       "      <td>5.472977</td>\n",
       "      <td>0.0</td>\n",
       "      <td>0.085272</td>\n",
       "      <td>7.383186</td>\n",
       "      <td>-9.041880</td>\n",
       "      <td>0.0</td>\n",
       "      <td>0.223843</td>\n",
       "      <td>2.449749</td>\n",
       "      <td>17.441238</td>\n",
       "      <td>0.0</td>\n",
       "      <td>0.214529</td>\n",
       "    </tr>\n",
       "  </tbody>\n",
       "</table>\n",
       "<p>63 rows × 16 columns</p>\n",
       "</div>"
      ],
      "text/plain": [
       "scorer    OpenField-5                                                         \\\n",
       "bodyparts     leftear                                rightear                  \n",
       "coords              x           y    z likelihood           x         y    z   \n",
       "0           -0.051000  479.620728  0.0   0.273338    2.725363  6.904159  0.0   \n",
       "1            0.028559  479.580170  0.0   0.270150    2.321410  7.148979  0.0   \n",
       "2            0.011300  479.562500  0.0   0.267837  643.831421  4.739515  0.0   \n",
       "3            0.280110  479.558044  0.0   0.273800  643.895020  4.552026  0.0   \n",
       "4            0.269247  479.512573  0.0   0.267830  643.906982  4.619661  0.0   \n",
       "..                ...         ...  ...        ...         ...       ...  ...   \n",
       "58          -0.043869  479.548248  0.0   0.264180  644.079041  5.265405  0.0   \n",
       "59           0.213278  479.605865  0.0   0.288912  643.871460  5.303852  0.0   \n",
       "60          -0.011851  479.317230  0.0   0.267723  644.043091  5.202106  0.0   \n",
       "61          -0.020756  479.287842  0.0   0.269066  643.995361  5.327844  0.0   \n",
       "62          -0.054609  479.283264  0.0   0.266023  644.210449  5.472977  0.0   \n",
       "\n",
       "scorer                                                                         \\\n",
       "bodyparts                snout                            tailbase              \n",
       "coords    likelihood         x         y    z likelihood         x          y   \n",
       "0           0.089934  4.700935 -7.521790  0.0   0.269598  2.385094  16.498543   \n",
       "1           0.083423  5.155587 -8.236547  0.0   0.246404  1.576869  16.568169   \n",
       "2           0.082102  4.967218 -6.445849  0.0   0.245935  3.414664  16.437574   \n",
       "3           0.082553  5.191478 -7.312384  0.0   0.240973  2.435591  16.592468   \n",
       "4           0.083153  4.552286 -7.577226  0.0   0.232977  0.996742  16.616949   \n",
       "..               ...       ...       ...  ...        ...       ...        ...   \n",
       "58          0.084058  6.878569 -8.191770  0.0   0.247327  0.691330  16.979179   \n",
       "59          0.086554  7.673346 -9.163953  0.0   0.207005  2.231732  17.397644   \n",
       "60          0.083778  6.811278 -9.130725  0.0   0.232106  2.037935  17.634174   \n",
       "61          0.085517  6.878219 -9.760260  0.0   0.232977  0.569980  17.509853   \n",
       "62          0.085272  7.383186 -9.041880  0.0   0.223843  2.449749  17.441238   \n",
       "\n",
       "scorer                     \n",
       "bodyparts                  \n",
       "coords       z likelihood  \n",
       "0          0.0   0.227193  \n",
       "1          0.0   0.219187  \n",
       "2          0.0   0.199375  \n",
       "3          0.0   0.219349  \n",
       "4          0.0   0.223073  \n",
       "..         ...        ...  \n",
       "58         0.0   0.240952  \n",
       "59         0.0   0.211547  \n",
       "60         0.0   0.229108  \n",
       "61         0.0   0.241432  \n",
       "62         0.0   0.214529  \n",
       "\n",
       "[63 rows x 16 columns]"
      ]
     },
     "execution_count": 4,
     "metadata": {},
     "output_type": "execute_result"
    }
   ],
   "source": [
    "model.Estimation.get_trajectory(key)"
   ]
  },
  {
   "cell_type": "markdown",
   "metadata": {},
   "source": [
    "## Summary and next step\n",
    "\n",
    "+ This notebook runs through the workflow in an automatic manner.\n",
    "\n",
    "+ The next notebook [06-Drop](06-Drop_Optional.ipynb) shows how to drop schemas and tables if needed."
   ]
  }
 ],
 "metadata": {
  "jupytext": {
   "formats": "ipynb,py:percent"
  },
  "kernelspec": {
   "display_name": "venv-dlc",
   "language": "python",
   "name": "venv-dlc"
  },
  "language_info": {
   "codemirror_mode": {
    "name": "ipython",
    "version": 3
   },
   "file_extension": ".py",
   "mimetype": "text/x-python",
   "name": "python",
   "nbconvert_exporter": "python",
   "pygments_lexer": "ipython3",
   "version": "3.8.12"
  }
 },
 "nbformat": 4,
 "nbformat_minor": 4
}
