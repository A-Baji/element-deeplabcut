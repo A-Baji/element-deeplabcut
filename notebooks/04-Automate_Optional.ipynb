{
 "cells": [
  {
   "cell_type": "markdown",
   "metadata": {
    "tags": []
   },
   "source": [
    "# DataJoint U24 - Workflow DeepLabCut"
   ]
  },
  {
   "cell_type": "markdown",
   "metadata": {
    "pycharm": {
     "name": "#%% md\n"
    }
   },
   "source": [
    "## Workflow Automation\n",
    "\n",
    "In the previous notebook [03-Process](./03-Process.ipynb), we ran through the workflow in detailed steps. For daily running routines, the current notebook provides a more succinct and automatic approach to run through the pipeline using some utility functions in the workflow.\n",
    "\n",
    "The commands here run a workflow using [example data](https://downgit.github.io/#/home?url=https://github.com/DeepLabCut/DeepLabCut/tree/master/examples/openfield-Pranav-2018-10-30) from the [00-DownloadData](./00-DataDownload_Optional.ipynb) notebook, but note where placeholders could be changed for a different dataset."
   ]
  },
  {
   "cell_type": "code",
   "execution_count": 1,
   "metadata": {
    "tags": []
   },
   "outputs": [
    {
     "name": "stdout",
     "output_type": "stream",
     "text": [
      "Connecting cbroz@dss-db.datajoint.io:3306\n"
     ]
    }
   ],
   "source": [
    "import os; from pathlib import Path\n",
    "# change to the upper level folder to detect dj_local_conf.json\n",
    "if os.path.basename(os.getcwd())=='notebooks': os.chdir('..')\n",
    "assert os.path.basename(os.getcwd())=='workflow-deeplabcut', (\"Please move to the \"\n",
    "                                                              + \"workflow directory\")\n",
    "from workflow_deeplabcut.pipeline import lab, subject, session, train, model"
   ]
  },
  {
   "cell_type": "markdown",
   "metadata": {},
   "source": [
    "If you previously completed the [03-Process notebook](./03-Process.ipynb), you may want to delete the contents ingested there, to avoid duplication errors."
   ]
  },
  {
   "cell_type": "code",
   "execution_count": null,
   "metadata": {},
   "outputs": [],
   "source": [
    "# (session.Session & 'subject=\"subject6\"').delete()\n",
    "# train.TrainingParamSet.delete()\n",
    "# train.VideoSet.delete()"
   ]
  },
  {
   "cell_type": "markdown",
   "metadata": {},
   "source": [
    "## Ingestion of subjects, sessions, videos and training parameters\n",
    "\n",
    "Refer to the `user_data` folder in the workflow.\n",
    "\n",
    "1. Fill subject and session information in files `subjects.csv` and `sessions.csv`\n",
    "2. Fill in recording and parameter information in `recordings.csv` and `config_params.csv`\n",
    "    + Add both training and estimation videos to the recording list\n",
    "    + Additional columns in `config_params.csv` will be treated as model training parameters\n",
    "3. Run automatic scripts prepared in `workflow_deeplabcut.ingest` for ingestion: \n",
    "    + `ingest_subjects` for `subject.Subject`\n",
    "    + `ingest_sessions` - for session tables `Session`, `SessionDirectory`, and `SessionNote`\n",
    "    + `ingest_dlc_items` - for ...\n",
    "        - `train.ModelTrainingParamSet`\n",
    "        - `train.VideoSet` and the corresponding `File` part table\n",
    "        - `model.VideoRecording` and the corresponding `File` part table\n",
    "        - `model.RecordingInfo`"
   ]
  },
  {
   "cell_type": "code",
   "execution_count": 3,
   "metadata": {},
   "outputs": [
    {
     "name": "stdout",
     "output_type": "stream",
     "text": [
      "\n",
      "---- Inserting 1 entry(s) into subject ----\n",
      "\n",
      "---- Inserting 3 entry(s) into session ----\n",
      "\n",
      "---- Inserting 3 entry(s) into session_directory ----\n",
      "\n",
      "---- Inserting 3 entry(s) into session_note ----\n",
      "\n",
      "---- Inserting 3 entry(s) into #model_training_param_set ----\n",
      "\n",
      "---- Inserting 2 entry(s) into video_set ----\n",
      "\n",
      "---- Inserting 8 entry(s) into video_set__file ----\n",
      "\n",
      "---- Inserting 2 entry(s) into video_recording ----\n",
      "\n",
      "---- Inserting 2 entry(s) into video_recording__file ----\n",
      "\n",
      "---- Inserting 2 entry(s) into _recording_info ----\n"
     ]
    }
   ],
   "source": [
    "from workflow_deeplabcut.ingest import ingest_subjects, ingest_sessions, ingest_dlc_items\n",
    "ingest_subjects(); ingest_sessions(); ingest_dlc_items()"
   ]
  },
  {
   "cell_type": "markdown",
   "metadata": {},
   "source": [
    "## Setting project variables\n",
    "\n",
    "1. Set your root directory in your DataJoint config file, under `custom` as `dlc_root_data_dir`. "
   ]
  },
  {
   "cell_type": "code",
   "execution_count": 4,
   "metadata": {},
   "outputs": [],
   "source": [
    "import datajoint as dj; dj.config.load('dj_local_conf.json')\n",
    "from element_interface.utils import find_full_path\n",
    "data_dir = find_full_path(dj.config['custom']['dlc_root_data_dir'], # root from config\n",
    "                          'openfield-Pranav-2018-10-30')            # DLC project dir\n",
    "config_path = (data_dir / 'config.yaml')"
   ]
  },
  {
   "cell_type": "markdown",
   "metadata": {},
   "source": [
    "2. For the purposes of this demo, we'll ask DeepLabCut to structure the demo config file with `load_demo_data`. If you already did this in the [00-DataDownload notebook](./00-DataDownload_Optional.ipynb), skip this step."
   ]
  },
  {
   "cell_type": "code",
   "execution_count": null,
   "metadata": {},
   "outputs": [],
   "source": [
    "from deeplabcut.create_project.demo_data import load_demo_data\n",
    "load_demo_data(config_path)"
   ]
  },
  {
   "cell_type": "markdown",
   "metadata": {},
   "source": [
    "3. For this demo, we generate a copy to show pose estimation. This is `recording_id` 2 in `recordings.csv`. If you already did this in the [00-DataDownload notebook](./00-DataDownload_Optional.ipynb), skip this step."
   ]
  },
  {
   "cell_type": "code",
   "execution_count": 5,
   "metadata": {
    "tags": []
   },
   "outputs": [
    {
     "name": "stderr",
     "output_type": "stream",
     "text": [
      "File '/Volumes/GoogleDrive/My Drive/Dev/DeepLabCut/examples/JUPYTER/openfield-Pranav-2018-10-30/videos/m3v1mp4-copy.mp4' already exists. Exiting.\n"
     ]
    },
    {
     "data": {
      "text/plain": [
       "256"
      ]
     },
     "execution_count": 5,
     "metadata": {},
     "output_type": "execute_result"
    }
   ],
   "source": [
    "vid_path = str(data_dir).replace(\" \", \"\\ \") + '/videos/m3v1mp4'\n",
    "cmd = (f'ffmpeg -n -hide_banner -loglevel error -ss 0 -t 2 -i {vid_path}.mp4 -vcodec copy '\n",
    "       + f'-acodec copy {vid_path}-copy.mp4') # New video copy, first 2 seconds\n",
    "os.system(cmd)"
   ]
  },
  {
   "cell_type": "markdown",
   "metadata": {},
   "source": [
    "4. Pair training files with training parameters, and launch training."
   ]
  },
  {
   "cell_type": "code",
   "execution_count": null,
   "metadata": {},
   "outputs": [],
   "source": [
    "key={'paramset_idx':1,'training_id':1,'video_set_id':1, \n",
    "     'project_path':'openfield-Pranav-2018-10-30/'}\n",
    "train.TrainingTask.insert1(key, skip_duplicates=True)\n",
    "train.ModelTraining.populate()"
   ]
  },
  {
   "cell_type": "markdown",
   "metadata": {},
   "source": [
    "5. Add this model to the `Model` table and evaluate.\n",
    "   - Include a user-friendly `model_name`\n",
    "   - Include the relative path for the project's `config.yaml`\n",
    "   - Add `shuffle` and `trainingsetindex`\n",
    "   - `insert_new_model` will prompt before inserting, but this can be skipped with `prompt=False`"
   ]
  },
  {
   "cell_type": "code",
   "execution_count": null,
   "metadata": {},
   "outputs": [],
   "source": [
    "model.Model.insert_new_model(model_name='OpenField-5',dlc_config=config_path,\n",
    "                             shuffle=1,trainingsetindex=0, paramset_idx=1, \n",
    "                             prompt=True, # True is the default behavior\n",
    "                             model_description='Open field model trained 5 iterations')\n",
    "model.ModelEvaluation.populate()"
   ]
  },
  {
   "cell_type": "markdown",
   "metadata": {},
   "source": [
    "6. Auto-populate the `RecordingInfo` table with relevant fields."
   ]
  },
  {
   "cell_type": "code",
   "execution_count": 7,
   "metadata": {},
   "outputs": [
    {
     "data": {
      "text/html": [
       "\n",
       "    \n",
       "    <style type=\"text/css\">\n",
       "        .Relation{\n",
       "            border-collapse:collapse;\n",
       "        }\n",
       "        .Relation th{\n",
       "            background: #A0A0A0; color: #ffffff; padding:4px; border:#f0e0e0 1px solid;\n",
       "            font-weight: normal; font-family: monospace; font-size: 100%;\n",
       "        }\n",
       "        .Relation td{\n",
       "            padding:4px; border:#f0e0e0 1px solid; font-size:100%;\n",
       "        }\n",
       "        .Relation tr:nth-child(odd){\n",
       "            background: #ffffff;\n",
       "        }\n",
       "        .Relation tr:nth-child(even){\n",
       "            background: #f3f1ff;\n",
       "        }\n",
       "        /* Tooltip container */\n",
       "        .djtooltip {\n",
       "        }\n",
       "        /* Tooltip text */\n",
       "        .djtooltip .djtooltiptext {\n",
       "            visibility: hidden;\n",
       "            width: 120px;\n",
       "            background-color: black;\n",
       "            color: #fff;\n",
       "            text-align: center;\n",
       "            padding: 5px 0;\n",
       "            border-radius: 6px;\n",
       "            /* Position the tooltip text - see examples below! */\n",
       "            position: absolute;\n",
       "            z-index: 1;\n",
       "        }\n",
       "        #primary {\n",
       "            font-weight: bold;\n",
       "            color: black;\n",
       "        }\n",
       "        #nonprimary {\n",
       "            font-weight: normal;\n",
       "            color: white;\n",
       "        }\n",
       "\n",
       "        /* Show the tooltip text when you mouse over the tooltip container */\n",
       "        .djtooltip:hover .djtooltiptext {\n",
       "            visibility: visible;\n",
       "        }\n",
       "    </style>\n",
       "    \n",
       "    <b></b>\n",
       "        <div style=\"max-height:1000px;max-width:1500px;overflow:auto;\">\n",
       "        <table border=\"1\" class=\"Relation\">\n",
       "            <thead> <tr style=\"text-align: right;\"> <th> <div class=\"djtooltip\">\n",
       "                            <p id=\"primary\">subject</p>\n",
       "                            <span class=\"djtooltiptext\"></span>\n",
       "                        </div></th><th><div class=\"djtooltip\">\n",
       "                            <p id=\"primary\">session_datetime</p>\n",
       "                            <span class=\"djtooltiptext\"></span>\n",
       "                        </div></th><th><div class=\"djtooltip\">\n",
       "                            <p id=\"primary\">recording_id</p>\n",
       "                            <span class=\"djtooltiptext\"></span>\n",
       "                        </div></th><th><div class=\"djtooltip\">\n",
       "                            <p id=\"nonprimary\">px_height</p>\n",
       "                            <span class=\"djtooltiptext\">height in pixels</span>\n",
       "                        </div></th><th><div class=\"djtooltip\">\n",
       "                            <p id=\"nonprimary\">px_width</p>\n",
       "                            <span class=\"djtooltiptext\">width in pixels</span>\n",
       "                        </div></th><th><div class=\"djtooltip\">\n",
       "                            <p id=\"nonprimary\">nframes</p>\n",
       "                            <span class=\"djtooltiptext\">number of frames</span>\n",
       "                        </div></th><th><div class=\"djtooltip\">\n",
       "                            <p id=\"nonprimary\">fps</p>\n",
       "                            <span class=\"djtooltiptext\">(Hz) frames per second</span>\n",
       "                        </div></th><th><div class=\"djtooltip\">\n",
       "                            <p id=\"nonprimary\">recording_datetime</p>\n",
       "                            <span class=\"djtooltiptext\">Datetime for the start of the recording</span>\n",
       "                        </div></th><th><div class=\"djtooltip\">\n",
       "                            <p id=\"nonprimary\">recording_duration</p>\n",
       "                            <span class=\"djtooltiptext\">video duration in seconds</span>\n",
       "                        </div> </th> </tr> </thead>\n",
       "            <tbody> <tr> <td>subject5</td>\n",
       "<td>2020-04-15 11:16:38</td>\n",
       "<td>3</td>\n",
       "<td>747</td>\n",
       "<td>832</td>\n",
       "<td>60</td>\n",
       "<td>30</td>\n",
       "<td>None</td>\n",
       "<td>2.0</td></tr><tr><td>subject6</td>\n",
       "<td>2021-06-03 14:43:10</td>\n",
       "<td>2</td>\n",
       "<td>480</td>\n",
       "<td>640</td>\n",
       "<td>63</td>\n",
       "<td>30</td>\n",
       "<td>None</td>\n",
       "<td>2.1</td> </tr> </tbody>\n",
       "        </table>\n",
       "        \n",
       "        <p>Total: 2</p></div>\n",
       "        "
      ],
      "text/plain": [
       "*subject     *session_datet *recording_id  px_height     px_width     nframes     fps     recording_date recording_dura\n",
       "+----------+ +------------+ +------------+ +-----------+ +----------+ +---------+ +-----+ +------------+ +------------+\n",
       "subject5     2020-04-15 11: 3              747           832          60          30      None           2.0           \n",
       "subject6     2021-06-03 14: 2              480           640          63          30      None           2.1           \n",
       " (Total: 2)"
      ]
     },
     "execution_count": 7,
     "metadata": {},
     "output_type": "execute_result"
    }
   ],
   "source": [
    "model.RecordingInfo.populate()\n",
    "model.RecordingInfo()"
   ]
  },
  {
   "cell_type": "markdown",
   "metadata": {},
   "source": [
    "7. Add a pose estimation task, and launch pose estimation.\n",
    "   - Get all primary key information for a given recording\n",
    "   - Add the model and `task_mode` (i.e., load vs. trigger) to be applied\n",
    "   - Add any additional analysis parameters for `deeplabcut.analyze_videos`"
   ]
  },
  {
   "cell_type": "code",
   "execution_count": null,
   "metadata": {},
   "outputs": [],
   "source": [
    "key=(model.VideoRecording & 'recording_id=2').fetch1('KEY')\n",
    "key.update({'model_name': 'OpenField-5', 'task_mode': 'trigger'})\n",
    "analyze_params={'save_as_csv':True} # add any others from deeplabcut.analyze_videos\n",
    "model.PoseEstimationTask.insert_estimation_task(key,params=analyze_params)\n",
    "model.PoseEstimation.populate()"
   ]
  },
  {
   "cell_type": "markdown",
   "metadata": {},
   "source": [
    "8. Retrieve estimated position data."
   ]
  },
  {
   "cell_type": "code",
   "execution_count": 8,
   "metadata": {},
   "outputs": [
    {
     "data": {
      "text/html": [
       "<div>\n",
       "<style scoped>\n",
       "    .dataframe tbody tr th:only-of-type {\n",
       "        vertical-align: middle;\n",
       "    }\n",
       "\n",
       "    .dataframe tbody tr th {\n",
       "        vertical-align: top;\n",
       "    }\n",
       "\n",
       "    .dataframe thead tr th {\n",
       "        text-align: left;\n",
       "    }\n",
       "</style>\n",
       "<table border=\"1\" class=\"dataframe\">\n",
       "  <thead>\n",
       "    <tr>\n",
       "      <th>scorer</th>\n",
       "      <th colspan=\"16\" halign=\"left\">OpenField-5</th>\n",
       "    </tr>\n",
       "    <tr>\n",
       "      <th>bodyparts</th>\n",
       "      <th colspan=\"4\" halign=\"left\">leftear</th>\n",
       "      <th colspan=\"4\" halign=\"left\">rightear</th>\n",
       "      <th colspan=\"4\" halign=\"left\">snout</th>\n",
       "      <th colspan=\"4\" halign=\"left\">tailbase</th>\n",
       "    </tr>\n",
       "    <tr>\n",
       "      <th>coords</th>\n",
       "      <th>x</th>\n",
       "      <th>y</th>\n",
       "      <th>z</th>\n",
       "      <th>likelihood</th>\n",
       "      <th>x</th>\n",
       "      <th>y</th>\n",
       "      <th>z</th>\n",
       "      <th>likelihood</th>\n",
       "      <th>x</th>\n",
       "      <th>y</th>\n",
       "      <th>z</th>\n",
       "      <th>likelihood</th>\n",
       "      <th>x</th>\n",
       "      <th>y</th>\n",
       "      <th>z</th>\n",
       "      <th>likelihood</th>\n",
       "    </tr>\n",
       "  </thead>\n",
       "  <tbody>\n",
       "    <tr>\n",
       "      <th>0</th>\n",
       "      <td>5.966216</td>\n",
       "      <td>-4.787393</td>\n",
       "      <td>0.0</td>\n",
       "      <td>0.032592</td>\n",
       "      <td>-1.522350</td>\n",
       "      <td>8.632778</td>\n",
       "      <td>0.0</td>\n",
       "      <td>0.053609</td>\n",
       "      <td>2.076265</td>\n",
       "      <td>16.415096</td>\n",
       "      <td>0.0</td>\n",
       "      <td>0.139537</td>\n",
       "      <td>3.148022</td>\n",
       "      <td>-6.657187</td>\n",
       "      <td>0.0</td>\n",
       "      <td>0.054340</td>\n",
       "    </tr>\n",
       "    <tr>\n",
       "      <th>1</th>\n",
       "      <td>4.879360</td>\n",
       "      <td>-3.865869</td>\n",
       "      <td>0.0</td>\n",
       "      <td>0.040094</td>\n",
       "      <td>-1.018066</td>\n",
       "      <td>9.007607</td>\n",
       "      <td>0.0</td>\n",
       "      <td>0.069977</td>\n",
       "      <td>1.774640</td>\n",
       "      <td>17.406301</td>\n",
       "      <td>0.0</td>\n",
       "      <td>0.176452</td>\n",
       "      <td>2.704738</td>\n",
       "      <td>-8.274201</td>\n",
       "      <td>0.0</td>\n",
       "      <td>0.067940</td>\n",
       "    </tr>\n",
       "    <tr>\n",
       "      <th>2</th>\n",
       "      <td>7.582597</td>\n",
       "      <td>141.982101</td>\n",
       "      <td>0.0</td>\n",
       "      <td>0.023750</td>\n",
       "      <td>-1.379965</td>\n",
       "      <td>6.661551</td>\n",
       "      <td>0.0</td>\n",
       "      <td>0.060571</td>\n",
       "      <td>2.861758</td>\n",
       "      <td>13.935984</td>\n",
       "      <td>0.0</td>\n",
       "      <td>0.148534</td>\n",
       "      <td>2.233558</td>\n",
       "      <td>-6.290349</td>\n",
       "      <td>0.0</td>\n",
       "      <td>0.044671</td>\n",
       "    </tr>\n",
       "    <tr>\n",
       "      <th>3</th>\n",
       "      <td>6.314935</td>\n",
       "      <td>-4.641110</td>\n",
       "      <td>0.0</td>\n",
       "      <td>0.026313</td>\n",
       "      <td>-1.371757</td>\n",
       "      <td>7.696576</td>\n",
       "      <td>0.0</td>\n",
       "      <td>0.059226</td>\n",
       "      <td>2.387363</td>\n",
       "      <td>16.957266</td>\n",
       "      <td>0.0</td>\n",
       "      <td>0.144777</td>\n",
       "      <td>2.781236</td>\n",
       "      <td>-7.757162</td>\n",
       "      <td>0.0</td>\n",
       "      <td>0.058866</td>\n",
       "    </tr>\n",
       "    <tr>\n",
       "      <th>4</th>\n",
       "      <td>5.441626</td>\n",
       "      <td>-5.161995</td>\n",
       "      <td>0.0</td>\n",
       "      <td>0.030603</td>\n",
       "      <td>-1.186847</td>\n",
       "      <td>7.544275</td>\n",
       "      <td>0.0</td>\n",
       "      <td>0.063246</td>\n",
       "      <td>2.337324</td>\n",
       "      <td>18.026840</td>\n",
       "      <td>0.0</td>\n",
       "      <td>0.148035</td>\n",
       "      <td>2.534595</td>\n",
       "      <td>-9.052482</td>\n",
       "      <td>0.0</td>\n",
       "      <td>0.055323</td>\n",
       "    </tr>\n",
       "    <tr>\n",
       "      <th>...</th>\n",
       "      <td>...</td>\n",
       "      <td>...</td>\n",
       "      <td>...</td>\n",
       "      <td>...</td>\n",
       "      <td>...</td>\n",
       "      <td>...</td>\n",
       "      <td>...</td>\n",
       "      <td>...</td>\n",
       "      <td>...</td>\n",
       "      <td>...</td>\n",
       "      <td>...</td>\n",
       "      <td>...</td>\n",
       "      <td>...</td>\n",
       "      <td>...</td>\n",
       "      <td>...</td>\n",
       "      <td>...</td>\n",
       "    </tr>\n",
       "    <tr>\n",
       "      <th>58</th>\n",
       "      <td>2.117847</td>\n",
       "      <td>-3.214342</td>\n",
       "      <td>0.0</td>\n",
       "      <td>0.033657</td>\n",
       "      <td>-1.280500</td>\n",
       "      <td>9.483593</td>\n",
       "      <td>0.0</td>\n",
       "      <td>0.046280</td>\n",
       "      <td>2.093328</td>\n",
       "      <td>17.112661</td>\n",
       "      <td>0.0</td>\n",
       "      <td>0.158959</td>\n",
       "      <td>2.268270</td>\n",
       "      <td>-8.589610</td>\n",
       "      <td>0.0</td>\n",
       "      <td>0.051529</td>\n",
       "    </tr>\n",
       "    <tr>\n",
       "      <th>59</th>\n",
       "      <td>3.116104</td>\n",
       "      <td>-4.693888</td>\n",
       "      <td>0.0</td>\n",
       "      <td>0.024087</td>\n",
       "      <td>0.219144</td>\n",
       "      <td>8.388535</td>\n",
       "      <td>0.0</td>\n",
       "      <td>0.053968</td>\n",
       "      <td>3.630704</td>\n",
       "      <td>16.375135</td>\n",
       "      <td>0.0</td>\n",
       "      <td>0.108622</td>\n",
       "      <td>1.831684</td>\n",
       "      <td>-6.993159</td>\n",
       "      <td>0.0</td>\n",
       "      <td>0.040950</td>\n",
       "    </tr>\n",
       "    <tr>\n",
       "      <th>60</th>\n",
       "      <td>3.547711</td>\n",
       "      <td>-4.983343</td>\n",
       "      <td>0.0</td>\n",
       "      <td>0.023138</td>\n",
       "      <td>-0.428721</td>\n",
       "      <td>7.312115</td>\n",
       "      <td>0.0</td>\n",
       "      <td>0.042809</td>\n",
       "      <td>3.867933</td>\n",
       "      <td>16.821577</td>\n",
       "      <td>0.0</td>\n",
       "      <td>0.097812</td>\n",
       "      <td>1.444253</td>\n",
       "      <td>-7.488105</td>\n",
       "      <td>0.0</td>\n",
       "      <td>0.031486</td>\n",
       "    </tr>\n",
       "    <tr>\n",
       "      <th>61</th>\n",
       "      <td>2.383031</td>\n",
       "      <td>-3.214643</td>\n",
       "      <td>0.0</td>\n",
       "      <td>0.030314</td>\n",
       "      <td>-1.092042</td>\n",
       "      <td>8.263630</td>\n",
       "      <td>0.0</td>\n",
       "      <td>0.054284</td>\n",
       "      <td>2.453674</td>\n",
       "      <td>17.717480</td>\n",
       "      <td>0.0</td>\n",
       "      <td>0.136344</td>\n",
       "      <td>1.779472</td>\n",
       "      <td>-8.309467</td>\n",
       "      <td>0.0</td>\n",
       "      <td>0.046111</td>\n",
       "    </tr>\n",
       "    <tr>\n",
       "      <th>62</th>\n",
       "      <td>3.069550</td>\n",
       "      <td>-5.201364</td>\n",
       "      <td>0.0</td>\n",
       "      <td>0.022396</td>\n",
       "      <td>-0.602118</td>\n",
       "      <td>6.999699</td>\n",
       "      <td>0.0</td>\n",
       "      <td>0.049786</td>\n",
       "      <td>4.244837</td>\n",
       "      <td>15.407806</td>\n",
       "      <td>0.0</td>\n",
       "      <td>0.109382</td>\n",
       "      <td>2.311671</td>\n",
       "      <td>-6.654770</td>\n",
       "      <td>0.0</td>\n",
       "      <td>0.037103</td>\n",
       "    </tr>\n",
       "  </tbody>\n",
       "</table>\n",
       "<p>63 rows × 16 columns</p>\n",
       "</div>"
      ],
      "text/plain": [
       "scorer    OpenField-5                                                       \\\n",
       "bodyparts     leftear                              rightear                  \n",
       "coords              x           y    z likelihood         x         y    z   \n",
       "0            5.966216   -4.787393  0.0   0.032592 -1.522350  8.632778  0.0   \n",
       "1            4.879360   -3.865869  0.0   0.040094 -1.018066  9.007607  0.0   \n",
       "2            7.582597  141.982101  0.0   0.023750 -1.379965  6.661551  0.0   \n",
       "3            6.314935   -4.641110  0.0   0.026313 -1.371757  7.696576  0.0   \n",
       "4            5.441626   -5.161995  0.0   0.030603 -1.186847  7.544275  0.0   \n",
       "..                ...         ...  ...        ...       ...       ...  ...   \n",
       "58           2.117847   -3.214342  0.0   0.033657 -1.280500  9.483593  0.0   \n",
       "59           3.116104   -4.693888  0.0   0.024087  0.219144  8.388535  0.0   \n",
       "60           3.547711   -4.983343  0.0   0.023138 -0.428721  7.312115  0.0   \n",
       "61           2.383031   -3.214643  0.0   0.030314 -1.092042  8.263630  0.0   \n",
       "62           3.069550   -5.201364  0.0   0.022396 -0.602118  6.999699  0.0   \n",
       "\n",
       "scorer                                                                         \\\n",
       "bodyparts                snout                             tailbase             \n",
       "coords    likelihood         x          y    z likelihood         x         y   \n",
       "0           0.053609  2.076265  16.415096  0.0   0.139537  3.148022 -6.657187   \n",
       "1           0.069977  1.774640  17.406301  0.0   0.176452  2.704738 -8.274201   \n",
       "2           0.060571  2.861758  13.935984  0.0   0.148534  2.233558 -6.290349   \n",
       "3           0.059226  2.387363  16.957266  0.0   0.144777  2.781236 -7.757162   \n",
       "4           0.063246  2.337324  18.026840  0.0   0.148035  2.534595 -9.052482   \n",
       "..               ...       ...        ...  ...        ...       ...       ...   \n",
       "58          0.046280  2.093328  17.112661  0.0   0.158959  2.268270 -8.589610   \n",
       "59          0.053968  3.630704  16.375135  0.0   0.108622  1.831684 -6.993159   \n",
       "60          0.042809  3.867933  16.821577  0.0   0.097812  1.444253 -7.488105   \n",
       "61          0.054284  2.453674  17.717480  0.0   0.136344  1.779472 -8.309467   \n",
       "62          0.049786  4.244837  15.407806  0.0   0.109382  2.311671 -6.654770   \n",
       "\n",
       "scorer                     \n",
       "bodyparts                  \n",
       "coords       z likelihood  \n",
       "0          0.0   0.054340  \n",
       "1          0.0   0.067940  \n",
       "2          0.0   0.044671  \n",
       "3          0.0   0.058866  \n",
       "4          0.0   0.055323  \n",
       "..         ...        ...  \n",
       "58         0.0   0.051529  \n",
       "59         0.0   0.040950  \n",
       "60         0.0   0.031486  \n",
       "61         0.0   0.046111  \n",
       "62         0.0   0.037103  \n",
       "\n",
       "[63 rows x 16 columns]"
      ]
     },
     "execution_count": 8,
     "metadata": {},
     "output_type": "execute_result"
    }
   ],
   "source": [
    "model.PoseEstimation.get_trajectory(key)"
   ]
  },
  {
   "cell_type": "markdown",
   "metadata": {},
   "source": [
    "## Summary and next step\n",
    "\n",
    "+ This notebook runs through the workflow in an automatic manner.\n",
    "\n",
    "+ The next notebook [06-Drop](06-Drop_Optional.ipynb) shows how to drop schemas and tables if needed."
   ]
  }
 ],
 "metadata": {
  "jupytext": {
   "formats": "ipynb,py:percent"
  },
  "kernelspec": {
   "display_name": "venv-dlc",
   "language": "python",
   "name": "venv-dlc"
  },
  "language_info": {
   "codemirror_mode": {
    "name": "ipython",
    "version": 3
   },
   "file_extension": ".py",
   "mimetype": "text/x-python",
   "name": "python",
   "nbconvert_exporter": "python",
   "pygments_lexer": "ipython3",
   "version": "3.8.12"
  }
 },
 "nbformat": 4,
 "nbformat_minor": 4
}
