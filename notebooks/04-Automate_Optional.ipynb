{
 "cells": [
  {
   "cell_type": "markdown",
   "metadata": {
    "tags": []
   },
   "source": [
    "# DataJoint U24 - Workflow DeepLabCut"
   ]
  },
  {
   "cell_type": "markdown",
   "metadata": {
    "pycharm": {
     "name": "#%% md\n"
    }
   },
   "source": [
    "## Workflow Automation\n",
    "\n",
    "In the previous notebook [03-Process](./03-Process.ipynb), we ran through the workflow in detailed steps. For daily running routines, the current notebook provides a more succinct and automatic approach to run through the pipeline using some utility functions in the workflow.\n",
    "\n",
    "The commands here run a workflow using [example data](https://downgit.github.io/#/home?url=https://github.com/DeepLabCut/DeepLabCut/tree/master/examples/openfield-Pranav-2018-10-30) from the [00-DownloadData](./00-DataDownload_Optional.ipynb) notebook, but note where placeholders could be changed for a different dataset."
   ]
  },
  {
   "cell_type": "code",
   "execution_count": 1,
   "metadata": {
    "tags": []
   },
   "outputs": [
    {
     "name": "stdout",
     "output_type": "stream",
     "text": [
      "Connecting cbroz@dss-db.datajoint.io:3306\n"
     ]
    }
   ],
   "source": [
    "import os; from pathlib import Path\n",
    "# change to the upper level folder to detect dj_local_conf.json\n",
    "if os.path.basename(os.getcwd())=='notebooks': os.chdir('..')\n",
    "assert os.path.basename(os.getcwd())=='workflow-deeplabcut', (\"Please move to the \"\n",
    "                                                              + \"workflow directory\")\n",
    "from workflow_deeplabcut.pipeline import lab, subject, session, train, model\n",
    "from workflow_deeplabcut import process"
   ]
  },
  {
   "cell_type": "markdown",
   "metadata": {},
   "source": [
    "We'll be using the `process.py` script to automatically loop through all `make` functions, as a shortcut for calling each individually.\n",
    "\n",
    "If you previously completed the [03-Process notebook](./03-Process.ipynb), you may want to delete the contents ingested there, to avoid duplication errors."
   ]
  },
  {
   "cell_type": "code",
   "execution_count": null,
   "metadata": {},
   "outputs": [],
   "source": [
    "safemode=None # Set to false to turn off confirmation prompts\n",
    "(session.Session & 'subject=\"subject6\"').delete(safemode=safemode)\n",
    "train.TrainingParamSet.delete(safemode=safemode)\n",
    "train.VideoSet.delete(safemode=safemode)"
   ]
  },
  {
   "cell_type": "markdown",
   "metadata": {},
   "source": [
    "## Ingestion of subjects, sessions, videos and training parameters\n",
    "\n",
    "Refer to the `user_data` folder in the workflow.\n",
    "\n",
    "1. Fill subject and session information in files `subjects.csv` and `sessions.csv`\n",
    "2. Fill in recording and parameter information in `recordings.csv` and `config_params.csv`\n",
    "    + Add both training and estimation videos to the recording list\n",
    "    + Additional columns in `config_params.csv` will be treated as model training parameters\n",
    "3. Run automatic scripts prepared in `workflow_deeplabcut.ingest` for ingestion: \n",
    "    + `ingest_subjects` for `subject.Subject`\n",
    "    + `ingest_sessions` - for session tables `Session`, `SessionDirectory`, and `SessionNote`\n",
    "    + `ingest_dlc_items` - for ...\n",
    "        - `train.ModelTrainingParamSet`\n",
    "        - `train.VideoSet` and the corresponding `File` part table\n",
    "        - `model.VideoRecording` and the corresponding `File` part table"
   ]
  },
  {
   "cell_type": "code",
   "execution_count": 2,
   "metadata": {},
   "outputs": [
    {
     "name": "stdout",
     "output_type": "stream",
     "text": [
      "\n",
      "---- Inserting 0 entry(s) into subject ----\n",
      "\n",
      "---- Inserting 2 entry(s) into session ----\n",
      "\n",
      "---- Inserting 2 entry(s) into session_directory ----\n",
      "\n",
      "---- Inserting 2 entry(s) into session_note ----\n",
      "\n",
      "---- Inserting 3 entry(s) into #model_training_param_set ----\n",
      "\n",
      "---- Inserting 2 entry(s) into video_set ----\n",
      "\n",
      "---- Inserting 8 entry(s) into video_set__file ----\n",
      "\n",
      "---- Inserting 2 entry(s) into video_recording ----\n",
      "\n",
      "---- Inserting 2 entry(s) into video_recording__file ----\n"
     ]
    }
   ],
   "source": [
    "from workflow_deeplabcut.ingest import ingest_subjects, ingest_sessions, ingest_dlc_items\n",
    "ingest_subjects(); ingest_sessions(); ingest_dlc_items()"
   ]
  },
  {
   "cell_type": "markdown",
   "metadata": {},
   "source": [
    "## Setting project variables\n",
    "\n",
    "1. Set your root directory in your DataJoint config file, under `custom` as `dlc_root_data_dir`. "
   ]
  },
  {
   "cell_type": "code",
   "execution_count": 4,
   "metadata": {},
   "outputs": [],
   "source": [
    "import datajoint as dj; dj.config.load('dj_local_conf.json')\n",
    "from element_interface.utils import find_full_path\n",
    "data_dir = find_full_path(dj.config['custom']['dlc_root_data_dir'], # root from config\n",
    "                          'openfield-Pranav-2018-10-30')            # DLC project dir\n",
    "config_path = (data_dir / 'config.yaml')"
   ]
  },
  {
   "cell_type": "markdown",
   "metadata": {},
   "source": [
    "2. For the purposes of this demo, we will\n",
    "   1. ask DeepLabCut to structure the demo config file with `load_demo_data`. If you already did this in the [00-DataDownload notebook](./00-DataDownload_Optional.ipynb), skip this step.\n",
    "   2. generate a copy to show pose estimation. This is `recording_id` 2 in `recordings.csv`. If you already did this in the [00-DataDownload notebook](./00-DataDownload_Optional.ipynb), skip this step."
   ]
  },
  {
   "cell_type": "code",
   "execution_count": 4,
   "metadata": {},
   "outputs": [
    {
     "name": "stderr",
     "output_type": "stream",
     "text": [
      "File '/Volumes/GoogleDrive/My Drive/Dev/DeepLabCut/examples/JUPYTER/openfield-Pranav-2018-10-30/videos/m3v1mp4-copy.mp4' already exists. Exiting.\n"
     ]
    },
    {
     "data": {
      "text/plain": [
       "256"
      ]
     },
     "execution_count": 4,
     "metadata": {},
     "output_type": "execute_result"
    }
   ],
   "source": [
    "# A\n",
    "from deeplabcut.create_project.demo_data import load_demo_data\n",
    "# load_demo_data(config_path)\n",
    "# B\n",
    "vid_path = str(data_dir).replace(\" \", \"\\ \") + '/videos/m3v1mp4'\n",
    "cmd = (f'ffmpeg -n -hide_banner -loglevel error -ss 0 -t 2 -i {vid_path}.mp4 -vcodec copy '\n",
    "       + f'-acodec copy {vid_path}-copy.mp4') # New video copy, first 2 seconds\n",
    "os.system(cmd)"
   ]
  },
  {
   "cell_type": "markdown",
   "metadata": {},
   "source": [
    "3. Next, we pair training files with training parameters, and launch training via `process`. \n",
    "   - Some tables may try to populate without upstream keys. \n",
    "   - Others, like `RecordingInfo` already have keys loaded.\n",
    "   - Note: DLC's model processes (e.g., Training, Evaluation) log a lot of information to the console, to quiet this, pass `verbose=False` to `process`"
   ]
  },
  {
   "cell_type": "code",
   "execution_count": null,
   "metadata": {},
   "outputs": [],
   "source": [
    "key={'paramset_idx':1,'training_id':1,'video_set_id':1, \n",
    "     'project_path':'openfield-Pranav-2018-10-30/'}\n",
    "train.TrainingTask.insert1(key, skip_duplicates=True)\n",
    "process.run(verbose=True)\n",
    "model.RecordingInfo()"
   ]
  },
  {
   "cell_type": "markdown",
   "metadata": {},
   "source": [
    "4. Now to add such an upstream key: a model to the `Model` table, and `process` to evaluate.\n",
    "   - Include a user-friendly `model_name`\n",
    "   - Include the relative path for the project's `config.yaml`\n",
    "   - Add `shuffle` and `trainingsetindex`\n",
    "   - `insert_new_model` will prompt before inserting, but this can be skipped with `prompt=False`"
   ]
  },
  {
   "cell_type": "code",
   "execution_count": null,
   "metadata": {},
   "outputs": [],
   "source": [
    "model.Model.insert_new_model(model_name='OpenField-5', \n",
    "                             dlc_config=config_path,\n",
    "                             shuffle=1,\n",
    "                             trainingsetindex=0,\n",
    "                             paramset_idx=1, \n",
    "                             prompt=True, # True is the default behavior\n",
    "                             model_description='Open field model trained 5 iterations')\n",
    "process.run()"
   ]
  },
  {
   "cell_type": "markdown",
   "metadata": {},
   "source": [
    "5. Add a pose estimation task, and launch via `process`.\n",
    "   - Get all primary key information for a given recording\n",
    "   - Add the model and `task_mode` (i.e., load vs. trigger) to be applied\n",
    "   - Add any additional analysis parameters for `deeplabcut.analyze_videos`"
   ]
  },
  {
   "cell_type": "code",
   "execution_count": null,
   "metadata": {},
   "outputs": [],
   "source": [
    "key=(model.VideoRecording & 'recording_id=2').fetch1('KEY')\n",
    "key.update({'model_name': 'OpenField-5', 'task_mode': 'trigger'})\n",
    "analyze_params={'save_as_csv':True} # add any others from deeplabcut.analyze_videos\n",
    "model.PoseEstimationTask.insert_estimation_task(key,params=analyze_params)\n",
    "process.run()"
   ]
  },
  {
   "cell_type": "markdown",
   "metadata": {},
   "source": [
    "6. Retrieve estimated position data."
   ]
  },
  {
   "cell_type": "code",
   "execution_count": 7,
   "metadata": {},
   "outputs": [
    {
     "data": {
      "text/html": [
       "<div>\n",
       "<style scoped>\n",
       "    .dataframe tbody tr th:only-of-type {\n",
       "        vertical-align: middle;\n",
       "    }\n",
       "\n",
       "    .dataframe tbody tr th {\n",
       "        vertical-align: top;\n",
       "    }\n",
       "\n",
       "    .dataframe thead tr th {\n",
       "        text-align: left;\n",
       "    }\n",
       "</style>\n",
       "<table border=\"1\" class=\"dataframe\">\n",
       "  <thead>\n",
       "    <tr>\n",
       "      <th>scorer</th>\n",
       "      <th colspan=\"16\" halign=\"left\">OpenField-5</th>\n",
       "    </tr>\n",
       "    <tr>\n",
       "      <th>bodyparts</th>\n",
       "      <th colspan=\"4\" halign=\"left\">leftear</th>\n",
       "      <th colspan=\"4\" halign=\"left\">rightear</th>\n",
       "      <th colspan=\"4\" halign=\"left\">snout</th>\n",
       "      <th colspan=\"4\" halign=\"left\">tailbase</th>\n",
       "    </tr>\n",
       "    <tr>\n",
       "      <th>coords</th>\n",
       "      <th>x</th>\n",
       "      <th>y</th>\n",
       "      <th>z</th>\n",
       "      <th>likelihood</th>\n",
       "      <th>x</th>\n",
       "      <th>y</th>\n",
       "      <th>z</th>\n",
       "      <th>likelihood</th>\n",
       "      <th>x</th>\n",
       "      <th>y</th>\n",
       "      <th>z</th>\n",
       "      <th>likelihood</th>\n",
       "      <th>x</th>\n",
       "      <th>y</th>\n",
       "      <th>z</th>\n",
       "      <th>likelihood</th>\n",
       "    </tr>\n",
       "  </thead>\n",
       "  <tbody>\n",
       "    <tr>\n",
       "      <th>0</th>\n",
       "      <td>125.213768</td>\n",
       "      <td>0.464425</td>\n",
       "      <td>0.0</td>\n",
       "      <td>0.142836</td>\n",
       "      <td>1.902155</td>\n",
       "      <td>184.619431</td>\n",
       "      <td>0.0</td>\n",
       "      <td>0.123875</td>\n",
       "      <td>-7.285146</td>\n",
       "      <td>61.402088</td>\n",
       "      <td>0.0</td>\n",
       "      <td>0.267532</td>\n",
       "      <td>2.360505</td>\n",
       "      <td>30.929823</td>\n",
       "      <td>0.0</td>\n",
       "      <td>0.132607</td>\n",
       "    </tr>\n",
       "    <tr>\n",
       "      <th>1</th>\n",
       "      <td>125.009758</td>\n",
       "      <td>1.058969</td>\n",
       "      <td>0.0</td>\n",
       "      <td>0.136179</td>\n",
       "      <td>1.532405</td>\n",
       "      <td>183.668121</td>\n",
       "      <td>0.0</td>\n",
       "      <td>0.130291</td>\n",
       "      <td>-7.269304</td>\n",
       "      <td>61.589397</td>\n",
       "      <td>0.0</td>\n",
       "      <td>0.269269</td>\n",
       "      <td>9.910207</td>\n",
       "      <td>168.702576</td>\n",
       "      <td>0.0</td>\n",
       "      <td>0.140683</td>\n",
       "    </tr>\n",
       "    <tr>\n",
       "      <th>2</th>\n",
       "      <td>123.785698</td>\n",
       "      <td>1.801253</td>\n",
       "      <td>0.0</td>\n",
       "      <td>0.150994</td>\n",
       "      <td>1.467412</td>\n",
       "      <td>183.721542</td>\n",
       "      <td>0.0</td>\n",
       "      <td>0.129725</td>\n",
       "      <td>-6.988381</td>\n",
       "      <td>61.624317</td>\n",
       "      <td>0.0</td>\n",
       "      <td>0.266620</td>\n",
       "      <td>2.753981</td>\n",
       "      <td>30.949059</td>\n",
       "      <td>0.0</td>\n",
       "      <td>0.136884</td>\n",
       "    </tr>\n",
       "    <tr>\n",
       "      <th>3</th>\n",
       "      <td>122.621880</td>\n",
       "      <td>2.729937</td>\n",
       "      <td>0.0</td>\n",
       "      <td>0.150831</td>\n",
       "      <td>1.424251</td>\n",
       "      <td>184.009323</td>\n",
       "      <td>0.0</td>\n",
       "      <td>0.133028</td>\n",
       "      <td>-7.054953</td>\n",
       "      <td>61.331848</td>\n",
       "      <td>0.0</td>\n",
       "      <td>0.286876</td>\n",
       "      <td>2.399938</td>\n",
       "      <td>30.467714</td>\n",
       "      <td>0.0</td>\n",
       "      <td>0.146240</td>\n",
       "    </tr>\n",
       "    <tr>\n",
       "      <th>4</th>\n",
       "      <td>123.729645</td>\n",
       "      <td>2.901060</td>\n",
       "      <td>0.0</td>\n",
       "      <td>0.163442</td>\n",
       "      <td>1.417472</td>\n",
       "      <td>183.914078</td>\n",
       "      <td>0.0</td>\n",
       "      <td>0.129994</td>\n",
       "      <td>-6.633567</td>\n",
       "      <td>60.880890</td>\n",
       "      <td>0.0</td>\n",
       "      <td>0.283661</td>\n",
       "      <td>2.544708</td>\n",
       "      <td>30.362843</td>\n",
       "      <td>0.0</td>\n",
       "      <td>0.139938</td>\n",
       "    </tr>\n",
       "    <tr>\n",
       "      <th>...</th>\n",
       "      <td>...</td>\n",
       "      <td>...</td>\n",
       "      <td>...</td>\n",
       "      <td>...</td>\n",
       "      <td>...</td>\n",
       "      <td>...</td>\n",
       "      <td>...</td>\n",
       "      <td>...</td>\n",
       "      <td>...</td>\n",
       "      <td>...</td>\n",
       "      <td>...</td>\n",
       "      <td>...</td>\n",
       "      <td>...</td>\n",
       "      <td>...</td>\n",
       "      <td>...</td>\n",
       "      <td>...</td>\n",
       "    </tr>\n",
       "    <tr>\n",
       "      <th>58</th>\n",
       "      <td>240.315948</td>\n",
       "      <td>-1.135241</td>\n",
       "      <td>0.0</td>\n",
       "      <td>0.141477</td>\n",
       "      <td>2.564324</td>\n",
       "      <td>153.450378</td>\n",
       "      <td>0.0</td>\n",
       "      <td>0.108718</td>\n",
       "      <td>-6.014613</td>\n",
       "      <td>59.291553</td>\n",
       "      <td>0.0</td>\n",
       "      <td>0.264213</td>\n",
       "      <td>2.494397</td>\n",
       "      <td>30.713549</td>\n",
       "      <td>0.0</td>\n",
       "      <td>0.127640</td>\n",
       "    </tr>\n",
       "    <tr>\n",
       "      <th>59</th>\n",
       "      <td>240.919571</td>\n",
       "      <td>-1.104096</td>\n",
       "      <td>0.0</td>\n",
       "      <td>0.122847</td>\n",
       "      <td>6.900490</td>\n",
       "      <td>-0.243096</td>\n",
       "      <td>0.0</td>\n",
       "      <td>0.104687</td>\n",
       "      <td>-6.632689</td>\n",
       "      <td>59.683407</td>\n",
       "      <td>0.0</td>\n",
       "      <td>0.236766</td>\n",
       "      <td>3.034356</td>\n",
       "      <td>30.454117</td>\n",
       "      <td>0.0</td>\n",
       "      <td>0.127521</td>\n",
       "    </tr>\n",
       "    <tr>\n",
       "      <th>60</th>\n",
       "      <td>255.197067</td>\n",
       "      <td>-0.876162</td>\n",
       "      <td>0.0</td>\n",
       "      <td>0.141331</td>\n",
       "      <td>3.224912</td>\n",
       "      <td>170.105179</td>\n",
       "      <td>0.0</td>\n",
       "      <td>0.102174</td>\n",
       "      <td>-6.597838</td>\n",
       "      <td>59.643513</td>\n",
       "      <td>0.0</td>\n",
       "      <td>0.236705</td>\n",
       "      <td>2.666216</td>\n",
       "      <td>30.185883</td>\n",
       "      <td>0.0</td>\n",
       "      <td>0.123881</td>\n",
       "    </tr>\n",
       "    <tr>\n",
       "      <th>61</th>\n",
       "      <td>255.042603</td>\n",
       "      <td>0.554700</td>\n",
       "      <td>0.0</td>\n",
       "      <td>0.152119</td>\n",
       "      <td>6.523534</td>\n",
       "      <td>-0.563077</td>\n",
       "      <td>0.0</td>\n",
       "      <td>0.102816</td>\n",
       "      <td>-6.134833</td>\n",
       "      <td>59.962490</td>\n",
       "      <td>0.0</td>\n",
       "      <td>0.249565</td>\n",
       "      <td>2.555799</td>\n",
       "      <td>30.326237</td>\n",
       "      <td>0.0</td>\n",
       "      <td>0.130592</td>\n",
       "    </tr>\n",
       "    <tr>\n",
       "      <th>62</th>\n",
       "      <td>255.079330</td>\n",
       "      <td>-0.326163</td>\n",
       "      <td>0.0</td>\n",
       "      <td>0.168699</td>\n",
       "      <td>3.389258</td>\n",
       "      <td>170.141495</td>\n",
       "      <td>0.0</td>\n",
       "      <td>0.103460</td>\n",
       "      <td>-6.661276</td>\n",
       "      <td>59.593884</td>\n",
       "      <td>0.0</td>\n",
       "      <td>0.236305</td>\n",
       "      <td>2.978589</td>\n",
       "      <td>30.103178</td>\n",
       "      <td>0.0</td>\n",
       "      <td>0.124924</td>\n",
       "    </tr>\n",
       "  </tbody>\n",
       "</table>\n",
       "<p>63 rows × 16 columns</p>\n",
       "</div>"
      ],
      "text/plain": [
       "scorer    OpenField-5                                                       \\\n",
       "bodyparts     leftear                            rightear                    \n",
       "coords              x         y    z likelihood         x           y    z   \n",
       "0          125.213768  0.464425  0.0   0.142836  1.902155  184.619431  0.0   \n",
       "1          125.009758  1.058969  0.0   0.136179  1.532405  183.668121  0.0   \n",
       "2          123.785698  1.801253  0.0   0.150994  1.467412  183.721542  0.0   \n",
       "3          122.621880  2.729937  0.0   0.150831  1.424251  184.009323  0.0   \n",
       "4          123.729645  2.901060  0.0   0.163442  1.417472  183.914078  0.0   \n",
       "..                ...       ...  ...        ...       ...         ...  ...   \n",
       "58         240.315948 -1.135241  0.0   0.141477  2.564324  153.450378  0.0   \n",
       "59         240.919571 -1.104096  0.0   0.122847  6.900490   -0.243096  0.0   \n",
       "60         255.197067 -0.876162  0.0   0.141331  3.224912  170.105179  0.0   \n",
       "61         255.042603  0.554700  0.0   0.152119  6.523534   -0.563077  0.0   \n",
       "62         255.079330 -0.326163  0.0   0.168699  3.389258  170.141495  0.0   \n",
       "\n",
       "scorer                                                               \\\n",
       "bodyparts                snout                             tailbase   \n",
       "coords    likelihood         x          y    z likelihood         x   \n",
       "0           0.123875 -7.285146  61.402088  0.0   0.267532  2.360505   \n",
       "1           0.130291 -7.269304  61.589397  0.0   0.269269  9.910207   \n",
       "2           0.129725 -6.988381  61.624317  0.0   0.266620  2.753981   \n",
       "3           0.133028 -7.054953  61.331848  0.0   0.286876  2.399938   \n",
       "4           0.129994 -6.633567  60.880890  0.0   0.283661  2.544708   \n",
       "..               ...       ...        ...  ...        ...       ...   \n",
       "58          0.108718 -6.014613  59.291553  0.0   0.264213  2.494397   \n",
       "59          0.104687 -6.632689  59.683407  0.0   0.236766  3.034356   \n",
       "60          0.102174 -6.597838  59.643513  0.0   0.236705  2.666216   \n",
       "61          0.102816 -6.134833  59.962490  0.0   0.249565  2.555799   \n",
       "62          0.103460 -6.661276  59.593884  0.0   0.236305  2.978589   \n",
       "\n",
       "scorer                                 \n",
       "bodyparts                              \n",
       "coords              y    z likelihood  \n",
       "0           30.929823  0.0   0.132607  \n",
       "1          168.702576  0.0   0.140683  \n",
       "2           30.949059  0.0   0.136884  \n",
       "3           30.467714  0.0   0.146240  \n",
       "4           30.362843  0.0   0.139938  \n",
       "..                ...  ...        ...  \n",
       "58          30.713549  0.0   0.127640  \n",
       "59          30.454117  0.0   0.127521  \n",
       "60          30.185883  0.0   0.123881  \n",
       "61          30.326237  0.0   0.130592  \n",
       "62          30.103178  0.0   0.124924  \n",
       "\n",
       "[63 rows x 16 columns]"
      ]
     },
     "execution_count": 7,
     "metadata": {},
     "output_type": "execute_result"
    }
   ],
   "source": [
    "model.PoseEstimation.get_trajectory(key)"
   ]
  },
  {
   "cell_type": "markdown",
   "metadata": {},
   "source": [
    "## Summary and next step\n",
    "\n",
    "+ This notebook runs through the workflow in an automatic manner.\n",
    "\n",
    "+ The next notebook [06-Drop](06-Drop_Optional.ipynb) shows how to drop schemas and tables if needed."
   ]
  }
 ],
 "metadata": {
  "jupytext": {
   "formats": "ipynb,py:percent"
  },
  "kernelspec": {
   "display_name": "venv-dlc",
   "language": "python",
   "name": "venv-dlc"
  },
  "language_info": {
   "codemirror_mode": {
    "name": "ipython",
    "version": 3
   },
   "file_extension": ".py",
   "mimetype": "text/x-python",
   "name": "python",
   "nbconvert_exporter": "python",
   "pygments_lexer": "ipython3",
   "version": "3.8.12"
  }
 },
 "nbformat": 4,
 "nbformat_minor": 4
}
