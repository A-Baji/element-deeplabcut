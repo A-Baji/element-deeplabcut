{
 "cells": [
  {
   "cell_type": "markdown",
   "id": "d26010d6-acbc-4c90-8b62-a2448c50452d",
   "metadata": {},
   "source": [
    "# DataJoint U24 - Workflow Behavior"
   ]
  },
  {
   "cell_type": "markdown",
   "id": "b811f8c8-5851-445e-bfba-b61dfd68388d",
   "metadata": {
    "tags": []
   },
   "source": [
    "First, please install both `element-deeplabcut` and `workflow-deeplabcut` locally. We \n",
    "recommend launching a new conda environment and using `pip install -e ./<dir>`. For more\n",
    "information, see our [install instructions](https://github.com/kabilar/datajoint-elements/blob/main/install.md). "
   ]
  },
  {
   "cell_type": "markdown",
   "id": "a9152fd1-faed-4492-8a1b-fc0b04bb54f0",
   "metadata": {
    "tags": []
   },
   "source": [
    "Next, let's change directory to the main workflow directory."
   ]
  },
  {
   "cell_type": "code",
   "execution_count": 1,
   "id": "8b0d2410-e307-49ee-8adf-451bf7b24edc",
   "metadata": {
    "tags": []
   },
   "outputs": [],
   "source": [
    "import os; from pathlib import Path\n",
    "# change to the upper level folder to detect dj_local_conf.json\n",
    "if os.path.basename(os.getcwd())=='notebooks': os.chdir('..')\n",
    "assert os.path.basename(os.getcwd())=='workflow-deeplabcut', (\"Please move to the \"\n",
    "                                                              + \"workflow directory\")"
   ]
  },
  {
   "cell_type": "markdown",
   "id": "bf1e4ef2-522d-4a45-a06c-2ba685dfb88c",
   "metadata": {},
   "source": [
    "Second, download the example data we'll be using from the DeepLabCut repository. We will\n",
    "use the [example openfield data](https://github.com/DeepLabCut/DeepLabCut/tree/master/examples/openfield-Pranav-2018-10-30) \n",
    "from the DeepLabCut github repository. If you have already cloned this repository, you \n",
    "may have this data on your machine already. [This link](https://downgit.github.io/#/home?url=https://github.com/DeepLabCut/DeepLabCut/tree/master/examples/openfield-Pranav-2018-10-30) via [DownGit](https://downgit.github.io/) will start the single-directory download \n",
    "automatically. After downloading, please add the path to this directory to the `custom`\n",
    "field of your datajoint config file as `dlc_root_data_dir`. "
   ]
  },
  {
   "cell_type": "code",
   "execution_count": 2,
   "id": "0ad68223-3600-4da9-a3e7-141962fefaf6",
   "metadata": {},
   "outputs": [],
   "source": [
    "import datajoint as dj; dj.config.load('dj_local_conf.json')\n",
    "from element_interface.utils import find_full_path\n",
    "data_dir = find_full_path(dj.config['custom']['dlc_root_data_dir'],\n",
    "                          'openfield-Pranav-2018-10-30')\n",
    "assert data_dir.exists(), \"Please check the that you have the folder openfield-Pranav\""
   ]
  },
  {
   "cell_type": "markdown",
   "id": "343dbd62-8f60-4802-9106-bd5aea2bfe9e",
   "metadata": {},
   "source": [
    "As part of the DeepLabCut demo setup process, you would run the following additional\n",
    "commands, as outlined in their \n",
    "[demo notebook](https://github.com/DeepLabCut/DeepLabCut/blob/master/examples/JUPYTER/Demo_labeledexample_Openfield.ipynb).\n",
    "These steps establish the project path within the demo config file."
   ]
  },
  {
   "cell_type": "code",
   "execution_count": 3,
   "id": "640f83f8-23c3-4058-894f-5fce872e8e18",
   "metadata": {},
   "outputs": [
    {
     "name": "stdout",
     "output_type": "stream",
     "text": [
      "Loaded, now creating training data...\n",
      "The training dataset is successfully created. Use the function 'train_network' to start training. Happy training!\n"
     ]
    }
   ],
   "source": [
    "from deeplabcut.create_project.demo_data import load_demo_data as dlc_load_demo\n",
    "dlc_load_demo(data_dir / 'config.yaml')"
   ]
  },
  {
   "cell_type": "markdown",
   "id": "43dcb79d-72f8-468a-be2a-59866505b888",
   "metadata": {},
   "source": [
    "Later, we'll use the first few seconds of the training video as a 'separate session' to model\n",
    "the pose estimation feature of this pipeline. `ffmpeg` is a dependency of DeepLabCut\n",
    "that can splice the training video for a demonstration purposes. The command below saves\n",
    "the first 2 seconds of the training video as a copy."
   ]
  },
  {
   "cell_type": "code",
   "execution_count": 4,
   "id": "10218fae-c1ab-43cb-8c6a-37dcd38f8ff6",
   "metadata": {
    "tags": []
   },
   "outputs": [
    {
     "name": "stderr",
     "output_type": "stream",
     "text": [
      "File '/Volumes/GoogleDrive/My Drive/Dev/DeepLabCut/examples/JUPYTER/openfield-Pranav-2018-10-30/videos/m3v1mp4-copy.mp4' already exists. Exiting.\n"
     ]
    },
    {
     "data": {
      "text/plain": [
       "256"
      ]
     },
     "execution_count": 4,
     "metadata": {},
     "output_type": "execute_result"
    }
   ],
   "source": [
    "vid_path = str(data_dir).replace(\" \", \"\\ \") + '/videos/m3v1mp4'\n",
    "cmd = (f'ffmpeg -n -hide_banner -loglevel error -ss 2 -i {vid_path}.mp4 -vcodec copy '\n",
    "       + f'-acodec copy {vid_path}-copy.mp4')\n",
    "os.system(cmd)"
   ]
  },
  {
   "cell_type": "markdown",
   "id": "9ac69bc0-4e62-4094-b506-39dcc9f93515",
   "metadata": {},
   "source": [
    "Now, we can activate the `dlc` schema and import some data from files stored in this\n",
    "directory under `user_data/<file>.csv`. Subject and session data imports like these are \n",
    "common across DataJoint workflows. They include fields like `subject_birth_date` and \n",
    "`session_datetime`\n",
    "\n",
    "The recordings file specifies all videos across sessions, including both model training\n",
    "videos and videos for later analysis. The config parameter csv is used in the \n",
    "`ModelTrainingParamSet` table, which features a longblob field for any parameters \n",
    "required in model training. Both shuffle and trainingsetindex are required in this \n",
    "field, but many others can be added to later be passed to DLC's `train_model` function.\n",
    "In this case, `maxiters` to only run a handful of training iterations for our example \n",
    "model."
   ]
  },
  {
   "cell_type": "code",
   "execution_count": 1,
   "id": "d25b109d-c8b2-46f6-8fde-cbd9135cdfc3",
   "metadata": {},
   "outputs": [
    {
     "ename": "ModuleNotFoundError",
     "evalue": "No module named 'workflow_deeplabcut'",
     "output_type": "error",
     "traceback": [
      "\u001b[0;31m---------------------------------------------------------------------------\u001b[0m",
      "\u001b[0;31mModuleNotFoundError\u001b[0m                       Traceback (most recent call last)",
      "\u001b[0;32m/var/folders/_9/tzvq__ws5z9gv5s7jvkj570r0000gn/T/ipykernel_12766/1191413193.py\u001b[0m in \u001b[0;36m<module>\u001b[0;34m\u001b[0m\n\u001b[0;32m----> 1\u001b[0;31m \u001b[0;32mfrom\u001b[0m \u001b[0mworkflow_deeplabcut\u001b[0m\u001b[0;34m.\u001b[0m\u001b[0mpipeline\u001b[0m \u001b[0;32mimport\u001b[0m \u001b[0mlab\u001b[0m\u001b[0;34m,\u001b[0m \u001b[0msubject\u001b[0m\u001b[0;34m,\u001b[0m \u001b[0msession\u001b[0m\u001b[0;34m,\u001b[0m \u001b[0mdlc\u001b[0m\u001b[0;34m\u001b[0m\u001b[0;34m\u001b[0m\u001b[0m\n\u001b[0m\u001b[1;32m      2\u001b[0m \u001b[0;32mfrom\u001b[0m \u001b[0mworkflow_deeplabcut\u001b[0m\u001b[0;34m.\u001b[0m\u001b[0mingest\u001b[0m \u001b[0;32mimport\u001b[0m \u001b[0mingest_subjects\u001b[0m\u001b[0;34m,\u001b[0m \u001b[0mingest_sessions\u001b[0m\u001b[0;34m,\u001b[0m \u001b[0mingest_dlc_items\u001b[0m\u001b[0;34m\u001b[0m\u001b[0;34m\u001b[0m\u001b[0m\n\u001b[1;32m      3\u001b[0m \u001b[0mingest_subjects\u001b[0m\u001b[0;34m(\u001b[0m\u001b[0;34m)\u001b[0m\u001b[0;34m;\u001b[0m \u001b[0mingest_sessions\u001b[0m\u001b[0;34m(\u001b[0m\u001b[0;34m)\u001b[0m\u001b[0;34m;\u001b[0m \u001b[0mingest_dlc_items\u001b[0m\u001b[0;34m(\u001b[0m\u001b[0;34m)\u001b[0m\u001b[0;34m\u001b[0m\u001b[0;34m\u001b[0m\u001b[0m\n",
      "\u001b[0;31mModuleNotFoundError\u001b[0m: No module named 'workflow_deeplabcut'"
     ]
    }
   ],
   "source": [
    "from workflow_deeplabcut.pipeline import lab, subject, session, dlc\n",
    "from workflow_deeplabcut.ingest import ingest_subjects, ingest_sessions, ingest_dlc_items\n",
    "ingest_subjects(); ingest_sessions(); ingest_dlc_items()"
   ]
  },
  {
   "cell_type": "markdown",
   "id": "d2738f21-591a-406b-8cd0-9a43ff6273d6",
   "metadata": {},
   "source": [
    "Let's look at the tables this populated."
   ]
  },
  {
   "cell_type": "code",
   "execution_count": 6,
   "id": "95434ff7-d60c-40df-9ebc-c0ca3f99fa32",
   "metadata": {},
   "outputs": [
    {
     "data": {
      "text/html": [
       "\n",
       "    \n",
       "    <style type=\"text/css\">\n",
       "        .Relation{\n",
       "            border-collapse:collapse;\n",
       "        }\n",
       "        .Relation th{\n",
       "            background: #A0A0A0; color: #ffffff; padding:4px; border:#f0e0e0 1px solid;\n",
       "            font-weight: normal; font-family: monospace; font-size: 100%;\n",
       "        }\n",
       "        .Relation td{\n",
       "            padding:4px; border:#f0e0e0 1px solid; font-size:100%;\n",
       "        }\n",
       "        .Relation tr:nth-child(odd){\n",
       "            background: #ffffff;\n",
       "        }\n",
       "        .Relation tr:nth-child(even){\n",
       "            background: #f3f1ff;\n",
       "        }\n",
       "        /* Tooltip container */\n",
       "        .djtooltip {\n",
       "        }\n",
       "        /* Tooltip text */\n",
       "        .djtooltip .djtooltiptext {\n",
       "            visibility: hidden;\n",
       "            width: 120px;\n",
       "            background-color: black;\n",
       "            color: #fff;\n",
       "            text-align: center;\n",
       "            padding: 5px 0;\n",
       "            border-radius: 6px;\n",
       "            /* Position the tooltip text - see examples below! */\n",
       "            position: absolute;\n",
       "            z-index: 1;\n",
       "        }\n",
       "        #primary {\n",
       "            font-weight: bold;\n",
       "            color: black;\n",
       "        }\n",
       "        #nonprimary {\n",
       "            font-weight: normal;\n",
       "            color: white;\n",
       "        }\n",
       "\n",
       "        /* Show the tooltip text when you mouse over the tooltip container */\n",
       "        .djtooltip:hover .djtooltiptext {\n",
       "            visibility: visible;\n",
       "        }\n",
       "    </style>\n",
       "    \n",
       "    <b>Animal Subject</b>\n",
       "        <div style=\"max-height:1000px;max-width:1500px;overflow:auto;\">\n",
       "        <table border=\"1\" class=\"Relation\">\n",
       "            <thead> <tr style=\"text-align: right;\"> <th> <div class=\"djtooltip\">\n",
       "                            <p id=\"primary\">subject</p>\n",
       "                            <span class=\"djtooltiptext\"></span>\n",
       "                        </div></th><th><div class=\"djtooltip\">\n",
       "                            <p id=\"nonprimary\">sex</p>\n",
       "                            <span class=\"djtooltiptext\"></span>\n",
       "                        </div></th><th><div class=\"djtooltip\">\n",
       "                            <p id=\"nonprimary\">subject_birth_date</p>\n",
       "                            <span class=\"djtooltiptext\"></span>\n",
       "                        </div></th><th><div class=\"djtooltip\">\n",
       "                            <p id=\"nonprimary\">subject_description</p>\n",
       "                            <span class=\"djtooltiptext\"></span>\n",
       "                        </div> </th> </tr> </thead>\n",
       "            <tbody> <tr> <td>subject1</td>\n",
       "<td>M</td>\n",
       "<td>2020-12-30</td>\n",
       "<td>test animal</td></tr><tr><td>subject2</td>\n",
       "<td>F</td>\n",
       "<td>2020-11-30</td>\n",
       "<td>test animal</td></tr><tr><td>subject3</td>\n",
       "<td>F</td>\n",
       "<td>2020-12-30</td>\n",
       "<td>test animal</td></tr><tr><td>subject4</td>\n",
       "<td>M</td>\n",
       "<td>2021-02-12</td>\n",
       "<td>test animal</td></tr><tr><td>subject5</td>\n",
       "<td>F</td>\n",
       "<td>2020-01-01</td>\n",
       "<td>rich</td></tr><tr><td>subject6</td>\n",
       "<td>M</td>\n",
       "<td>2020-01-01</td>\n",
       "<td>manuel</td></tr><tr><td>subject7</td>\n",
       "<td>U</td>\n",
       "<td>2020-08-30</td>\n",
       "<td>test animal</td></tr><tr><td>subject8</td>\n",
       "<td>F</td>\n",
       "<td>2020-09-30</td>\n",
       "<td>test animal</td></tr><tr><td>subjectX</td>\n",
       "<td>F</td>\n",
       "<td>2020-01-01</td>\n",
       "<td>manuel</td></tr><tr><td>subjectY</td>\n",
       "<td>M</td>\n",
       "<td>2020-01-01</td>\n",
       "<td>manuel</td></tr><tr><td>subjectZ</td>\n",
       "<td>M</td>\n",
       "<td>2020-01-01</td>\n",
       "<td>manuel</td> </tr> </tbody>\n",
       "        </table>\n",
       "        \n",
       "        <p>Total: 11</p></div>\n",
       "        "
      ],
      "text/plain": [
       "*subject     sex     subject_birth_ subject_descri\n",
       "+----------+ +-----+ +------------+ +------------+\n",
       "subject1     M       2020-12-30     test animal   \n",
       "subject2     F       2020-11-30     test animal   \n",
       "subject3     F       2020-12-30     test animal   \n",
       "subject4     M       2021-02-12     test animal   \n",
       "subject5     F       2020-01-01     rich          \n",
       "subject6     M       2020-01-01     manuel        \n",
       "subject7     U       2020-08-30     test animal   \n",
       "subject8     F       2020-09-30     test animal   \n",
       "subjectX     F       2020-01-01     manuel        \n",
       "subjectY     M       2020-01-01     manuel        \n",
       "subjectZ     M       2020-01-01     manuel        \n",
       " (Total: 11)"
      ]
     },
     "execution_count": 6,
     "metadata": {},
     "output_type": "execute_result"
    }
   ],
   "source": [
    "subject.Subject()"
   ]
  },
  {
   "cell_type": "code",
   "execution_count": 7,
   "id": "057f467c-a012-4425-8bec-960b1ae153bd",
   "metadata": {},
   "outputs": [
    {
     "data": {
      "text/html": [
       "\n",
       "    \n",
       "    <style type=\"text/css\">\n",
       "        .Relation{\n",
       "            border-collapse:collapse;\n",
       "        }\n",
       "        .Relation th{\n",
       "            background: #A0A0A0; color: #ffffff; padding:4px; border:#f0e0e0 1px solid;\n",
       "            font-weight: normal; font-family: monospace; font-size: 100%;\n",
       "        }\n",
       "        .Relation td{\n",
       "            padding:4px; border:#f0e0e0 1px solid; font-size:100%;\n",
       "        }\n",
       "        .Relation tr:nth-child(odd){\n",
       "            background: #ffffff;\n",
       "        }\n",
       "        .Relation tr:nth-child(even){\n",
       "            background: #f3f1ff;\n",
       "        }\n",
       "        /* Tooltip container */\n",
       "        .djtooltip {\n",
       "        }\n",
       "        /* Tooltip text */\n",
       "        .djtooltip .djtooltiptext {\n",
       "            visibility: hidden;\n",
       "            width: 120px;\n",
       "            background-color: black;\n",
       "            color: #fff;\n",
       "            text-align: center;\n",
       "            padding: 5px 0;\n",
       "            border-radius: 6px;\n",
       "            /* Position the tooltip text - see examples below! */\n",
       "            position: absolute;\n",
       "            z-index: 1;\n",
       "        }\n",
       "        #primary {\n",
       "            font-weight: bold;\n",
       "            color: black;\n",
       "        }\n",
       "        #nonprimary {\n",
       "            font-weight: normal;\n",
       "            color: white;\n",
       "        }\n",
       "\n",
       "        /* Show the tooltip text when you mouse over the tooltip container */\n",
       "        .djtooltip:hover .djtooltiptext {\n",
       "            visibility: visible;\n",
       "        }\n",
       "    </style>\n",
       "    \n",
       "    \n",
       "        <div style=\"max-height:1000px;max-width:1500px;overflow:auto;\">\n",
       "        <table border=\"1\" class=\"Relation\">\n",
       "            <thead> <tr style=\"text-align: right;\"> <th> <div class=\"djtooltip\">\n",
       "                            <p id=\"primary\">subject</p>\n",
       "                            <span class=\"djtooltiptext\"></span>\n",
       "                        </div></th><th><div class=\"djtooltip\">\n",
       "                            <p id=\"primary\">session_datetime</p>\n",
       "                            <span class=\"djtooltiptext\"></span>\n",
       "                        </div></th><th><div class=\"djtooltip\">\n",
       "                            <p id=\"nonprimary\">session_dir</p>\n",
       "                            <span class=\"djtooltiptext\">Path to the data directory for a session</span>\n",
       "                        </div></th><th><div class=\"djtooltip\">\n",
       "                            <p id=\"nonprimary\">session_note</p>\n",
       "                            <span class=\"djtooltiptext\"></span>\n",
       "                        </div> </th> </tr> </thead>\n",
       "            <tbody> <tr> <td>subject5</td>\n",
       "<td>2020-04-15 11:16:38</td>\n",
       "<td>Reaching-Mackenzie-2018-08-30/</td>\n",
       "<td>Successful data collection, no notes</td></tr><tr><td>subject6</td>\n",
       "<td>2021-06-02 14:04:22</td>\n",
       "<td>openfield-Pranav-2018-10-30/</td>\n",
       "<td>Model Training Session</td></tr><tr><td>subject6</td>\n",
       "<td>2021-06-03 14:04:22</td>\n",
       "<td>openfield-Pranav-2018-10-30/</td>\n",
       "<td>Test Session</td> </tr> </tbody>\n",
       "        </table>\n",
       "        \n",
       "        <p>Total: 3</p></div>\n",
       "        "
      ],
      "text/plain": [
       "*subject     *session_datet session_dir    session_note  \n",
       "+----------+ +------------+ +------------+ +------------+\n",
       "subject5     2020-04-15 11: Reaching-Macke Successful dat\n",
       "subject6     2021-06-02 14: openfield-Pran Model Training\n",
       "subject6     2021-06-03 14: openfield-Pran Test Session  \n",
       " (Total: 3)"
      ]
     },
     "execution_count": 7,
     "metadata": {},
     "output_type": "execute_result"
    }
   ],
   "source": [
    "session.Session * session.SessionDirectory * session.SessionNote"
   ]
  },
  {
   "cell_type": "markdown",
   "id": "63b3e2a4-a860-4ccb-a2b0-62fafb7d412c",
   "metadata": {},
   "source": [
    "Note that the video recording filepaths are specified relative to the root directory\n",
    "defined within the workflow. This allows multiple users to operate on the same \n",
    "filestructures across different machines. Because the root directory is passed as a \n",
    "list, there can be multiple root directories on a given machine."
   ]
  },
  {
   "cell_type": "code",
   "execution_count": 8,
   "id": "e043aeae-0039-43db-ac18-4fb198aa5b76",
   "metadata": {},
   "outputs": [
    {
     "name": "stdout",
     "output_type": "stream",
     "text": [
      "Root: /Volumes/GoogleDrive/My Drive/Dev/DeepLabCut/examples/JUPYTER/\n",
      "Root: /Users/cb/Documents/U24_SampleData/\n"
     ]
    },
    {
     "data": {
      "text/html": [
       "\n",
       "    \n",
       "    <style type=\"text/css\">\n",
       "        .Relation{\n",
       "            border-collapse:collapse;\n",
       "        }\n",
       "        .Relation th{\n",
       "            background: #A0A0A0; color: #ffffff; padding:4px; border:#f0e0e0 1px solid;\n",
       "            font-weight: normal; font-family: monospace; font-size: 100%;\n",
       "        }\n",
       "        .Relation td{\n",
       "            padding:4px; border:#f0e0e0 1px solid; font-size:100%;\n",
       "        }\n",
       "        .Relation tr:nth-child(odd){\n",
       "            background: #ffffff;\n",
       "        }\n",
       "        .Relation tr:nth-child(even){\n",
       "            background: #f3f1ff;\n",
       "        }\n",
       "        /* Tooltip container */\n",
       "        .djtooltip {\n",
       "        }\n",
       "        /* Tooltip text */\n",
       "        .djtooltip .djtooltiptext {\n",
       "            visibility: hidden;\n",
       "            width: 120px;\n",
       "            background-color: black;\n",
       "            color: #fff;\n",
       "            text-align: center;\n",
       "            padding: 5px 0;\n",
       "            border-radius: 6px;\n",
       "            /* Position the tooltip text - see examples below! */\n",
       "            position: absolute;\n",
       "            z-index: 1;\n",
       "        }\n",
       "        #primary {\n",
       "            font-weight: bold;\n",
       "            color: black;\n",
       "        }\n",
       "        #nonprimary {\n",
       "            font-weight: normal;\n",
       "            color: white;\n",
       "        }\n",
       "\n",
       "        /* Show the tooltip text when you mouse over the tooltip container */\n",
       "        .djtooltip:hover .djtooltiptext {\n",
       "            visibility: visible;\n",
       "        }\n",
       "    </style>\n",
       "    \n",
       "    <b></b>\n",
       "        <div style=\"max-height:1000px;max-width:1500px;overflow:auto;\">\n",
       "        <table border=\"1\" class=\"Relation\">\n",
       "            <thead> <tr style=\"text-align: right;\"> <th> <div class=\"djtooltip\">\n",
       "                            <p id=\"primary\">subject</p>\n",
       "                            <span class=\"djtooltiptext\"></span>\n",
       "                        </div></th><th><div class=\"djtooltip\">\n",
       "                            <p id=\"primary\">session_datetime</p>\n",
       "                            <span class=\"djtooltiptext\"></span>\n",
       "                        </div></th><th><div class=\"djtooltip\">\n",
       "                            <p id=\"primary\">camera_id</p>\n",
       "                            <span class=\"djtooltiptext\"></span>\n",
       "                        </div></th><th><div class=\"djtooltip\">\n",
       "                            <p id=\"primary\">recording_id</p>\n",
       "                            <span class=\"djtooltiptext\"></span>\n",
       "                        </div></th><th><div class=\"djtooltip\">\n",
       "                            <p id=\"primary\">file_path</p>\n",
       "                            <span class=\"djtooltiptext\">filepath of video, relative to root data directory</span>\n",
       "                        </div> </th> </tr> </thead>\n",
       "            <tbody> <tr> <td>subject5</td>\n",
       "<td>2020-04-15 11:16:38</td>\n",
       "<td>1</td>\n",
       "<td>3</td>\n",
       "<td>Reaching-Mackenzie-2018-08-30/videos/reachingvideo1.avi</td></tr><tr><td>subject6</td>\n",
       "<td>2021-06-02 14:04:22</td>\n",
       "<td>1</td>\n",
       "<td>1</td>\n",
       "<td>openfield-Pranav-2018-10-30/videos/m3v1mp4.mp4</td></tr><tr><td>subject6</td>\n",
       "<td>2021-06-03 14:04:22</td>\n",
       "<td>1</td>\n",
       "<td>2</td>\n",
       "<td>openfield-Pranav-2018-10-30/videos/m3v1mp4-copy.mp4</td> </tr> </tbody>\n",
       "        </table>\n",
       "        \n",
       "        <p>Total: 3</p></div>\n",
       "        "
      ],
      "text/plain": [
       "*subject     *session_datet *camera_id    *recording_id  *file_path    \n",
       "+----------+ +------------+ +-----------+ +------------+ +------------+\n",
       "subject5     2020-04-15 11: 1             3              Reaching-Macke\n",
       "subject6     2021-06-02 14: 1             1              openfield-Pran\n",
       "subject6     2021-06-03 14: 1             2              openfield-Pran\n",
       " (Total: 3)"
      ]
     },
     "execution_count": 8,
     "metadata": {},
     "output_type": "execute_result"
    }
   ],
   "source": [
    "from workflow_deeplabcut.paths import get_dlc_root_data_dir\n",
    "for d in get_dlc_root_data_dir():\n",
    "    print(f'Root: {d}')\n",
    "dlc.VideoRecording.File()"
   ]
  },
  {
   "cell_type": "code",
   "execution_count": 9,
   "id": "bf24a52f-9e3e-411c-9001-523ae498988b",
   "metadata": {},
   "outputs": [
    {
     "data": {
      "text/html": [
       "\n",
       "    \n",
       "    <style type=\"text/css\">\n",
       "        .Relation{\n",
       "            border-collapse:collapse;\n",
       "        }\n",
       "        .Relation th{\n",
       "            background: #A0A0A0; color: #ffffff; padding:4px; border:#f0e0e0 1px solid;\n",
       "            font-weight: normal; font-family: monospace; font-size: 100%;\n",
       "        }\n",
       "        .Relation td{\n",
       "            padding:4px; border:#f0e0e0 1px solid; font-size:100%;\n",
       "        }\n",
       "        .Relation tr:nth-child(odd){\n",
       "            background: #ffffff;\n",
       "        }\n",
       "        .Relation tr:nth-child(even){\n",
       "            background: #f3f1ff;\n",
       "        }\n",
       "        /* Tooltip container */\n",
       "        .djtooltip {\n",
       "        }\n",
       "        /* Tooltip text */\n",
       "        .djtooltip .djtooltiptext {\n",
       "            visibility: hidden;\n",
       "            width: 120px;\n",
       "            background-color: black;\n",
       "            color: #fff;\n",
       "            text-align: center;\n",
       "            padding: 5px 0;\n",
       "            border-radius: 6px;\n",
       "            /* Position the tooltip text - see examples below! */\n",
       "            position: absolute;\n",
       "            z-index: 1;\n",
       "        }\n",
       "        #primary {\n",
       "            font-weight: bold;\n",
       "            color: black;\n",
       "        }\n",
       "        #nonprimary {\n",
       "            font-weight: normal;\n",
       "            color: white;\n",
       "        }\n",
       "\n",
       "        /* Show the tooltip text when you mouse over the tooltip container */\n",
       "        .djtooltip:hover .djtooltiptext {\n",
       "            visibility: visible;\n",
       "        }\n",
       "    </style>\n",
       "    \n",
       "    <b>Parameters to specify a DLC model training instance</b>\n",
       "        <div style=\"max-height:1000px;max-width:1500px;overflow:auto;\">\n",
       "        <table border=\"1\" class=\"Relation\">\n",
       "            <thead> <tr style=\"text-align: right;\"> <th> <div class=\"djtooltip\">\n",
       "                            <p id=\"primary\">paramset_idx</p>\n",
       "                            <span class=\"djtooltiptext\"></span>\n",
       "                        </div></th><th><div class=\"djtooltip\">\n",
       "                            <p id=\"nonprimary\">paramset_desc</p>\n",
       "                            <span class=\"djtooltiptext\"></span>\n",
       "                        </div></th><th><div class=\"djtooltip\">\n",
       "                            <p id=\"nonprimary\">param_set_hash</p>\n",
       "                            <span class=\"djtooltiptext\">hash identifying this parameterset</span>\n",
       "                        </div></th><th><div class=\"djtooltip\">\n",
       "                            <p id=\"nonprimary\">params</p>\n",
       "                            <span class=\"djtooltiptext\">dictionary of all applicable parameters</span>\n",
       "                        </div> </th> </tr> </thead>\n",
       "            <tbody> <tr> <td>1</td>\n",
       "<td>OpenField</td>\n",
       "<td>acf342ee-75e0-6782-b5ef-f0d7d359aa17</td>\n",
       "<td>=BLOB=</td></tr><tr><td>2</td>\n",
       "<td>Reaching</td>\n",
       "<td>8ea3dc9b-e9eb-2709-97ee-9abe32068830</td>\n",
       "<td>=BLOB=</td></tr><tr><td>3</td>\n",
       "<td>ExtraExample</td>\n",
       "<td>ee0be706-5703-acbb-0b8b-6c8e56d8ac68</td>\n",
       "<td>=BLOB=</td> </tr> </tbody>\n",
       "        </table>\n",
       "        \n",
       "        <p>Total: 3</p></div>\n",
       "        "
      ],
      "text/plain": [
       "*paramset_idx  paramset_desc  param_set_hash params    \n",
       "+------------+ +------------+ +------------+ +--------+\n",
       "1              OpenField      acf342ee-75e0- =BLOB=    \n",
       "2              Reaching       8ea3dc9b-e9eb- =BLOB=    \n",
       "3              ExtraExample   ee0be706-5703- =BLOB=    \n",
       " (Total: 3)"
      ]
     },
     "execution_count": 9,
     "metadata": {},
     "output_type": "execute_result"
    }
   ],
   "source": [
    "dlc.ModelTrainingParamSet()"
   ]
  },
  {
   "cell_type": "markdown",
   "id": "cd5622ce-d1ab-48d7-ae53-ca133e96aa97",
   "metadata": {},
   "source": [
    "We can take a closer look at the parameters specified with the `fetch` command. Using\n",
    "the `ingest_dlc_items`, this naturally captures the full `config.yaml`"
   ]
  },
  {
   "cell_type": "code",
   "execution_count": 10,
   "id": "f17e266c-86b6-463f-9f4c-b4d24ca7ecc4",
   "metadata": {},
   "outputs": [
    {
     "name": "stdout",
     "output_type": "stream",
     "text": [
      "[{'param_set_hash': UUID('acf342ee-75e0-6782-b5ef-f0d7d359aa17'),\n",
      "  'params': {'Task': 'openfield',\n",
      "             'TrainingFraction': [0.95],\n",
      "             'alphavalue': 0.7,\n",
      "             'batch_size': 4,\n",
      "             'bodyparts': ['snout', 'leftear', 'rightear', 'tailbase'],\n",
      "             'colormap': 'jet',\n",
      "             'corner2move2': [50, 50],\n",
      "             'cropping': False,\n",
      "             'date': 'Oct30',\n",
      "             'default_augmenter': 'imgaug',\n",
      "             'default_net_type': 'resnet_50',\n",
      "             'dotsize': 8,\n",
      "             'filter_type': '',\n",
      "             'identity': None,\n",
      "             'iteration': 0,\n",
      "             'maxiters': '5',\n",
      "             'move2corner': True,\n",
      "             'multianimalproject': None,\n",
      "             'numframes2pick': 20,\n",
      "             'pcutoff': 0.4,\n",
      "             'scorer': 'Pranav',\n",
      "             'scorer_legacy': 'False',\n",
      "             'shuffle': '1',\n",
      "             'skeleton': [],\n",
      "             'skeleton_color': 'black',\n",
      "             'snapshotindex': -1,\n",
      "             'start': 0,\n",
      "             'stop': 1,\n",
      "             'track_method': '',\n",
      "             'trainingsetindex': '0',\n",
      "             'x1': 0,\n",
      "             'x2': 640,\n",
      "             'y1': 277,\n",
      "             'y2': 624},\n",
      "  'paramset_desc': 'OpenField',\n",
      "  'paramset_idx': 1}]\n"
     ]
    }
   ],
   "source": [
    "import pprint\n",
    "pprint.pprint((dlc.ModelTrainingParamSet & 'paramset_idx=1'\n",
    "               ).fetch(as_dict=True))"
   ]
  },
  {
   "cell_type": "markdown",
   "id": "2f5fd85c-29eb-4b65-bad1-11fcd096f103",
   "metadata": {},
   "source": [
    "For model training, we'll work with the following session and parameters. First, we \n",
    "insert a training task into the cue."
   ]
  },
  {
   "cell_type": "code",
   "execution_count": 15,
   "id": "53017c86-1512-4a18-8f19-556f6ad94644",
   "metadata": {},
   "outputs": [],
   "source": [
    "key=(dlc.VideoRecording&'recording_id=1').fetch1('KEY')\n",
    "key.update({'paramset_idx':1,'training_id':1,\n",
    "            'project_path':'openfield-Pranav-2018-10-30/'})\n",
    "dlc.TrainingTask.insert1(key, skip_duplicates=True)"
   ]
  },
  {
   "cell_type": "markdown",
   "id": "4011030a-3174-47b2-a673-3ce24f5874fb",
   "metadata": {},
   "source": [
    "In the next step, all new entries in this table will undergo training."
   ]
  },
  {
   "cell_type": "code",
   "execution_count": 16,
   "id": "67cbe9c3-b043-49ac-9572-71c0a161e2dc",
   "metadata": {},
   "outputs": [
    {
     "data": {
      "text/html": [
       "\n",
       "    \n",
       "    <style type=\"text/css\">\n",
       "        .Relation{\n",
       "            border-collapse:collapse;\n",
       "        }\n",
       "        .Relation th{\n",
       "            background: #A0A0A0; color: #ffffff; padding:4px; border:#f0e0e0 1px solid;\n",
       "            font-weight: normal; font-family: monospace; font-size: 100%;\n",
       "        }\n",
       "        .Relation td{\n",
       "            padding:4px; border:#f0e0e0 1px solid; font-size:100%;\n",
       "        }\n",
       "        .Relation tr:nth-child(odd){\n",
       "            background: #ffffff;\n",
       "        }\n",
       "        .Relation tr:nth-child(even){\n",
       "            background: #f3f1ff;\n",
       "        }\n",
       "        /* Tooltip container */\n",
       "        .djtooltip {\n",
       "        }\n",
       "        /* Tooltip text */\n",
       "        .djtooltip .djtooltiptext {\n",
       "            visibility: hidden;\n",
       "            width: 120px;\n",
       "            background-color: black;\n",
       "            color: #fff;\n",
       "            text-align: center;\n",
       "            padding: 5px 0;\n",
       "            border-radius: 6px;\n",
       "            /* Position the tooltip text - see examples below! */\n",
       "            position: absolute;\n",
       "            z-index: 1;\n",
       "        }\n",
       "        #primary {\n",
       "            font-weight: bold;\n",
       "            color: black;\n",
       "        }\n",
       "        #nonprimary {\n",
       "            font-weight: normal;\n",
       "            color: white;\n",
       "        }\n",
       "\n",
       "        /* Show the tooltip text when you mouse over the tooltip container */\n",
       "        .djtooltip:hover .djtooltiptext {\n",
       "            visibility: visible;\n",
       "        }\n",
       "    </style>\n",
       "    \n",
       "    <b>Specification for a DLC model training instance</b>\n",
       "        <div style=\"max-height:1000px;max-width:1500px;overflow:auto;\">\n",
       "        <table border=\"1\" class=\"Relation\">\n",
       "            <thead> <tr style=\"text-align: right;\"> <th> <div class=\"djtooltip\">\n",
       "                            <p id=\"primary\">subject</p>\n",
       "                            <span class=\"djtooltiptext\"></span>\n",
       "                        </div></th><th><div class=\"djtooltip\">\n",
       "                            <p id=\"primary\">session_datetime</p>\n",
       "                            <span class=\"djtooltiptext\"></span>\n",
       "                        </div></th><th><div class=\"djtooltip\">\n",
       "                            <p id=\"primary\">camera_id</p>\n",
       "                            <span class=\"djtooltiptext\"></span>\n",
       "                        </div></th><th><div class=\"djtooltip\">\n",
       "                            <p id=\"primary\">recording_id</p>\n",
       "                            <span class=\"djtooltiptext\"></span>\n",
       "                        </div></th><th><div class=\"djtooltip\">\n",
       "                            <p id=\"primary\">paramset_idx</p>\n",
       "                            <span class=\"djtooltiptext\"></span>\n",
       "                        </div></th><th><div class=\"djtooltip\">\n",
       "                            <p id=\"primary\">training_id</p>\n",
       "                            <span class=\"djtooltiptext\"></span>\n",
       "                        </div></th><th><div class=\"djtooltip\">\n",
       "                            <p id=\"nonprimary\">model_prefix</p>\n",
       "                            <span class=\"djtooltiptext\"></span>\n",
       "                        </div></th><th><div class=\"djtooltip\">\n",
       "                            <p id=\"nonprimary\">project_path</p>\n",
       "                            <span class=\"djtooltiptext\">DLC's project_path in config relative to root</span>\n",
       "                        </div> </th> </tr> </thead>\n",
       "            <tbody> <tr> <td>subject6</td>\n",
       "<td>2021-06-02 14:04:22</td>\n",
       "<td>1</td>\n",
       "<td>1</td>\n",
       "<td>1</td>\n",
       "<td>1</td>\n",
       "<td></td>\n",
       "<td>openfield-Pranav-2018-10-30/</td> </tr> </tbody>\n",
       "        </table>\n",
       "        \n",
       "        <p>Total: 1</p></div>\n",
       "        "
      ],
      "text/plain": [
       "*subject     *session_datet *camera_id    *recording_id  *paramset_idx  *training_id   model_prefix   project_path  \n",
       "+----------+ +------------+ +-----------+ +------------+ +------------+ +------------+ +------------+ +------------+\n",
       "subject6     2021-06-02 14: 1             1              1              1                             openfield-Pran\n",
       " (Total: 1)"
      ]
     },
     "execution_count": 16,
     "metadata": {},
     "output_type": "execute_result"
    }
   ],
   "source": [
    "dlc.TrainingTask()"
   ]
  },
  {
   "cell_type": "code",
   "execution_count": 17,
   "id": "3cf0b309-7cee-456e-84b7-a0004e28e16e",
   "metadata": {
    "tags": []
   },
   "outputs": [],
   "source": [
    "dlc.ModelTraining.populate()"
   ]
  },
  {
   "cell_type": "code",
   "execution_count": 18,
   "id": "869268e6-0bc9-4e4e-8455-d4d3c02b46a8",
   "metadata": {},
   "outputs": [
    {
     "data": {
      "text/html": [
       "\n",
       "    \n",
       "    <style type=\"text/css\">\n",
       "        .Relation{\n",
       "            border-collapse:collapse;\n",
       "        }\n",
       "        .Relation th{\n",
       "            background: #A0A0A0; color: #ffffff; padding:4px; border:#f0e0e0 1px solid;\n",
       "            font-weight: normal; font-family: monospace; font-size: 100%;\n",
       "        }\n",
       "        .Relation td{\n",
       "            padding:4px; border:#f0e0e0 1px solid; font-size:100%;\n",
       "        }\n",
       "        .Relation tr:nth-child(odd){\n",
       "            background: #ffffff;\n",
       "        }\n",
       "        .Relation tr:nth-child(even){\n",
       "            background: #f3f1ff;\n",
       "        }\n",
       "        /* Tooltip container */\n",
       "        .djtooltip {\n",
       "        }\n",
       "        /* Tooltip text */\n",
       "        .djtooltip .djtooltiptext {\n",
       "            visibility: hidden;\n",
       "            width: 120px;\n",
       "            background-color: black;\n",
       "            color: #fff;\n",
       "            text-align: center;\n",
       "            padding: 5px 0;\n",
       "            border-radius: 6px;\n",
       "            /* Position the tooltip text - see examples below! */\n",
       "            position: absolute;\n",
       "            z-index: 1;\n",
       "        }\n",
       "        #primary {\n",
       "            font-weight: bold;\n",
       "            color: black;\n",
       "        }\n",
       "        #nonprimary {\n",
       "            font-weight: normal;\n",
       "            color: white;\n",
       "        }\n",
       "\n",
       "        /* Show the tooltip text when you mouse over the tooltip container */\n",
       "        .djtooltip:hover .djtooltiptext {\n",
       "            visibility: visible;\n",
       "        }\n",
       "    </style>\n",
       "    \n",
       "    <b></b>\n",
       "        <div style=\"max-height:1000px;max-width:1500px;overflow:auto;\">\n",
       "        <table border=\"1\" class=\"Relation\">\n",
       "            <thead> <tr style=\"text-align: right;\"> <th> <div class=\"djtooltip\">\n",
       "                            <p id=\"primary\">subject</p>\n",
       "                            <span class=\"djtooltiptext\"></span>\n",
       "                        </div></th><th><div class=\"djtooltip\">\n",
       "                            <p id=\"primary\">session_datetime</p>\n",
       "                            <span class=\"djtooltiptext\"></span>\n",
       "                        </div></th><th><div class=\"djtooltip\">\n",
       "                            <p id=\"primary\">camera_id</p>\n",
       "                            <span class=\"djtooltiptext\"></span>\n",
       "                        </div></th><th><div class=\"djtooltip\">\n",
       "                            <p id=\"primary\">recording_id</p>\n",
       "                            <span class=\"djtooltiptext\"></span>\n",
       "                        </div></th><th><div class=\"djtooltip\">\n",
       "                            <p id=\"primary\">paramset_idx</p>\n",
       "                            <span class=\"djtooltiptext\"></span>\n",
       "                        </div></th><th><div class=\"djtooltip\">\n",
       "                            <p id=\"primary\">training_id</p>\n",
       "                            <span class=\"djtooltiptext\"></span>\n",
       "                        </div></th><th><div class=\"djtooltip\">\n",
       "                            <p id=\"nonprimary\">latest_snapshot</p>\n",
       "                            <span class=\"djtooltiptext\">latest exact snapshot index (i.e., never -1)</span>\n",
       "                        </div></th><th><div class=\"djtooltip\">\n",
       "                            <p id=\"nonprimary\">config_template</p>\n",
       "                            <span class=\"djtooltiptext\">stored full config file</span>\n",
       "                        </div> </th> </tr> </thead>\n",
       "            <tbody> <tr> <td>subject6</td>\n",
       "<td>2021-06-02 14:04:22</td>\n",
       "<td>1</td>\n",
       "<td>1</td>\n",
       "<td>1</td>\n",
       "<td>1</td>\n",
       "<td>5</td>\n",
       "<td>=BLOB=</td> </tr> </tbody>\n",
       "        </table>\n",
       "        \n",
       "        <p>Total: 1</p></div>\n",
       "        "
      ],
      "text/plain": [
       "*subject     *session_datet *camera_id    *recording_id  *paramset_idx  *training_id   latest_snapsho config_tem\n",
       "+----------+ +------------+ +-----------+ +------------+ +------------+ +------------+ +------------+ +--------+\n",
       "subject6     2021-06-02 14: 1             1              1              1              5              =BLOB=    \n",
       " (Total: 1)"
      ]
     },
     "execution_count": 18,
     "metadata": {},
     "output_type": "execute_result"
    }
   ],
   "source": [
    "dlc.ModelTraining()"
   ]
  },
  {
   "cell_type": "markdown",
   "id": "05ae9e9a-48c2-4ce6-926c-4b03354687f2",
   "metadata": {},
   "source": [
    "To resume training from a previous instance, one would need to \n",
    "[edit the relevant config file](https://github.com/DeepLabCut/DeepLabCut/issues/70) and\n",
    "adjust the `maxiters` paramset to a higher threshold (e.g., 10 for 5 more itterations).\n",
    "Emperical work from the Mathis team suggests 200k iterations for any true use-case."
   ]
  },
  {
   "cell_type": "markdown",
   "id": "9380568a-fb2e-4c11-9488-9020111a0bd2",
   "metadata": {},
   "source": [
    "Next, we can optionally ingest all body parts from a given config with one command, including\n",
    "a list of body part descriptions."
   ]
  },
  {
   "cell_type": "code",
   "execution_count": 26,
   "id": "a20db1a5-e279-4553-baf2-24e5772f6d6b",
   "metadata": {},
   "outputs": [
    {
     "name": "stdout",
     "output_type": "stream",
     "text": [
      "Existing body parts: []\n",
      "New body parts: ['leftear' 'rightear' 'snout' 'tailbase']\n"
     ]
    },
    {
     "name": "stdin",
     "output_type": "stream",
     "text": [
      "Insert 4 new body part(s)? [yes, no]:  yes\n"
     ]
    }
   ],
   "source": [
    "dlc_config_path = 'openfield-Pranav-2018-10-30/config.yaml'\n",
    "bp_desc=['Left Ear', 'Right Ear', 'Snout Position', 'Base of Tail']\n",
    "dlc.BodyPart.insert_from_config(dlc_config_path,bp_desc)"
   ]
  },
  {
   "cell_type": "markdown",
   "id": "341a9d4f-b681-46ca-aef1-36e9ace3bb57",
   "metadata": {},
   "source": [
    "Alternatively, the above step will be included when inserting a model into the model \n",
    "table."
   ]
  },
  {
   "cell_type": "code",
   "execution_count": null,
   "id": "1f4db829-51fa-4e10-aa37-1e314a1d1d0f",
   "metadata": {},
   "outputs": [],
   "source": [
    "dlc.Model.insert_new_model(model_name='OpenField-1010',dlc_config=dlc_config_path,\n",
    "                           shuffle=1,trainingsetindex=0,\n",
    "                           model_description='Open field model trained 1010 iterations',\n",
    "                           body_part_descriptions = bp_desc,paramset_idx=1)"
   ]
  },
  {
   "cell_type": "code",
   "execution_count": 24,
   "id": "6e1e905a-0a0e-4e13-9884-3b9089eae54f",
   "metadata": {},
   "outputs": [
    {
     "data": {
      "text/html": [
       "\n",
       "    \n",
       "    <style type=\"text/css\">\n",
       "        .Relation{\n",
       "            border-collapse:collapse;\n",
       "        }\n",
       "        .Relation th{\n",
       "            background: #A0A0A0; color: #ffffff; padding:4px; border:#f0e0e0 1px solid;\n",
       "            font-weight: normal; font-family: monospace; font-size: 100%;\n",
       "        }\n",
       "        .Relation td{\n",
       "            padding:4px; border:#f0e0e0 1px solid; font-size:100%;\n",
       "        }\n",
       "        .Relation tr:nth-child(odd){\n",
       "            background: #ffffff;\n",
       "        }\n",
       "        .Relation tr:nth-child(even){\n",
       "            background: #f3f1ff;\n",
       "        }\n",
       "        /* Tooltip container */\n",
       "        .djtooltip {\n",
       "        }\n",
       "        /* Tooltip text */\n",
       "        .djtooltip .djtooltiptext {\n",
       "            visibility: hidden;\n",
       "            width: 120px;\n",
       "            background-color: black;\n",
       "            color: #fff;\n",
       "            text-align: center;\n",
       "            padding: 5px 0;\n",
       "            border-radius: 6px;\n",
       "            /* Position the tooltip text - see examples below! */\n",
       "            position: absolute;\n",
       "            z-index: 1;\n",
       "        }\n",
       "        #primary {\n",
       "            font-weight: bold;\n",
       "            color: black;\n",
       "        }\n",
       "        #nonprimary {\n",
       "            font-weight: normal;\n",
       "            color: white;\n",
       "        }\n",
       "\n",
       "        /* Show the tooltip text when you mouse over the tooltip container */\n",
       "        .djtooltip:hover .djtooltiptext {\n",
       "            visibility: visible;\n",
       "        }\n",
       "    </style>\n",
       "    \n",
       "    <b></b>\n",
       "        <div style=\"max-height:1000px;max-width:1500px;overflow:auto;\">\n",
       "        <table border=\"1\" class=\"Relation\">\n",
       "            <thead> <tr style=\"text-align: right;\"> <th> <div class=\"djtooltip\">\n",
       "                            <p id=\"primary\">model_name</p>\n",
       "                            <span class=\"djtooltiptext\">user-friendly model name</span>\n",
       "                        </div></th><th><div class=\"djtooltip\">\n",
       "                            <p id=\"nonprimary\">task</p>\n",
       "                            <span class=\"djtooltiptext\">task in the config yaml</span>\n",
       "                        </div></th><th><div class=\"djtooltip\">\n",
       "                            <p id=\"nonprimary\">date</p>\n",
       "                            <span class=\"djtooltiptext\">date in the config yaml</span>\n",
       "                        </div></th><th><div class=\"djtooltip\">\n",
       "                            <p id=\"nonprimary\">iteration</p>\n",
       "                            <span class=\"djtooltiptext\">iteration/version of this model</span>\n",
       "                        </div></th><th><div class=\"djtooltip\">\n",
       "                            <p id=\"nonprimary\">snapshotindex</p>\n",
       "                            <span class=\"djtooltiptext\">which snapshot for prediction (if -1, latest)</span>\n",
       "                        </div></th><th><div class=\"djtooltip\">\n",
       "                            <p id=\"nonprimary\">shuffle</p>\n",
       "                            <span class=\"djtooltiptext\">which shuffle of the training dataset</span>\n",
       "                        </div></th><th><div class=\"djtooltip\">\n",
       "                            <p id=\"nonprimary\">trainingsetindex</p>\n",
       "                            <span class=\"djtooltiptext\">which training set fraction to generate model</span>\n",
       "                        </div></th><th><div class=\"djtooltip\">\n",
       "                            <p id=\"nonprimary\">scorer</p>\n",
       "                            <span class=\"djtooltiptext\">scorer/network name - DLC's GetScorerName()</span>\n",
       "                        </div></th><th><div class=\"djtooltip\">\n",
       "                            <p id=\"nonprimary\">config_template</p>\n",
       "                            <span class=\"djtooltiptext\">dictionary of the config for analyze_videos()</span>\n",
       "                        </div></th><th><div class=\"djtooltip\">\n",
       "                            <p id=\"nonprimary\">project_path</p>\n",
       "                            <span class=\"djtooltiptext\">DLC's project_path in config relative to root</span>\n",
       "                        </div></th><th><div class=\"djtooltip\">\n",
       "                            <p id=\"nonprimary\">dlc_version</p>\n",
       "                            <span class=\"djtooltiptext\">keeps the deeplabcut version</span>\n",
       "                        </div></th><th><div class=\"djtooltip\">\n",
       "                            <p id=\"nonprimary\">model_prefix</p>\n",
       "                            <span class=\"djtooltiptext\"></span>\n",
       "                        </div></th><th><div class=\"djtooltip\">\n",
       "                            <p id=\"nonprimary\">model_description</p>\n",
       "                            <span class=\"djtooltiptext\"></span>\n",
       "                        </div></th><th><div class=\"djtooltip\">\n",
       "                            <p id=\"nonprimary\">paramset_idx</p>\n",
       "                            <span class=\"djtooltiptext\"></span>\n",
       "                        </div> </th> </tr> </thead>\n",
       "            <tbody> <tr> <td>OpenField-1010</td>\n",
       "<td>openfield</td>\n",
       "<td>Oct30</td>\n",
       "<td>0</td>\n",
       "<td>-1</td>\n",
       "<td>1</td>\n",
       "<td>0</td>\n",
       "<td>DLCresnet50openfieldOct30shuffle1</td>\n",
       "<td>=BLOB=</td>\n",
       "<td>openfield-Pranav-2018-10-30</td>\n",
       "<td>2.2.0.6</td>\n",
       "<td></td>\n",
       "<td>Open field model trained 1010 iterations</td>\n",
       "<td>1</td> </tr> </tbody>\n",
       "        </table>\n",
       "        \n",
       "        <p>Total: 1</p></div>\n",
       "        "
      ],
      "text/plain": [
       "*model_name    task          date      iteration     snapshotindex  shuffle     trainingsetind scorer         config_tem project_path   dlc_version    model_prefix   model_descript paramset_idx  \n",
       "+------------+ +-----------+ +-------+ +-----------+ +------------+ +---------+ +------------+ +------------+ +--------+ +------------+ +------------+ +------------+ +------------+ +------------+\n",
       "OpenField-1010 openfield     Oct30     0             -1             1           0              DLCresnet50ope =BLOB=     openfield-Pran 2.2.0.6                       Open field mod 1             \n",
       " (Total: 1)"
      ]
     },
     "execution_count": 24,
     "metadata": {},
     "output_type": "execute_result"
    }
   ],
   "source": [
    "dlc.Model()"
   ]
  },
  {
   "cell_type": "code",
   "execution_count": 27,
   "id": "d4cdb0c4-147b-4e50-9874-32cb46b7f663",
   "metadata": {},
   "outputs": [
    {
     "data": {
      "text/html": [
       "\n",
       "    \n",
       "    <style type=\"text/css\">\n",
       "        .Relation{\n",
       "            border-collapse:collapse;\n",
       "        }\n",
       "        .Relation th{\n",
       "            background: #A0A0A0; color: #ffffff; padding:4px; border:#f0e0e0 1px solid;\n",
       "            font-weight: normal; font-family: monospace; font-size: 100%;\n",
       "        }\n",
       "        .Relation td{\n",
       "            padding:4px; border:#f0e0e0 1px solid; font-size:100%;\n",
       "        }\n",
       "        .Relation tr:nth-child(odd){\n",
       "            background: #ffffff;\n",
       "        }\n",
       "        .Relation tr:nth-child(even){\n",
       "            background: #f3f1ff;\n",
       "        }\n",
       "        /* Tooltip container */\n",
       "        .djtooltip {\n",
       "        }\n",
       "        /* Tooltip text */\n",
       "        .djtooltip .djtooltiptext {\n",
       "            visibility: hidden;\n",
       "            width: 120px;\n",
       "            background-color: black;\n",
       "            color: #fff;\n",
       "            text-align: center;\n",
       "            padding: 5px 0;\n",
       "            border-radius: 6px;\n",
       "            /* Position the tooltip text - see examples below! */\n",
       "            position: absolute;\n",
       "            z-index: 1;\n",
       "        }\n",
       "        #primary {\n",
       "            font-weight: bold;\n",
       "            color: black;\n",
       "        }\n",
       "        #nonprimary {\n",
       "            font-weight: normal;\n",
       "            color: white;\n",
       "        }\n",
       "\n",
       "        /* Show the tooltip text when you mouse over the tooltip container */\n",
       "        .djtooltip:hover .djtooltiptext {\n",
       "            visibility: visible;\n",
       "        }\n",
       "    </style>\n",
       "    \n",
       "    <b></b>\n",
       "        <div style=\"max-height:1000px;max-width:1500px;overflow:auto;\">\n",
       "        <table border=\"1\" class=\"Relation\">\n",
       "            <thead> <tr style=\"text-align: right;\"> <th> <div class=\"djtooltip\">\n",
       "                            <p id=\"primary\">body_part</p>\n",
       "                            <span class=\"djtooltiptext\"></span>\n",
       "                        </div></th><th><div class=\"djtooltip\">\n",
       "                            <p id=\"nonprimary\">body_part_description</p>\n",
       "                            <span class=\"djtooltiptext\"></span>\n",
       "                        </div> </th> </tr> </thead>\n",
       "            <tbody> <tr> <td>leftear</td>\n",
       "<td>Left Ear</td></tr><tr><td>rightear</td>\n",
       "<td>Right Ear</td></tr><tr><td>snout</td>\n",
       "<td>Snout Position</td></tr><tr><td>tailbase</td>\n",
       "<td>Base of Tail</td> </tr> </tbody>\n",
       "        </table>\n",
       "        \n",
       "        <p>Total: 4</p></div>\n",
       "        "
      ],
      "text/plain": [
       "*body_part    body_part_desc\n",
       "+-----------+ +------------+\n",
       "leftear       Left Ear      \n",
       "rightear      Right Ear     \n",
       "snout         Snout Position\n",
       "tailbase      Base of Tail  \n",
       " (Total: 4)"
      ]
     },
     "execution_count": 27,
     "metadata": {},
     "output_type": "execute_result"
    }
   ],
   "source": [
    "dlc.BodyPart()"
   ]
  },
  {
   "cell_type": "markdown",
   "id": "c561a772-910d-405e-b181-986dee983563",
   "metadata": {},
   "source": [
    "Next, all inserted models can be evaluated with a similar `populate` method, which will\n",
    "insert the relevant output from DLC's `evaluate_network` function."
   ]
  },
  {
   "cell_type": "code",
   "execution_count": null,
   "id": "a43ec42d-9f1d-4499-8f3f-e8e387ae9212",
   "metadata": {},
   "outputs": [],
   "source": [
    "dlc.ModelEvaluation.populate()\n",
    "dlc.ModelEvaluation()"
   ]
  },
  {
   "cell_type": "markdown",
   "id": "fc4d764d-1458-49f7-86cb-3d3958b302c4",
   "metadata": {},
   "source": [
    "To put this model to use, we'll conduct pose estimation on the video we made earlier.\n",
    "Here, we can also specify parameters accepted by the `analyze_videos` function as a \n",
    "dictionary."
   ]
  },
  {
   "cell_type": "code",
   "execution_count": null,
   "id": "f7b8a96a-72ab-489e-9325-46db98dc6bec",
   "metadata": {},
   "outputs": [],
   "source": [
    "key=(dlc.VideoRecording&'recording_id=2').fetch1('KEY');\n",
    "key.update({'model_name': 'OpenField-1010', 'task_mode': 'trigger'})\n",
    "dlc.PoseEstimationTask.insert_estimation_task(key,params={'save_as_csv':True},\n",
    "                                              skip_duplicates=True)"
   ]
  },
  {
   "cell_type": "code",
   "execution_count": null,
   "id": "1ad622b3-25d3-4da1-9506-bddb3a4f7f24",
   "metadata": {},
   "outputs": [],
   "source": [
    "dlc.PoseEstimation.populate()"
   ]
  },
  {
   "cell_type": "markdown",
   "id": "9d113e2d-54d5-4fbb-ad91-faf4a66c0879",
   "metadata": {},
   "source": [
    "By default, DataJoint will store the results of pose estimation in a subdirectory\n",
    ">  processed_dir / videos / device_<#>_recording_<#>_model_<name>\n",
    "\n",
    "Pulling processed_dir from `get_dlc_processed_dir`, and device/recording information \n",
    "from the `VideoRecording` table. The model name is taken from the primary key of the\n",
    "`Model` table, with spaced replaced by hyphens.\n",
    "    \n",
    "We can get this estimation directly as a pandas dataframe."
   ]
  },
  {
   "cell_type": "code",
   "execution_count": null,
   "id": "257fbd67-ff7d-459f-a942-4f1774f31709",
   "metadata": {},
   "outputs": [],
   "source": [
    "dlc.PoseEstimation.get_trajectory(key)"
   ]
  },
  {
   "cell_type": "markdown",
   "id": "b7a304e3-a5cb-4ad3-93ce-6bc130e08e26",
   "metadata": {
    "tags": []
   },
   "source": [
    "# From scratch didactic guide - needs work"
   ]
  },
  {
   "cell_type": "markdown",
   "id": "c5ffe5d2-5b2a-45c3-8d8f-8c20efa8c5eb",
   "metadata": {},
   "source": [
    "This notebook will describe the steps to explore the lab and animal management tables \n",
    "created by the elements. Prior to using this notebook, please refer to the README for the installation instructions."
   ]
  },
  {
   "cell_type": "markdown",
   "id": "ee820754-bceb-476a-acf9-238fa8b201d9",
   "metadata": {},
   "source": [
    "Importing the module `workflow_deeplabcut.pipeline` is sufficient to create tables \n",
    "inside the elements. This workflow comes prepackaged with example data and ingestion \n",
    "functions to populate lab, subject, and session tables."
   ]
  },
  {
   "cell_type": "markdown",
   "id": "2e19116d-bc32-4cea-9caf-f3e8eaa9b181",
   "metadata": {
    "tags": []
   },
   "source": [
    "## Workflow architecture"
   ]
  },
  {
   "cell_type": "code",
   "execution_count": null,
   "id": "868b79bc-f754-4d51-a327-94a209cde374",
   "metadata": {},
   "outputs": [],
   "source": [
    "from element_lab import lab\n",
    "from element_animal import subject\n",
    "from element_session import sessions"
   ]
  },
  {
   "cell_type": "code",
   "execution_count": null,
   "id": "1e7a0a8b-eaf1-41a1-bf08-1aff2f2812be",
   "metadata": {},
   "outputs": [],
   "source": [
    "lab.Lab()"
   ]
  },
  {
   "cell_type": "code",
   "execution_count": null,
   "id": "63679df4-3064-402b-99ce-2f553dff877b",
   "metadata": {},
   "outputs": [],
   "source": [
    "dj.Diagram(lab)"
   ]
  },
  {
   "cell_type": "code",
   "execution_count": null,
   "id": "8cf0f64b-e523-4a94-9a43-fca4ed793f82",
   "metadata": {},
   "outputs": [],
   "source": [
    "subject.Subject()"
   ]
  },
  {
   "cell_type": "code",
   "execution_count": null,
   "id": "75576be2-2984-451f-a86b-f05f9ddec6b7",
   "metadata": {},
   "outputs": [],
   "source": [
    "dj.Diagram(subject)"
   ]
  },
  {
   "cell_type": "code",
   "execution_count": null,
   "id": "5243a782-93da-40fa-b243-03ddcb230c1d",
   "metadata": {},
   "outputs": [],
   "source": [
    "session.Session()"
   ]
  },
  {
   "cell_type": "code",
   "execution_count": null,
   "id": "7e48d7c0-b7bd-4f0b-abcb-1aedc69d5310",
   "metadata": {},
   "outputs": [],
   "source": [
    "dj.Diagram(session)"
   ]
  },
  {
   "cell_type": "markdown",
   "id": "b60f5f4c-d366-4034-a40d-2d2095cb2a14",
   "metadata": {
    "tags": []
   },
   "source": [
    "## Explore each table"
   ]
  },
  {
   "cell_type": "code",
   "execution_count": null,
   "id": "9c0821e1-9125-4c41-bc9c-567f53d0a5e5",
   "metadata": {},
   "outputs": [],
   "source": [
    "# check table definition with describe()\n",
    "subject.Subject.describe()"
   ]
  },
  {
   "cell_type": "markdown",
   "id": "f6c110c0-0966-4283-a0ba-a7de2ce69e25",
   "metadata": {},
   "source": [
    "## Insert data into Manual and Lookup tables"
   ]
  },
  {
   "cell_type": "markdown",
   "id": "54cf050e-882e-4672-be31-1ca3df52fa58",
   "metadata": {},
   "source": [
    "Tables in this workflow are either manual tables or lookup tables. To insert into these tables, DataJoint provide method `.insert1()` and `insert()`."
   ]
  },
  {
   "cell_type": "code",
   "execution_count": null,
   "id": "d5b43904-9711-4bce-8ae5-d0d797118dec",
   "metadata": {},
   "outputs": [],
   "source": [
    "subject.Subject.insert1(\n",
    "    dict(subject='subject1', sex='M', subject_birth_date='2020-12-30', \n",
    "         subject_description='test animal'), skip_duplicates=True)\n",
    "subject.Subject.insert1(\n",
    "    ('subject2', 'F', '2020-11-30', 'test animal'), skip_duplicates=True)"
   ]
  },
  {
   "cell_type": "markdown",
   "id": "49d43ca2-2cd3-4659-849f-5bcc09c1367e",
   "metadata": {},
   "source": [
    "`skip_duplicates=True` will prevent an error if you already have data for the primary keys in a given entry."
   ]
  },
  {
   "cell_type": "code",
   "execution_count": null,
   "id": "9bf2c953-7b4c-4a70-99fd-124a4d28171b",
   "metadata": {},
   "outputs": [],
   "source": [
    "subject.Subject()"
   ]
  },
  {
   "cell_type": "code",
   "execution_count": null,
   "id": "7a10ddab-d0fd-45a0-8183-09c1b1933e0a",
   "metadata": {},
   "outputs": [],
   "source": [
    "# `insert()` takes a list of dicts or tuples\n",
    "subject.Subject.insert(\n",
    "    [dict(subject='subject3', sex='F', subject_birth_date='2020-12-30', \n",
    "            subject_description='test animal'),\n",
    "     dict(subject='subject4', sex='M', subject_birth_date='2021-02-12', \n",
    "          subject_description='test animal')\n",
    "    ],\n",
    "    skip_duplicates=True)\n",
    "subject.Subject.insert(\n",
    "    [\n",
    "        ('subject7', 'U', '2020-08-30', 'test animal'),\n",
    "        ('subject8', 'F', '2020-09-30', 'test animal')\n",
    "    ],\n",
    "    skip_duplicates=True)"
   ]
  },
  {
   "cell_type": "code",
   "execution_count": null,
   "id": "064ddaae-3410-47fc-be22-671d2afe7fb6",
   "metadata": {},
   "outputs": [],
   "source": [
    "subject.Subject()"
   ]
  },
  {
   "cell_type": "markdown",
   "id": "c47691a0-b016-4092-a5ad-fefff93c54dd",
   "metadata": {},
   "source": [
    "For more documentation of insert, please refer to [DataJoint Docs](https://docs.datajoint.io/python/manipulation/1-Insert.html) and [DataJoint playground](https://playground.datajoint.io/)"
   ]
  },
  {
   "cell_type": "markdown",
   "id": "13f8a8ed-2656-46d8-82ba-cdf130c4873e",
   "metadata": {},
   "source": [
    "## Insert into Manual and Lookup tables with Graphical User Interface"
   ]
  }
 ],
 "metadata": {
  "kernelspec": {
   "display_name": "venv-dlc",
   "language": "python",
   "name": "venv-dlc"
  },
  "language_info": {
   "codemirror_mode": {
    "name": "ipython",
    "version": 3
   },
   "file_extension": ".py",
   "mimetype": "text/x-python",
   "name": "python",
   "nbconvert_exporter": "python",
   "pygments_lexer": "ipython3",
   "version": "3.8.12"
  }
 },
 "nbformat": 4,
 "nbformat_minor": 5
}
