{
 "cells": [
  {
   "cell_type": "markdown",
   "metadata": {
    "tags": []
   },
   "source": [
    "# DataJoint U24 - Workflow DeepLabCut"
   ]
  },
  {
   "cell_type": "markdown",
   "metadata": {},
   "source": [
    "## Introduction"
   ]
  },
  {
   "cell_type": "markdown",
   "metadata": {},
   "source": [
    "This notebook gives a brief overview and introduces some useful DataJoint tools to facilitate the exploration.\n",
    "\n",
    "+ DataJoint needs to be configured before running this notebook, if you haven't done so, refer to the [01-Configure](./01-Configure.ipynb) notebook.\n",
    "+ If you are familar with DataJoint and the workflow structure, proceed to the next notebook [03-Process](./03-Process.ipynb) directly to run the workflow.\n",
    "+ For a more thorough introduction of DataJoint functionings, please visit our [general tutorial site](http://codebook.datajoint.io/)"
   ]
  },
  {
   "cell_type": "markdown",
   "metadata": {},
   "source": [
    "To load the local configuration, we will change the directory to the package root."
   ]
  },
  {
   "cell_type": "code",
   "execution_count": 1,
   "metadata": {},
   "outputs": [],
   "source": [
    "import os\n",
    "if os.path.basename(os.getcwd())=='notebooks': os.chdir('..')\n",
    "assert os.path.basename(os.getcwd())=='workflow-deeplabcut', (\"Please move to the \"\n",
    "                                                              + \"workflow directory\")"
   ]
  },
  {
   "cell_type": "markdown",
   "metadata": {},
   "source": [
    "## Schemas and tables"
   ]
  },
  {
   "cell_type": "markdown",
   "metadata": {},
   "source": [
    "By importing from `workflow_deeplabcut`, we'll run the activation functions that declare the tables in these schemas. If these tables are already declared, we'll gain access."
   ]
  },
  {
   "cell_type": "code",
   "execution_count": null,
   "metadata": {},
   "outputs": [],
   "source": [
    "import datajoint as dj\n",
    "from workflow_deeplabcut.pipeline import lab, subject, session, train, model"
   ]
  },
  {
   "cell_type": "markdown",
   "metadata": {},
   "source": [
    "Each module contains a schema object that enables interaction with the schema in the database. For more information abotu managing the upstream tables, see our [session workflow](https://github.com/datajoint/workflow-session). In this case, lab is required because the pipeline adds a `Device` table to the lab schema to keep track of camera IDs. The pipeline also adds a `VideoRecording` table to the session schema."
   ]
  },
  {
   "cell_type": "markdown",
   "metadata": {
    "lines_to_next_cell": 0,
    "title": "The schemas and tables will not be re-created when importing modules if they have existed."
   },
   "source": [
    "`dj.list_schemas()` lists all schemas a user has access to in the current database"
   ]
  },
  {
   "cell_type": "code",
   "execution_count": null,
   "metadata": {
    "title": "`dj.list_schemas()`: list all schemas a user could access."
   },
   "outputs": [],
   "source": [
    "dj.list_schemas()"
   ]
  },
  {
   "cell_type": "markdown",
   "metadata": {},
   "source": [
    "`<schema>.schema.list_tables()` will provide names for each table in the format used under the hood."
   ]
  },
  {
   "cell_type": "code",
   "execution_count": 3,
   "metadata": {
    "title": "Each module imported above corresponds to one schema inside the database. For example, `ephys` corresponds to `neuro_ephys` schema in the database."
   },
   "outputs": [
    {
     "data": {
      "text/plain": [
       "['video_set',\n",
       " 'video_set__file',\n",
       " 'video_set__video_recording',\n",
       " '#training_param_set',\n",
       " 'training_task',\n",
       " '__model_training']"
      ]
     },
     "execution_count": 3,
     "metadata": {},
     "output_type": "execute_result"
    }
   ],
   "source": [
    "train.schema.list_tables()"
   ]
  },
  {
   "cell_type": "markdown",
   "metadata": {},
   "source": [
    "`dj.Diagram()` plots tables and dependencies in a schema. To see additional upstream or downstream connections, add `- N` or `+ N` where N is the number of additional links.\n",
    "\n",
    "While the `model` schema is required for pose estimation, the `train` schema is optional, and can be used to manage model training within DataJoint"
   ]
  },
  {
   "cell_type": "code",
   "execution_count": 7,
   "metadata": {
    "title": "`dj.Diagram()`: plot tables and dependencies"
   },
   "outputs": [
    {
     "data": {
      "image/svg+xml": [
       "<svg xmlns=\"http://www.w3.org/2000/svg\" xmlns:xlink=\"http://www.w3.org/1999/xlink\" width=\"407pt\" height=\"176pt\" viewBox=\"0.00 0.00 406.50 176.00\">\n",
       "<g id=\"graph0\" class=\"graph\" transform=\"scale(1 1) rotate(0) translate(4 172)\">\n",
       "<polygon fill=\"white\" stroke=\"transparent\" points=\"-4,4 -4,-172 402.5,-172 402.5,4 -4,4\"/>\n",
       "<!-- train.VideoSet -->\n",
       "<g id=\"node1\" class=\"node\">\n",
       "<title>train.VideoSet</title>\n",
       "<g id=\"a_node1\"><a xlink:title=\"video_set_id         \r",
       "\">\n",
       "<polygon fill=\"#00ff00\" fill-opacity=\"0.188235\" stroke=\"#00ff00\" stroke-opacity=\"0.188235\" points=\"227.5,-168 135.5,-168 135.5,-133 227.5,-133 227.5,-168\"/>\n",
       "<text text-anchor=\"start\" x=\"143.5\" y=\"-148.4\" font-family=\"arial\" text-decoration=\"underline\" font-size=\"12.00\" fill=\"darkgreen\">train.VideoSet</text>\n",
       "</a>\n",
       "</g>\n",
       "</g>\n",
       "<!-- train.TrainingTask -->\n",
       "<g id=\"node3\" class=\"node\">\n",
       "<title>train.TrainingTask</title>\n",
       "<g id=\"a_node3\"><a xlink:title=\"→ train.VideoSet\r",
       "→ train.TrainingParamSet\r",
       "training_id          \r",
       "------------------------------\r",
       "model_prefix=&quot;&quot;      \r",
       "project_path=&quot;&quot;      \r",
       "\">\n",
       "<polygon fill=\"#00ff00\" fill-opacity=\"0.188235\" stroke=\"#00ff00\" stroke-opacity=\"0.188235\" points=\"115,-97 4,-97 4,-62 115,-62 115,-97\"/>\n",
       "<text text-anchor=\"start\" x=\"12\" y=\"-77.4\" font-family=\"arial\" text-decoration=\"underline\" font-size=\"12.00\" fill=\"darkgreen\">train.TrainingTask</text>\n",
       "</a>\n",
       "</g>\n",
       "</g>\n",
       "<!-- train.VideoSet&#45;&gt;train.TrainingTask -->\n",
       "<g id=\"edge1\" class=\"edge\">\n",
       "<title>train.VideoSet-&gt;train.TrainingTask</title>\n",
       "<path fill=\"none\" stroke=\"#000000\" stroke-width=\"0.75\" stroke-opacity=\"0.250980\" d=\"M152.28,-132.97C133.1,-122.13 108.12,-108 88.91,-97.13\"/>\n",
       "</g>\n",
       "<!-- train.VideoSet.File -->\n",
       "<g id=\"node5\" class=\"node\">\n",
       "<title>train.VideoSet.File</title>\n",
       "<g id=\"a_node5\"><a xlink:title=\"→ train.VideoSet\r",
       "file_path            \r",
       "\">\n",
       "<polygon fill=\"transparent\" stroke=\"transparent\" points=\"230,-89 133,-89 133,-70 230,-70 230,-89\"/>\n",
       "<text text-anchor=\"start\" x=\"141\" y=\"-78\" font-family=\"arial\" text-decoration=\"underline\" font-size=\"10.00\">train.VideoSet.File</text>\n",
       "</a>\n",
       "</g>\n",
       "</g>\n",
       "<!-- train.VideoSet&#45;&gt;train.VideoSet.File -->\n",
       "<g id=\"edge2\" class=\"edge\">\n",
       "<title>train.VideoSet-&gt;train.VideoSet.File</title>\n",
       "<path fill=\"none\" stroke=\"#000000\" stroke-width=\"0.75\" stroke-opacity=\"0.250980\" d=\"M181.5,-132.8C181.5,-119.08 181.5,-100.19 181.5,-89.27\"/>\n",
       "</g>\n",
       "<!-- train.VideoSet.VideoRecording -->\n",
       "<g id=\"node6\" class=\"node\">\n",
       "<title>train.VideoSet.VideoRecording</title>\n",
       "<g id=\"a_node6\"><a xlink:title=\"→ train.VideoSet\r",
       "→ `cbroz_session`.`video_recording`\r",
       "\">\n",
       "<polygon fill=\"transparent\" stroke=\"transparent\" points=\"398.5,-89 248.5,-89 248.5,-70 398.5,-70 398.5,-89\"/>\n",
       "<text text-anchor=\"middle\" x=\"323.5\" y=\"-77\" font-family=\"arial\" font-size=\"10.00\">train.VideoSet.VideoRecording</text>\n",
       "</a>\n",
       "</g>\n",
       "</g>\n",
       "<!-- train.VideoSet&#45;&gt;train.VideoSet.VideoRecording -->\n",
       "<g id=\"edge3\" class=\"edge\">\n",
       "<title>train.VideoSet-&gt;train.VideoSet.VideoRecording</title>\n",
       "<path fill=\"none\" stroke=\"#000000\" stroke-width=\"0.75\" stroke-opacity=\"0.250980\" d=\"M215.51,-132.97C243.9,-119.18 283.24,-100.06 305.76,-89.12\"/>\n",
       "</g>\n",
       "<!-- train.ModelTraining -->\n",
       "<g id=\"node2\" class=\"node\">\n",
       "<title>train.ModelTraining</title>\n",
       "<g id=\"a_node2\"><a xlink:title=\"→ train.TrainingTask\r",
       "------------------------------\r",
       "latest_snapshot      \r",
       "config_template      \r",
       "\">\n",
       "<ellipse fill=\"#ff0000\" fill-opacity=\"0.125490\" stroke=\"#ff0000\" stroke-opacity=\"0.125490\" cx=\"59.5\" cy=\"-13\" rx=\"13\" ry=\"13\"/>\n",
       "<text text-anchor=\"middle\" x=\"59.5\" y=\"-9.9\" font-family=\"arial\" font-size=\"12.00\" fill=\"#7f0000\" fill-opacity=\"0.627451\">train.ModelTraining</text>\n",
       "</a>\n",
       "</g>\n",
       "</g>\n",
       "<!-- train.TrainingTask&#45;&gt;train.ModelTraining -->\n",
       "<g id=\"edge4\" class=\"edge\">\n",
       "<title>train.TrainingTask-&gt;train.ModelTraining</title>\n",
       "<path fill=\"none\" stroke=\"#000000\" stroke-width=\"2\" stroke-opacity=\"0.250980\" d=\"M59.5,-61.89C59.5,-50.69 59.5,-36.17 59.5,-26.07\"/>\n",
       "</g>\n",
       "<!-- train.TrainingParamSet -->\n",
       "<g id=\"node4\" class=\"node\">\n",
       "<title>train.TrainingParamSet</title>\n",
       "<g id=\"a_node4\"><a xlink:title=\"paramset_idx         \r",
       "------------------------------\r",
       "paramset_desc        \r",
       "param_set_hash       \r",
       "params               \r",
       "UNIQUE INDEX (param_set_hash)\r",
       "\">\n",
       "<polygon fill=\"#000000\" fill-opacity=\"0.125490\" stroke=\"transparent\" points=\"117.5,-168 1.5,-168 1.5,-133 117.5,-133 117.5,-168\"/>\n",
       "<text text-anchor=\"start\" x=\"9.5\" y=\"-149\" font-family=\"arial\" text-decoration=\"underline\" font-size=\"10.00\">train.TrainingParamSet</text>\n",
       "</a>\n",
       "</g>\n",
       "</g>\n",
       "<!-- train.TrainingParamSet&#45;&gt;train.TrainingTask -->\n",
       "<g id=\"edge5\" class=\"edge\">\n",
       "<title>train.TrainingParamSet-&gt;train.TrainingTask</title>\n",
       "<path fill=\"none\" stroke=\"#000000\" stroke-width=\"0.75\" stroke-opacity=\"0.250980\" d=\"M59.5,-132.8C59.5,-121.95 59.5,-107.87 59.5,-97.05\"/>\n",
       "</g>\n",
       "</g>\n",
       "</svg>"
      ],
      "text/plain": [
       "<datajoint.diagram.Diagram at 0x7fde2d03e910>"
      ]
     },
     "execution_count": 7,
     "metadata": {},
     "output_type": "execute_result"
    }
   ],
   "source": [
    "dj.Diagram(train) #- 1"
   ]
  },
  {
   "cell_type": "code",
   "execution_count": 5,
   "metadata": {},
   "outputs": [
    {
     "data": {
      "image/svg+xml": [
       "<svg xmlns=\"http://www.w3.org/2000/svg\" xmlns:xlink=\"http://www.w3.org/1999/xlink\" width=\"509pt\" height=\"231pt\" viewBox=\"0.00 0.00 508.50 231.00\">\n",
       "<g id=\"graph0\" class=\"graph\" transform=\"scale(1 1) rotate(0) translate(4 227)\">\n",
       "<polygon fill=\"white\" stroke=\"transparent\" points=\"-4,4 -4,-227 504.5,-227 504.5,4 -4,4\"/>\n",
       "<!-- model.Model.BodyPart -->\n",
       "<g id=\"node1\" class=\"node\">\n",
       "<title>model.Model.BodyPart</title>\n",
       "<g id=\"a_node1\"><a xlink:title=\"→ model.Model\r",
       "→ model.BodyPart\r",
       "\">\n",
       "<polygon fill=\"transparent\" stroke=\"transparent\" points=\"187,-144 71,-144 71,-125 187,-125 187,-144\"/>\n",
       "<text text-anchor=\"middle\" x=\"129\" y=\"-132\" font-family=\"arial\" font-size=\"10.00\">model.Model.BodyPart</text>\n",
       "</a>\n",
       "</g>\n",
       "</g>\n",
       "<!-- model.Estimation.BodyPartPosition -->\n",
       "<g id=\"node2\" class=\"node\">\n",
       "<title>model.Estimation.BodyPartPosition</title>\n",
       "<g id=\"a_node2\"><a xlink:title=\"→ model.Estimation\r",
       "→ model.BodyPart\r",
       "------------------------------\r",
       "frame_index          \r",
       "x_pos                \r",
       "y_pos                \r",
       "z_pos=null           \r",
       "likelihood           \r",
       "\">\n",
       "<polygon fill=\"transparent\" stroke=\"transparent\" points=\"284.5,-19 113.5,-19 113.5,0 284.5,0 284.5,-19\"/>\n",
       "<text text-anchor=\"middle\" x=\"199\" y=\"-7\" font-family=\"arial\" font-size=\"10.00\">model.Estimation.BodyPartPosition</text>\n",
       "</a>\n",
       "</g>\n",
       "</g>\n",
       "<!-- model.EstimationTask -->\n",
       "<g id=\"node3\" class=\"node\">\n",
       "<title>model.EstimationTask</title>\n",
       "<g id=\"a_node3\"><a xlink:title=\"→ `cbroz_session`.`video_recording`\r",
       "→ model.Model\r",
       "------------------------------\r",
       "task_mode=&quot;load&quot;     \r",
       "pose_estimation_output_dir=&quot;&quot; \r",
       "pose_estimation_params=null \r",
       "\">\n",
       "<polygon fill=\"#00ff00\" fill-opacity=\"0.188235\" stroke=\"#00ff00\" stroke-opacity=\"0.188235\" points=\"339,-152 205,-152 205,-117 339,-117 339,-152\"/>\n",
       "<text text-anchor=\"middle\" x=\"272\" y=\"-131.4\" font-family=\"arial\" font-size=\"12.00\" fill=\"darkgreen\">model.EstimationTask</text>\n",
       "</a>\n",
       "</g>\n",
       "</g>\n",
       "<!-- model.Estimation -->\n",
       "<g id=\"node4\" class=\"node\">\n",
       "<title>model.Estimation</title>\n",
       "<g id=\"a_node4\"><a xlink:title=\"→ model.EstimationTask\r",
       "------------------------------\r",
       "post_estimation_time \r",
       "\">\n",
       "<ellipse fill=\"#ff0000\" fill-opacity=\"0.125490\" stroke=\"#ff0000\" stroke-opacity=\"0.125490\" cx=\"199\" cy=\"-68\" rx=\"13\" ry=\"13\"/>\n",
       "<text text-anchor=\"middle\" x=\"199\" y=\"-64.9\" font-family=\"arial\" font-size=\"12.00\" fill=\"#7f0000\" fill-opacity=\"0.627451\">model.Estimation</text>\n",
       "</a>\n",
       "</g>\n",
       "</g>\n",
       "<!-- model.EstimationTask&#45;&gt;model.Estimation -->\n",
       "<g id=\"edge1\" class=\"edge\">\n",
       "<title>model.EstimationTask-&gt;model.Estimation</title>\n",
       "<path fill=\"none\" stroke=\"#000000\" stroke-width=\"2\" stroke-opacity=\"0.250980\" d=\"M253.2,-116.89C238.84,-104.2 219.65,-87.24 208.38,-77.29\"/>\n",
       "</g>\n",
       "<!-- model.Estimation&#45;&gt;model.Estimation.BodyPartPosition -->\n",
       "<g id=\"edge2\" class=\"edge\">\n",
       "<title>model.Estimation-&gt;model.Estimation.BodyPartPosition</title>\n",
       "<path fill=\"none\" stroke=\"#000000\" stroke-width=\"0.75\" stroke-opacity=\"0.250980\" d=\"M199,-54.74C199,-43.97 199,-28.56 199,-19.06\"/>\n",
       "</g>\n",
       "<!-- model.BodyPart -->\n",
       "<g id=\"node5\" class=\"node\">\n",
       "<title>model.BodyPart</title>\n",
       "<g id=\"a_node5\"><a xlink:title=\"body_part            \r",
       "------------------------------\r",
       "body_part_description=&quot;&quot; \r",
       "\">\n",
       "<polygon fill=\"#000000\" fill-opacity=\"0.125490\" stroke=\"transparent\" points=\"86,-223 0,-223 0,-188 86,-188 86,-223\"/>\n",
       "<text text-anchor=\"start\" x=\"8\" y=\"-204\" font-family=\"arial\" text-decoration=\"underline\" font-size=\"10.00\">model.BodyPart</text>\n",
       "</a>\n",
       "</g>\n",
       "</g>\n",
       "<!-- model.BodyPart&#45;&gt;model.Model.BodyPart -->\n",
       "<g id=\"edge3\" class=\"edge\">\n",
       "<title>model.BodyPart-&gt;model.Model.BodyPart</title>\n",
       "<path fill=\"none\" stroke=\"#000000\" stroke-width=\"0.75\" stroke-opacity=\"0.250980\" d=\"M63.82,-187.8C80.92,-174.08 104.46,-155.19 118.08,-144.27\"/>\n",
       "</g>\n",
       "<!-- model.BodyPart&#45;&gt;model.Estimation.BodyPartPosition -->\n",
       "<g id=\"edge4\" class=\"edge\">\n",
       "<title>model.BodyPart-&gt;model.Estimation.BodyPartPosition</title>\n",
       "<path fill=\"none\" stroke=\"#000000\" stroke-width=\"0.75\" stroke-opacity=\"0.250980\" d=\"M43.47,-187.87C44.68,-169.35 48.73,-139.13 62,-117 90.98,-68.69 150.72,-34.13 180.82,-19.01\"/>\n",
       "</g>\n",
       "<!-- model.Model -->\n",
       "<g id=\"node6\" class=\"node\">\n",
       "<title>model.Model</title>\n",
       "<g id=\"a_node6\"><a xlink:title=\"model_name           \r",
       "------------------------------\r",
       "task                 \r",
       "date                 \r",
       "iteration            \r",
       "snapshotindex        \r",
       "shuffle              \r",
       "trainingsetindex     \r",
       "scorer               \r",
       "config_template      \r",
       "project_path         \r",
       "model_prefix=&quot;&quot;      \r",
       "model_description=&quot;&quot; \r",
       "→ [nullable] train.TrainingParamSet\r",
       "UNIQUE INDEX (task, date, iteration, shuffle, snapshotindex, trainingsetindex)\r",
       "\">\n",
       "<polygon fill=\"#00ff00\" fill-opacity=\"0.188235\" stroke=\"#00ff00\" stroke-opacity=\"0.188235\" points=\"190,-223 104,-223 104,-188 190,-188 190,-223\"/>\n",
       "<text text-anchor=\"start\" x=\"112\" y=\"-203.4\" font-family=\"arial\" text-decoration=\"underline\" font-size=\"12.00\" fill=\"darkgreen\">model.Model</text>\n",
       "</a>\n",
       "</g>\n",
       "</g>\n",
       "<!-- model.Model&#45;&gt;model.Model.BodyPart -->\n",
       "<g id=\"edge5\" class=\"edge\">\n",
       "<title>model.Model-&gt;model.Model.BodyPart</title>\n",
       "<path fill=\"none\" stroke=\"#000000\" stroke-width=\"0.75\" stroke-opacity=\"0.250980\" d=\"M142.64,-187.8C139.06,-174.08 134.14,-155.19 131.29,-144.27\"/>\n",
       "</g>\n",
       "<!-- model.Model&#45;&gt;model.EstimationTask -->\n",
       "<g id=\"edge6\" class=\"edge\">\n",
       "<title>model.Model-&gt;model.EstimationTask</title>\n",
       "<path fill=\"none\" stroke=\"#000000\" stroke-width=\"0.75\" stroke-opacity=\"0.250980\" d=\"M176.94,-187.97C196.59,-177.13 222.19,-163 241.87,-152.13\"/>\n",
       "</g>\n",
       "<!-- model.ModelEvaluation -->\n",
       "<g id=\"node7\" class=\"node\">\n",
       "<title>model.ModelEvaluation</title>\n",
       "<g id=\"a_node7\"><a xlink:title=\"→ model.Model\r",
       "------------------------------\r",
       "train_iterations     \r",
       "train_error=null     \r",
       "test_error=null      \r",
       "p_cutoff=null        \r",
       "train_error_p=null   \r",
       "test_error_p=null    \r",
       "\">\n",
       "<ellipse fill=\"#ff0000\" fill-opacity=\"0.125490\" stroke=\"#ff0000\" stroke-opacity=\"0.125490\" cx=\"429\" cy=\"-134.5\" rx=\"13\" ry=\"13\"/>\n",
       "<text text-anchor=\"middle\" x=\"429\" y=\"-131.4\" font-family=\"arial\" font-size=\"12.00\" fill=\"#7f0000\" fill-opacity=\"0.627451\">model.ModelEvaluation</text>\n",
       "</a>\n",
       "</g>\n",
       "</g>\n",
       "<!-- model.Model&#45;&gt;model.ModelEvaluation -->\n",
       "<g id=\"edge7\" class=\"edge\">\n",
       "<title>model.Model-&gt;model.ModelEvaluation</title>\n",
       "<path fill=\"none\" stroke=\"#000000\" stroke-width=\"2\" stroke-opacity=\"0.250980\" d=\"M190.14,-193.95C255.86,-177.86 377.58,-148.08 416.61,-138.53\"/>\n",
       "</g>\n",
       "</g>\n",
       "</svg>"
      ],
      "text/plain": [
       "<datajoint.diagram.Diagram at 0x7fde2c6889d0>"
      ]
     },
     "execution_count": 5,
     "metadata": {},
     "output_type": "execute_result"
    }
   ],
   "source": [
    "dj.Diagram(model)"
   ]
  },
  {
   "cell_type": "markdown",
   "metadata": {},
   "source": [
    "### Table tiers \n",
    "- **Manual table**: green box, manually inserted table, expect new entries daily, e.g. Subject, ProbeInsertion.  \n",
    "- **Lookup table**: gray box, pre inserted table, commonly used for general facts or parameters. e.g. Strain, ClusteringMethod, ClusteringParamSet.  \n",
    "- **Imported table**: blue oval, auto-processing table, the processing depends on the importing of external files. e.g. process of Clustering requires output files from kilosort2.  \n",
    "- **Computed table**: red circle, auto-processing table, the processing does not depend on files external to the database, commonly used for     \n",
    "- **Part table**: plain text, as an appendix to the master table, all the part entries of a given master entry represent a intact set of the master entry. e.g. Unit of a CuratedClustering.\n",
    "\n",
    "### Dependencies\n",
    "\n",
    "- **One-to-one primary**: thick solid line, share the exact same primary key, meaning the child table inherits all the primary key fields from the parent table as its own primary key.     \n",
    "- **One-to-many primary**: thin solid line, inherit the primary key from the parent table, but have additional field(s) as part of the primary key as well\n",
    "- **secondary dependency**: dashed line, the child table inherits the primary key fields from parent table as its own secondary attribute."
   ]
  },
  {
   "cell_type": "code",
   "execution_count": null,
   "metadata": {
    "title": "`dj.Diagram()`: plot the diagram of the tables and dependencies. It could be used to plot tables in a schema or selected tables."
   },
   "outputs": [],
   "source": [
    "# plot diagram of tables in multiple schemas\n",
    "dj.Diagram(subject.Subject) + dj.Diagram(session.Session) + dj.Diagram(model)"
   ]
  },
  {
   "cell_type": "code",
   "execution_count": 7,
   "metadata": {},
   "outputs": [
    {
     "data": {
      "text/plain": [
       "['#user',\n",
       " '#user_role',\n",
       " '#lab',\n",
       " '#project',\n",
       " '#protocol_type',\n",
       " '#source',\n",
       " '#device',\n",
       " 'equipment',\n",
       " 'equipment__ca_img_equipment',\n",
       " 'equipment__ephys_equipment',\n",
       " '#lab_membership',\n",
       " '#location',\n",
       " '#project__keywords',\n",
       " '#project__publication',\n",
       " '#project__sourcecode',\n",
       " 'project_user',\n",
       " '#protocol']"
      ]
     },
     "execution_count": 7,
     "metadata": {},
     "output_type": "execute_result"
    }
   ],
   "source": [
    "lab.schema.list_tables()"
   ]
  },
  {
   "cell_type": "code",
   "execution_count": 16,
   "metadata": {},
   "outputs": [
    {
     "data": {
      "image/svg+xml": [
       "<svg xmlns=\"http://www.w3.org/2000/svg\" xmlns:xlink=\"http://www.w3.org/1999/xlink\" width=\"142pt\" height=\"256pt\" viewBox=\"0.00 0.00 142.00 256.00\">\n",
       "<g id=\"graph0\" class=\"graph\" transform=\"scale(1 1) rotate(0) translate(4 252)\">\n",
       "<polygon fill=\"white\" stroke=\"transparent\" points=\"-4,4 -4,-252 138,-252 138,4 -4,4\"/>\n",
       "<!-- subject.Subject -->\n",
       "<g id=\"node1\" class=\"node\">\n",
       "<title>subject.Subject</title>\n",
       "<g id=\"a_node1\"><a xlink:title=\"subject              \r",
       "------------------------------\r",
       "sex                  \r",
       "subject_birth_date   \r",
       "subject_description=&quot;&quot; \r",
       "\">\n",
       "<polygon fill=\"#00ff00\" fill-opacity=\"0.188235\" stroke=\"#00ff00\" stroke-opacity=\"0.188235\" points=\"116,-248 18,-248 18,-213 116,-213 116,-248\"/>\n",
       "<text text-anchor=\"start\" x=\"26\" y=\"-228.4\" font-family=\"arial\" text-decoration=\"underline\" font-size=\"12.00\" fill=\"darkgreen\">subject.Subject</text>\n",
       "</a>\n",
       "</g>\n",
       "</g>\n",
       "<!-- session.Session -->\n",
       "<g id=\"node4\" class=\"node\">\n",
       "<title>session.Session</title>\n",
       "<g id=\"a_node4\"><a xlink:title=\"→ subject.Subject\r",
       "session_datetime     \r",
       "\">\n",
       "<polygon fill=\"#00ff00\" fill-opacity=\"0.188235\" stroke=\"#00ff00\" stroke-opacity=\"0.188235\" points=\"119,-177 15,-177 15,-142 119,-142 119,-177\"/>\n",
       "<text text-anchor=\"start\" x=\"23\" y=\"-157.4\" font-family=\"arial\" text-decoration=\"underline\" font-size=\"12.00\" fill=\"darkgreen\">session.Session</text>\n",
       "</a>\n",
       "</g>\n",
       "</g>\n",
       "<!-- subject.Subject&#45;&gt;session.Session -->\n",
       "<g id=\"edge1\" class=\"edge\">\n",
       "<title>subject.Subject-&gt;session.Session</title>\n",
       "<path fill=\"none\" stroke=\"#000000\" stroke-width=\"0.75\" stroke-opacity=\"0.250980\" d=\"M67,-212.8C67,-201.95 67,-187.87 67,-177.05\"/>\n",
       "</g>\n",
       "<!-- model.EstimationTask -->\n",
       "<g id=\"node2\" class=\"node\">\n",
       "<title>model.EstimationTask</title>\n",
       "<g id=\"a_node2\"><a xlink:title=\"→ VideoRecording\r",
       "→ model.Model\r",
       "------------------------------\r",
       "task_mode=&quot;load&quot;     \r",
       "pose_estimation_output_dir=&quot;&quot; \r",
       "pose_estimation_params=null \r",
       "\">\n",
       "<polygon fill=\"#00ff00\" fill-opacity=\"0.188235\" stroke=\"#00ff00\" stroke-opacity=\"0.188235\" points=\"134,-35 0,-35 0,0 134,0 134,-35\"/>\n",
       "<text text-anchor=\"middle\" x=\"67\" y=\"-14.4\" font-family=\"arial\" font-size=\"12.00\" fill=\"darkgreen\">model.EstimationTask</text>\n",
       "</a>\n",
       "</g>\n",
       "</g>\n",
       "<!-- VideoRecording -->\n",
       "<g id=\"node3\" class=\"node\">\n",
       "<title>VideoRecording</title>\n",
       "<g id=\"a_node3\"><a xlink:title=\"→ session.Session\r",
       "→ `cbroz_lab`.`#device`\r",
       "recording_id         \r",
       "------------------------------\r",
       "recording_start_time \r",
       "\">\n",
       "<polygon fill=\"#00ff00\" fill-opacity=\"0.188235\" stroke=\"#00ff00\" stroke-opacity=\"0.188235\" points=\"118.5,-106 15.5,-106 15.5,-71 118.5,-71 118.5,-106\"/>\n",
       "<text text-anchor=\"start\" x=\"23.5\" y=\"-86.4\" font-family=\"arial\" text-decoration=\"underline\" font-size=\"12.00\" fill=\"darkgreen\">VideoRecording</text>\n",
       "</a>\n",
       "</g>\n",
       "</g>\n",
       "<!-- VideoRecording&#45;&gt;model.EstimationTask -->\n",
       "<g id=\"edge2\" class=\"edge\">\n",
       "<title>VideoRecording-&gt;model.EstimationTask</title>\n",
       "<path fill=\"none\" stroke=\"#000000\" stroke-width=\"0.75\" stroke-opacity=\"0.250980\" d=\"M67,-70.8C67,-59.95 67,-45.87 67,-35.05\"/>\n",
       "</g>\n",
       "<!-- session.Session&#45;&gt;VideoRecording -->\n",
       "<g id=\"edge3\" class=\"edge\">\n",
       "<title>session.Session-&gt;VideoRecording</title>\n",
       "<path fill=\"none\" stroke=\"#000000\" stroke-width=\"0.75\" stroke-opacity=\"0.250980\" d=\"M67,-141.8C67,-130.95 67,-116.87 67,-106.05\"/>\n",
       "</g>\n",
       "</g>\n",
       "</svg>"
      ],
      "text/plain": [
       "<datajoint.diagram.Diagram at 0x7fde2971faf0>"
      ]
     },
     "execution_count": 16,
     "metadata": {},
     "output_type": "execute_result"
    }
   ],
   "source": [
    "from workflow_deeplabcut.pipeline import VideoRecording\n",
    "# plot diagram of selected tables and schemas\n",
    "(dj.Diagram(subject.Subject) + dj.Diagram(session.Session) \n",
    " + dj.Diagram(VideoRecording) \n",
    " + dj.Diagram(model.EstimationTask)) "
   ]
  },
  {
   "cell_type": "code",
   "execution_count": 17,
   "metadata": {
    "title": "Each datajoint table class inside the module corresponds to a table inside the schema. For example, the class `ephys.EphysRecording` correponds to the table `_ephys_recording` in the schema `neuro_ephys` in the database."
   },
   "outputs": [
    {
     "data": {
      "text/html": [
       "\n",
       "    \n",
       "    <style type=\"text/css\">\n",
       "        .Relation{\n",
       "            border-collapse:collapse;\n",
       "        }\n",
       "        .Relation th{\n",
       "            background: #A0A0A0; color: #ffffff; padding:4px; border:#f0e0e0 1px solid;\n",
       "            font-weight: normal; font-family: monospace; font-size: 100%;\n",
       "        }\n",
       "        .Relation td{\n",
       "            padding:4px; border:#f0e0e0 1px solid; font-size:100%;\n",
       "        }\n",
       "        .Relation tr:nth-child(odd){\n",
       "            background: #ffffff;\n",
       "        }\n",
       "        .Relation tr:nth-child(even){\n",
       "            background: #f3f1ff;\n",
       "        }\n",
       "        /* Tooltip container */\n",
       "        .djtooltip {\n",
       "        }\n",
       "        /* Tooltip text */\n",
       "        .djtooltip .djtooltiptext {\n",
       "            visibility: hidden;\n",
       "            width: 120px;\n",
       "            background-color: black;\n",
       "            color: #fff;\n",
       "            text-align: center;\n",
       "            padding: 5px 0;\n",
       "            border-radius: 6px;\n",
       "            /* Position the tooltip text - see examples below! */\n",
       "            position: absolute;\n",
       "            z-index: 1;\n",
       "        }\n",
       "        #primary {\n",
       "            font-weight: bold;\n",
       "            color: black;\n",
       "        }\n",
       "        #nonprimary {\n",
       "            font-weight: normal;\n",
       "            color: white;\n",
       "        }\n",
       "\n",
       "        /* Show the tooltip text when you mouse over the tooltip container */\n",
       "        .djtooltip:hover .djtooltiptext {\n",
       "            visibility: visible;\n",
       "        }\n",
       "    </style>\n",
       "    \n",
       "    <b></b>\n",
       "        <div style=\"max-height:1000px;max-width:1500px;overflow:auto;\">\n",
       "        <table border=\"1\" class=\"Relation\">\n",
       "            <thead> <tr style=\"text-align: right;\"> <th> <div class=\"djtooltip\">\n",
       "                            <p id=\"primary\">subject</p>\n",
       "                            <span class=\"djtooltiptext\"></span>\n",
       "                        </div></th><th><div class=\"djtooltip\">\n",
       "                            <p id=\"primary\">session_datetime</p>\n",
       "                            <span class=\"djtooltiptext\"></span>\n",
       "                        </div></th><th><div class=\"djtooltip\">\n",
       "                            <p id=\"primary\">camera_id</p>\n",
       "                            <span class=\"djtooltiptext\"></span>\n",
       "                        </div></th><th><div class=\"djtooltip\">\n",
       "                            <p id=\"primary\">recording_id</p>\n",
       "                            <span class=\"djtooltiptext\"></span>\n",
       "                        </div></th><th><div class=\"djtooltip\">\n",
       "                            <p id=\"primary\">file_path</p>\n",
       "                            <span class=\"djtooltiptext\">filepath of video, relative to root data directory</span>\n",
       "                        </div> </th> </tr> </thead>\n",
       "            <tbody> <tr>  </tr> </tbody>\n",
       "        </table>\n",
       "        \n",
       "        <p>Total: 0</p></div>\n",
       "        "
      ],
      "text/plain": [
       "*subject    *session_datet *camera_id    *recording_id  *file_path   \n",
       "+---------+ +------------+ +-----------+ +------------+ +-----------+\n",
       "\n",
       " (Total: 0)"
      ]
     },
     "execution_count": 17,
     "metadata": {},
     "output_type": "execute_result"
    }
   ],
   "source": [
    "# preview columns and contents in a table\n",
    "VideoRecording.File()"
   ]
  },
  {
   "cell_type": "markdown",
   "metadata": {
    "lines_to_next_cell": 0,
    "title": "`heading`:"
   },
   "source": [
    "`describe()` shows table definition with foreign key references"
   ]
  },
  {
   "cell_type": "code",
   "execution_count": 18,
   "metadata": {},
   "outputs": [
    {
     "name": "stdout",
     "output_type": "stream",
     "text": [
      "# Specification for a DLC model training instance\n",
      "-> train.VideoSet\n",
      "-> train.TrainingParamSet\n",
      "training_id          : int                          \n",
      "---\n",
      "model_prefix=\"\"      : varchar(32)                  \n",
      "project_path=\"\"      : varchar(255)                 # DLC's project_path in config relative to root\n",
      "\n"
     ]
    },
    {
     "data": {
      "text/plain": [
       "'# Specification for a DLC model training instance\\n-> train.VideoSet\\n-> train.TrainingParamSet\\ntraining_id          : int                          \\n---\\nmodel_prefix=\"\"      : varchar(32)                  \\nproject_path=\"\"      : varchar(255)                 # DLC\\'s project_path in config relative to root\\n'"
      ]
     },
     "execution_count": 18,
     "metadata": {},
     "output_type": "execute_result"
    }
   ],
   "source": [
    "train.TrainingTask.describe()"
   ]
  },
  {
   "cell_type": "markdown",
   "metadata": {},
   "source": [
    "`heading` shows attribute definitions regardless of foreign key references"
   ]
  },
  {
   "cell_type": "code",
   "execution_count": 19,
   "metadata": {
    "title": "`heading`: show table attributes regardless of foreign key references."
   },
   "outputs": [
    {
     "data": {
      "text/plain": [
       "# \n",
       "model_name           : varchar(64)                  # user-friendly model name\n",
       "---\n",
       "task                 : varchar(32)                  # task in the config yaml\n",
       "date                 : varchar(16)                  # date in the config yaml\n",
       "iteration            : int                          # iteration/version of this model\n",
       "snapshotindex        : int                          # which snapshot for prediction (if -1, latest)\n",
       "shuffle              : int                          # which shuffle of the training dataset\n",
       "trainingsetindex     : int                          # which training set fraction to generate model\n",
       "scorer               : varchar(64)                  # scorer/network name - DLC's GetScorerName()\n",
       "config_template      : longblob                     # dictionary of the config for analyze_videos()\n",
       "project_path         : varchar(255)                 # DLC's project_path in config relative to root\n",
       "model_prefix=\"\"      : varchar(32)                  # \n",
       "model_description=\"\" : varchar(1000)                # \n",
       "paramset_idx=null    : smallint                     # "
      ]
     },
     "execution_count": 19,
     "metadata": {},
     "output_type": "execute_result"
    }
   ],
   "source": [
    "model.Model.heading"
   ]
  },
  {
   "cell_type": "markdown",
   "metadata": {
    "title": "ephys"
   },
   "source": [
    "## Other Elements installed with the workflow\n",
    "\n",
    "[`lab`](https://github.com/datajoint/element-lab): lab management related information, such as Lab, User, Project, Protocol, Source."
   ]
  },
  {
   "cell_type": "code",
   "execution_count": null,
   "metadata": {},
   "outputs": [],
   "source": [
    "dj.Diagram(lab)"
   ]
  },
  {
   "cell_type": "markdown",
   "metadata": {},
   "source": [
    "[`subject`](https://github.com/datajoint/element-animal): general animal information, User, Genetic background, Death etc."
   ]
  },
  {
   "cell_type": "code",
   "execution_count": null,
   "metadata": {},
   "outputs": [],
   "source": [
    "dj.Diagram(subject)"
   ]
  },
  {
   "cell_type": "code",
   "execution_count": 15,
   "metadata": {
    "title": "[subject](https://github.com/datajoint/element-animal): contains the basic information of subject, including Strain, Line, Subject, Zygosity, and SubjectDeath information."
   },
   "outputs": [
    {
     "name": "stdout",
     "output_type": "stream",
     "text": [
      "# Animal Subject\n",
      "subject              : varchar(32)                  \n",
      "---\n",
      "sex                  : enum('M','F','U')            \n",
      "subject_birth_date   : date                         \n",
      "subject_description=\"\" : varchar(1024)                \n",
      "\n"
     ]
    }
   ],
   "source": [
    "subject.Subject.describe();"
   ]
  },
  {
   "cell_type": "markdown",
   "metadata": {},
   "source": [
    "[`session`](https://github.com/datajoint/element-session): General information of experimental sessions."
   ]
  },
  {
   "cell_type": "code",
   "execution_count": 16,
   "metadata": {},
   "outputs": [
    {
     "data": {
      "image/svg+xml": [
       "<svg xmlns=\"http://www.w3.org/2000/svg\" xmlns:xlink=\"http://www.w3.org/1999/xlink\" width=\"662pt\" height=\"114pt\" viewBox=\"0.00 0.00 662.00 114.00\">\n",
       "<g id=\"graph0\" class=\"graph\" transform=\"scale(1 1) rotate(0) translate(4 110)\">\n",
       "<polygon fill=\"white\" stroke=\"transparent\" points=\"-4,4 -4,-110 658,-110 658,4 -4,4\"/>\n",
       "<!-- session.SessionDirectory -->\n",
       "<g id=\"node1\" class=\"node\">\n",
       "<title>session.SessionDirectory</title>\n",
       "<g id=\"a_node1\"><a xlink:title=\"→ session.Session\r",
       "------------------------------\r",
       "session_dir          \r",
       "\">\n",
       "<polygon fill=\"#00ff00\" fill-opacity=\"0.188235\" stroke=\"#00ff00\" stroke-opacity=\"0.188235\" points=\"152,-35 0,-35 0,0 152,0 152,-35\"/>\n",
       "<text text-anchor=\"middle\" x=\"76\" y=\"-14.4\" font-family=\"arial\" font-size=\"12.00\" fill=\"darkgreen\">session.SessionDirectory</text>\n",
       "</a>\n",
       "</g>\n",
       "</g>\n",
       "<!-- session.ProjectSession -->\n",
       "<g id=\"node2\" class=\"node\">\n",
       "<title>session.ProjectSession</title>\n",
       "<g id=\"a_node2\"><a xlink:title=\"→ lab.Project\r",
       "→ session.Session\r",
       "\">\n",
       "<polygon fill=\"#00ff00\" fill-opacity=\"0.188235\" stroke=\"#00ff00\" stroke-opacity=\"0.188235\" points=\"312,-35 170,-35 170,0 312,0 312,-35\"/>\n",
       "<text text-anchor=\"middle\" x=\"241\" y=\"-14.4\" font-family=\"arial\" font-size=\"12.00\" fill=\"darkgreen\">session.ProjectSession</text>\n",
       "</a>\n",
       "</g>\n",
       "</g>\n",
       "<!-- session.Session -->\n",
       "<g id=\"node3\" class=\"node\">\n",
       "<title>session.Session</title>\n",
       "<g id=\"a_node3\"><a xlink:title=\"→ subject.Subject\r",
       "session_datetime     \r",
       "\">\n",
       "<polygon fill=\"#00ff00\" fill-opacity=\"0.188235\" stroke=\"#00ff00\" stroke-opacity=\"0.188235\" points=\"370,-106 266,-106 266,-71 370,-71 370,-106\"/>\n",
       "<text text-anchor=\"start\" x=\"274\" y=\"-86.4\" font-family=\"arial\" text-decoration=\"underline\" font-size=\"12.00\" fill=\"darkgreen\">session.Session</text>\n",
       "</a>\n",
       "</g>\n",
       "</g>\n",
       "<!-- session.Session&#45;&gt;session.SessionDirectory -->\n",
       "<g id=\"edge1\" class=\"edge\">\n",
       "<title>session.Session-&gt;session.SessionDirectory</title>\n",
       "<path fill=\"none\" stroke=\"#000000\" stroke-width=\"2\" stroke-opacity=\"0.250980\" d=\"M265.79,-72.61C227.02,-61.56 174.15,-46.48 134.05,-35.05\"/>\n",
       "</g>\n",
       "<!-- session.Session&#45;&gt;session.ProjectSession -->\n",
       "<g id=\"edge2\" class=\"edge\">\n",
       "<title>session.Session-&gt;session.ProjectSession</title>\n",
       "<path fill=\"none\" stroke=\"#000000\" stroke-width=\"0.75\" stroke-opacity=\"0.250980\" d=\"M299.36,-70.8C287.25,-59.95 271.54,-45.87 259.47,-35.05\"/>\n",
       "</g>\n",
       "<!-- session.SessionNote -->\n",
       "<g id=\"node4\" class=\"node\">\n",
       "<title>session.SessionNote</title>\n",
       "<g id=\"a_node4\"><a xlink:title=\"→ session.Session\r",
       "------------------------------\r",
       "session_note         \r",
       "\">\n",
       "<polygon fill=\"#00ff00\" fill-opacity=\"0.188235\" stroke=\"#00ff00\" stroke-opacity=\"0.188235\" points=\"460,-35 330,-35 330,0 460,0 460,-35\"/>\n",
       "<text text-anchor=\"middle\" x=\"395\" y=\"-14.4\" font-family=\"arial\" font-size=\"12.00\" fill=\"darkgreen\">session.SessionNote</text>\n",
       "</a>\n",
       "</g>\n",
       "</g>\n",
       "<!-- session.Session&#45;&gt;session.SessionNote -->\n",
       "<g id=\"edge3\" class=\"edge\">\n",
       "<title>session.Session-&gt;session.SessionNote</title>\n",
       "<path fill=\"none\" stroke=\"#000000\" stroke-width=\"2\" stroke-opacity=\"0.250980\" d=\"M336.64,-70.8C348.75,-59.95 364.46,-45.87 376.53,-35.05\"/>\n",
       "</g>\n",
       "<!-- session.SessionExperimenter -->\n",
       "<g id=\"node5\" class=\"node\">\n",
       "<title>session.SessionExperimenter</title>\n",
       "<g id=\"a_node5\"><a xlink:title=\"→ session.Session\r",
       "→ lab.User\r",
       "\">\n",
       "<polygon fill=\"#00ff00\" fill-opacity=\"0.188235\" stroke=\"#00ff00\" stroke-opacity=\"0.188235\" points=\"654,-35 478,-35 478,0 654,0 654,-35\"/>\n",
       "<text text-anchor=\"middle\" x=\"566\" y=\"-14.4\" font-family=\"arial\" font-size=\"12.00\" fill=\"darkgreen\">session.SessionExperimenter</text>\n",
       "</a>\n",
       "</g>\n",
       "</g>\n",
       "<!-- session.Session&#45;&gt;session.SessionExperimenter -->\n",
       "<g id=\"edge4\" class=\"edge\">\n",
       "<title>session.Session-&gt;session.SessionExperimenter</title>\n",
       "<path fill=\"none\" stroke=\"#000000\" stroke-width=\"0.75\" stroke-opacity=\"0.250980\" d=\"M370.29,-72.95C410.08,-61.88 464.88,-46.63 506.38,-35.09\"/>\n",
       "</g>\n",
       "</g>\n",
       "</svg>"
      ],
      "text/plain": [
       "<datajoint.diagram.Diagram at 0x7fdb2d1f6370>"
      ]
     },
     "execution_count": 16,
     "metadata": {},
     "output_type": "execute_result"
    }
   ],
   "source": [
    "dj.Diagram(session)"
   ]
  },
  {
   "cell_type": "code",
   "execution_count": 17,
   "metadata": {
    "title": "[session](https://github.com/datajoint/element-session): experimental session information"
   },
   "outputs": [
    {
     "name": "stdout",
     "output_type": "stream",
     "text": [
      "-> subject.Subject\n",
      "session_datetime     : datetime(3)                  \n",
      "\n"
     ]
    }
   ],
   "source": [
    "session.Session.describe();"
   ]
  },
  {
   "cell_type": "markdown",
   "metadata": {},
   "source": [
    "## Summary and next step\n",
    "\n",
    "- This notebook introduced the overall structures of the schemas and tables in the workflow and relevant tools to explore the schema structure and table definitions.\n",
    "\n",
    "- The [next notebook](./03-Process.ipynb) will introduce the detailed steps to run through `workflow-deeplabcut`."
   ]
  }
 ],
 "metadata": {
  "jupytext": {
   "encoding": "# -*- coding: utf-8 -*-",
   "formats": "ipynb,py:percent"
  },
  "kernelspec": {
   "display_name": "venv-dlc",
   "language": "python",
   "name": "venv-dlc"
  },
  "language_info": {
   "codemirror_mode": {
    "name": "ipython",
    "version": 3
   },
   "file_extension": ".py",
   "mimetype": "text/x-python",
   "name": "python",
   "nbconvert_exporter": "python",
   "pygments_lexer": "ipython3",
   "version": "3.8.12"
  }
 },
 "nbformat": 4,
 "nbformat_minor": 4
}
